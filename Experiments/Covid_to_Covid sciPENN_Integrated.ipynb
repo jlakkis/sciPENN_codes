{
 "cells": [
  {
   "cell_type": "code",
   "execution_count": 1,
   "metadata": {},
   "outputs": [],
   "source": [
    "%load_ext autoreload\n",
    "%autoreload 2\n",
    "\n",
    "import numpy as np\n",
    "from matplotlib import pyplot\n",
    "import os\n",
    "from copy import deepcopy\n",
    "\n",
    "from time import time\n",
    "\n",
    "from math import ceil\n",
    "from scipy.stats import spearmanr, gamma, poisson, norm\n",
    "from scipy.sparse import csc_matrix\n",
    "\n",
    "from anndata import AnnData, read_h5ad\n",
    "import scanpy as sc\n",
    "from scanpy import read\n",
    "import pandas as pd\n",
    "import seaborn as sns\n",
    "\n",
    "from torch.utils.data import DataLoader, TensorDataset\n",
    "from torch import tensor\n",
    "from torch.cuda import is_available\n",
    "\n",
    "from sciPENN.sciPENN_API import sciPENN_API"
   ]
  },
  {
   "cell_type": "code",
   "execution_count": 2,
   "metadata": {},
   "outputs": [],
   "source": [
    "adata_covid19 = read_h5ad(\"../Data/immunodeficiency_covid_PMBCs.h5ad\")"
   ]
  },
  {
   "cell_type": "code",
   "execution_count": 3,
   "metadata": {},
   "outputs": [],
   "source": [
    "back_to_counts = np.round(2**adata_covid19.X.toarray().astype('float32') - 1)\n",
    "adata_covid19.X = csc_matrix(back_to_counts)\n",
    "back_to_counts = None"
   ]
  },
  {
   "cell_type": "code",
   "execution_count": 4,
   "metadata": {},
   "outputs": [],
   "source": [
    "adata_gene_test = adata_covid19[:, adata_covid19.var[\"feature_types\"] == \"Gene Expression\"].copy()\n",
    "adata_protein_test = adata_covid19[:, adata_covid19.var[\"feature_types\"] == \"Antibody Capture\"].copy()\n",
    "del adata_covid19"
   ]
  },
  {
   "cell_type": "code",
   "execution_count": 5,
   "metadata": {},
   "outputs": [],
   "source": [
    "adata_covid19 = read_h5ad('../Covid_Combined_SCE_raw.h5ad')"
   ]
  },
  {
   "cell_type": "code",
   "execution_count": 6,
   "metadata": {},
   "outputs": [],
   "source": [
    "adata_covid19.X = adata_covid19.X.astype('float32')\n",
    "adata_gene_train = adata_covid19[:, adata_covid19.var[\"feature_types\"] == \"Gene Expression\"].copy()\n",
    "adata_protein_train = adata_covid19[:, adata_covid19.var[\"feature_types\"] == \"Antibody Capture\"].copy()\n",
    "del adata_covid19"
   ]
  },
  {
   "cell_type": "code",
   "execution_count": 7,
   "metadata": {},
   "outputs": [],
   "source": [
    "adata_protein_train.var.index = [x[3:] for x in adata_protein_train.var.index]\n",
    "adata_protein_test.var.index = [x[3:] for x in adata_protein_test.var.index]"
   ]
  },
  {
   "cell_type": "code",
   "execution_count": 8,
   "metadata": {},
   "outputs": [],
   "source": [
    "imputed_match, train_names = pd.read_csv(\"../Data/matched_proteins.csv\", header = None).to_numpy().T\n",
    "\n",
    "mapping = {key: value for key, value in zip(train_names, imputed_match)}\n",
    "\n",
    "tmp = adata_protein_test.var.index.values\n",
    "\n",
    "for i in range(len(tmp)):\n",
    "    if tmp[i] in mapping:\n",
    "        tmp[i] = mapping[tmp[i]]\n",
    "        \n",
    "adata_protein_test.var.index = tmp"
   ]
  },
  {
   "cell_type": "code",
   "execution_count": 9,
   "metadata": {},
   "outputs": [
    {
     "data": {
      "text/plain": [
       "array(['B7-H4', 'BAFF', 'BAFFR', 'BTLA', 'CCR3', 'CCR4', 'CCR5', 'CCR6',\n",
       "       'CCR7', 'CD101', 'CD123', 'CD14', 'CD141', 'CD15', 'CD158',\n",
       "       'CD158b', 'CD16', 'CD161', 'CD163', 'CD19', 'CD1C', 'CD1a', 'CD1d',\n",
       "       'CD2', 'CD20', 'CD209', 'CD21', 'CD22', 'CD226', 'CD235ab', 'CD24',\n",
       "       'CD244', 'CD25', 'CD27', 'CD274', 'CD28', 'CD3', 'CD303', 'CD304',\n",
       "       'CD33', 'CD34', 'CD36', 'CD38', 'CD4', 'CD40', 'CD44', 'CD45',\n",
       "       'CD45RA', 'CD45RO', 'CD47', 'CD5', 'CD52', 'CD56', 'CD58', 'CD62L',\n",
       "       'CD64', 'CD69', 'CD7', 'CD70', 'CD71', 'CD79b', 'CD8', 'CD80',\n",
       "       'CD81', 'CD82', 'CD83', 'CD86', 'CD96', 'CD99', 'CLEC12A',\n",
       "       'CLEC9A', 'CTLA4', 'CX3CR1', 'CXCR3', 'CXCR4', 'CXCR5', 'DR3',\n",
       "       'FAS', 'FCRL4', 'FCRL5', 'FcERIa', 'HLA-ABC', 'HLA-A_2', 'HLA-DR',\n",
       "       'HLA-F', 'IL2RB', 'IL4R', 'IL7R', 'IgA', 'IgD', 'IgM', 'KIR2DL5A',\n",
       "       'KIR3DL1', 'LAG3', 'LAMP1', 'Mouse IgG1_K_Iso',\n",
       "       'Mouse_IgG2a_K_Iso', 'Mouse_IgG2b_K_Iso', 'NECTIN2', 'NLRP2',\n",
       "       'PD1', 'Podocalyxin', 'TACI', 'TCR', 'TCR_Va7.2', 'TSLPR', 'XCR1',\n",
       "       'c-Met', 'phosphoTau', 'podoplanin'], dtype=object)"
      ]
     },
     "execution_count": 9,
     "metadata": {},
     "output_type": "execute_result"
    }
   ],
   "source": [
    "train_proteins = adata_protein_train.var.index\n",
    "test_proteins = adata_protein_test.var.index\n",
    "\n",
    "all_proteins = np.intersect1d(train_proteins, test_proteins)\n",
    "all_proteins"
   ]
  },
  {
   "cell_type": "code",
   "execution_count": 10,
   "metadata": {},
   "outputs": [],
   "source": [
    "np.random.seed(123)\n",
    "common = np.random.choice(all_proteins, len(all_proteins)//3, False)\n",
    "proteins2 = np.setdiff1d(all_proteins, common)\n",
    "proteins1 = np.random.choice(proteins2, len(proteins2)//2, False)\n",
    "proteins2 = np.setdiff1d(proteins2, proteins1)\n",
    "\n",
    "testset1_truth_ = adata_protein_train[:, proteins2].copy()\n",
    "testset2_truth_ = adata_protein_test[:, proteins1].copy()\n",
    "\n",
    "adata_protein_train = adata_protein_train[:, list(proteins1) + list(common)].copy()\n",
    "adata_protein_test = adata_protein_test[:, list(proteins2) + list(common)].copy()"
   ]
  },
  {
   "cell_type": "code",
   "execution_count": 11,
   "metadata": {},
   "outputs": [
    {
     "name": "stdout",
     "output_type": "stream",
     "text": [
      "Searching for GPU\n",
      "GPU detected, using GPU\n",
      "\n",
      "QC Filtering Training Cells\n",
      "\n",
      "QC Filtering Training Genes\n",
      "\n",
      "Normalizing Training Cells\n",
      "\n",
      "Log-Normalizing Training Data\n"
     ]
    },
    {
     "name": "stderr",
     "output_type": "stream",
     "text": [
      "/home/jlakkis/miniconda3/envs/scipen/lib/python3.7/site-packages/anndata/_core/merge.py:894: UserWarning: Only some AnnData objects have `.raw` attribute, not concatenating `.raw` attributes.\n",
      "  UserWarning,\n"
     ]
    },
    {
     "name": "stdout",
     "output_type": "stream",
     "text": [
      "\n",
      "Finding HVGs\n"
     ]
    },
    {
     "name": "stderr",
     "output_type": "stream",
     "text": [
      "... storing 'sample_id' as categorical\n",
      "... storing 'full_clustering' as categorical\n",
      "... storing 'initial_clustering' as categorical\n",
      "... storing 'Resample' as categorical\n",
      "... storing 'Collection_Day' as categorical\n",
      "... storing 'Sex' as categorical\n",
      "... storing 'Age_interval' as categorical\n",
      "... storing 'Swab_result' as categorical\n",
      "... storing 'Status' as categorical\n",
      "... storing 'Smoker' as categorical\n",
      "... storing 'Status_on_day_collection' as categorical\n",
      "... storing 'Status_on_day_collection_summary' as categorical\n",
      "... storing 'Site' as categorical\n",
      "... storing 'time_after_LPS' as categorical\n",
      "... storing 'Woest_Clinical_Status' as categorical\n",
      "... storing 'Outcome' as categorical\n",
      "... storing 'patient_id' as categorical\n",
      "... storing 'Days_from_onset' as categorical\n",
      "... storing 'batch' as categorical\n",
      "... storing 'Dataset' as categorical\n",
      "... storing 'PreCondition' as categorical\n",
      "... storing 'Hospitalized' as categorical\n",
      "... storing 'Disease_classification' as categorical\n",
      "... storing 'Deconvolved_samples' as categorical\n",
      "... storing 'CellType' as categorical\n",
      "... storing 'Lab number' as categorical\n",
      "... storing 'Donor Id' as categorical\n",
      "... storing 'Age' as categorical\n",
      "... storing 'Race' as categorical\n",
      "... storing 'Ethnicity' as categorical\n",
      "... storing 'BMI' as categorical\n",
      "... storing 'Pre-existing heart disease' as categorical\n",
      "... storing 'Pre-existing lung disease' as categorical\n",
      "... storing 'Pre-existing kidney disease' as categorical\n",
      "... storing 'Pre-existing diabetes' as categorical\n",
      "... storing 'Pre-existing Hypertension' as categorical\n",
      "... storing 'Pre-existing immunocompromised condition' as categorical\n",
      "... storing 'Smoking' as categorical\n",
      "... storing 'SARS-CoV-2 PCR' as categorical\n",
      "... storing 'SARS-CoV-2 Ab' as categorical\n",
      "... storing 'Symptomatic' as categorical\n",
      "... storing 'Admitted to hospital' as categorical\n",
      "... storing 'Highest level of respiratory support' as categorical\n",
      "... storing 'Vasoactive agents required during hospitalization' as categorical\n",
      "... storing '28-day death' as categorical\n",
      "... storing 'Cell sorting' as categorical\n",
      "/home/jlakkis/miniconda3/envs/scipen/lib/python3.7/site-packages/pandas/core/indexing.py:670: SettingWithCopyWarning: \n",
      "A value is trying to be set on a copy of a slice from a DataFrame\n",
      "\n",
      "See the caveats in the documentation: https://pandas.pydata.org/pandas-docs/stable/user_guide/indexing.html#returning-a-view-versus-a-copy\n",
      "  iloc._setitem_with_indexer(indexer, value)\n"
     ]
    },
    {
     "name": "stdout",
     "output_type": "stream",
     "text": [
      "\n",
      "Normalizing Gene Training Data by Batch\n"
     ]
    },
    {
     "name": "stderr",
     "output_type": "stream",
     "text": [
      "100%|██████████| 154/154 [00:37<00:00,  4.13it/s]\n"
     ]
    },
    {
     "name": "stdout",
     "output_type": "stream",
     "text": [
      "\n",
      "Normalizing Protein Training Data by Batch\n"
     ]
    },
    {
     "name": "stderr",
     "output_type": "stream",
     "text": [
      "100%|██████████| 143/143 [00:33<00:00,  4.32it/s]\n",
      "100%|██████████| 11/11 [00:20<00:00,  1.85s/it]\n",
      "/home/jlakkis/miniconda3/envs/scipen/lib/python3.7/site-packages/anndata/_core/merge.py:894: UserWarning: Only some AnnData objects have `.raw` attribute, not concatenating `.raw` attributes.\n",
      "  UserWarning,\n"
     ]
    }
   ],
   "source": [
    "start = time()\n",
    "sciPENN = sciPENN_API([adata_gene_train, adata_gene_test], [adata_protein_train, adata_protein_test],\n",
    "                    train_batchkeys = ['sample_id', 'Donor Id'])"
   ]
  },
  {
   "cell_type": "code",
   "execution_count": 12,
   "metadata": {},
   "outputs": [
    {
     "data": {
      "text/plain": [
       "684.2761077880859"
      ]
     },
     "execution_count": 12,
     "metadata": {},
     "output_type": "execute_result"
    }
   ],
   "source": [
    "sciPENN.train(n_epochs = 10000, ES_max = 12, decay_max = 6, \n",
    "             decay_step = 0.1, lr = 10**(-3), weights_dir = \"weights_dir/covid_to_covidI2\")\n",
    "\n",
    "time() - start"
   ]
  },
  {
   "cell_type": "code",
   "execution_count": 13,
   "metadata": {},
   "outputs": [],
   "source": [
    "imputed_test = sciPENN.impute()"
   ]
  },
  {
   "cell_type": "code",
   "execution_count": 14,
   "metadata": {},
   "outputs": [
    {
     "name": "stderr",
     "output_type": "stream",
     "text": [
      "... storing 'sample_id' as categorical\n",
      "... storing 'full_clustering' as categorical\n",
      "... storing 'initial_clustering' as categorical\n",
      "... storing 'Resample' as categorical\n",
      "... storing 'Collection_Day' as categorical\n",
      "... storing 'Sex' as categorical\n",
      "... storing 'Age_interval' as categorical\n",
      "... storing 'Swab_result' as categorical\n",
      "... storing 'Status' as categorical\n",
      "... storing 'Smoker' as categorical\n",
      "... storing 'Status_on_day_collection' as categorical\n",
      "... storing 'Status_on_day_collection_summary' as categorical\n",
      "... storing 'Site' as categorical\n",
      "... storing 'time_after_LPS' as categorical\n",
      "... storing 'Woest_Clinical_Status' as categorical\n",
      "... storing 'Outcome' as categorical\n",
      "... storing 'patient_id' as categorical\n",
      "... storing 'Days_from_onset' as categorical\n",
      "... storing 'batch' as categorical\n",
      "... storing 'Dataset' as categorical\n",
      "... storing 'PreCondition' as categorical\n",
      "... storing 'Hospitalized' as categorical\n",
      "... storing 'Disease_classification' as categorical\n",
      "... storing 'Deconvolved_samples' as categorical\n",
      "... storing 'CellType' as categorical\n",
      "... storing 'Lab number' as categorical\n",
      "... storing 'Donor Id' as categorical\n",
      "... storing 'Age' as categorical\n",
      "... storing 'Race' as categorical\n",
      "... storing 'Ethnicity' as categorical\n",
      "... storing 'BMI' as categorical\n",
      "... storing 'Pre-existing heart disease' as categorical\n",
      "... storing 'Pre-existing lung disease' as categorical\n",
      "... storing 'Pre-existing kidney disease' as categorical\n",
      "... storing 'Pre-existing diabetes' as categorical\n",
      "... storing 'Pre-existing Hypertension' as categorical\n",
      "... storing 'Pre-existing immunocompromised condition' as categorical\n",
      "... storing 'Smoking' as categorical\n",
      "... storing 'SARS-CoV-2 PCR' as categorical\n",
      "... storing 'SARS-CoV-2 Ab' as categorical\n",
      "... storing 'Symptomatic' as categorical\n",
      "... storing 'Admitted to hospital' as categorical\n",
      "... storing 'Highest level of respiratory support' as categorical\n",
      "... storing 'Vasoactive agents required during hospitalization' as categorical\n",
      "... storing '28-day death' as categorical\n",
      "... storing 'Cell sorting' as categorical\n"
     ]
    }
   ],
   "source": [
    "embedding = sciPENN.embed()\n",
    "embedding.write(\"scipenn_covidintegrateembedding.h5ad\")"
   ]
  },
  {
   "cell_type": "code",
   "execution_count": 15,
   "metadata": {},
   "outputs": [],
   "source": [
    "test_pro2 = imputed_test.var.index[[x and (not y) for x, y in zip(imputed_test.var['Dataset 1'], imputed_test.var['Dataset 2'])]]\n",
    "test_set2imputed = imputed_test[imputed_test.obs['Dataset'] == 'Dataset 2', test_pro2]\n",
    "\n",
    "test_pro1 = imputed_test.var.index[[x and (not y) for x, y in zip(imputed_test.var['Dataset 2'], imputed_test.var['Dataset 1'])]]\n",
    "test_set1imputed = imputed_test[imputed_test.obs['Dataset'] == 'Dataset 1', test_pro1]"
   ]
  },
  {
   "cell_type": "code",
   "execution_count": 16,
   "metadata": {},
   "outputs": [],
   "source": [
    "test_set1truth = testset1_truth_.copy()\n",
    "test_set2truth = testset2_truth_.copy()\n",
    "\n",
    "test_set1truth.obs.index = [x + \"-0\" for x in test_set1truth.obs.index]\n",
    "test_set1truth = test_set1truth[test_set1imputed.obs.index, test_pro1].copy()\n",
    "\n",
    "test_set2truth.obs.index = [x + \"-1\" for x in test_set2truth.obs.index]\n",
    "test_set2truth = test_set2truth[test_set2imputed.obs.index, test_pro2].copy()"
   ]
  },
  {
   "cell_type": "code",
   "execution_count": 17,
   "metadata": {},
   "outputs": [],
   "source": [
    "def corr2_coeff(A, B, pearson = True):\n",
    "    if pearson:\n",
    "        # Rowwise mean of input arrays & subtract from input arrays themeselves\n",
    "        A_mA = A - A.mean(1)[:, None]\n",
    "        B_mB = B - B.mean(1)[:, None]\n",
    "\n",
    "        # Sum of squares across rows\n",
    "        ssA = (A_mA**2).sum(1)\n",
    "        ssB = (B_mB**2).sum(1)\n",
    "\n",
    "        # Finally get corr coeff\n",
    "        corr_mat = np.dot(A_mA, B_mB.T) / np.sqrt(np.dot(ssA[:, None],ssB[None]))\n",
    "        \n",
    "        return corr_mat[range(corr_mat.shape[0]), range(corr_mat.shape[0])]\n",
    "    \n",
    "    else:\n",
    "        corrs = [0.] * A.shape[0]\n",
    "        \n",
    "        for i in range(A.shape[0]):\n",
    "            corrs[i] = spearmanr(A[i], B[i])[0]\n",
    "            \n",
    "        return corrs"
   ]
  },
  {
   "cell_type": "code",
   "execution_count": 18,
   "metadata": {},
   "outputs": [
    {
     "name": "stderr",
     "output_type": "stream",
     "text": [
      "/home/jlakkis/miniconda3/envs/scipen/lib/python3.7/site-packages/scanpy/preprocessing/_simple.py:810: UserWarning: Revieved a view of an AnnData. Making a copy.\n",
      "  view_to_actual(adata)\n"
     ]
    }
   ],
   "source": [
    "\"\"\"Get test data\"\"\"\n",
    "\n",
    "tmp = test_set1truth.X.toarray()\n",
    "test_set1truth.X = tmp.copy()\n",
    "test_set1truth.layers[\"raw\"] = test_set1truth.X\n",
    "\n",
    "sc.pp.normalize_total(test_set1truth)\n",
    "sc.pp.log1p(test_set1truth)\n",
    "\n",
    "test_set1truth.layers['imputed'] = test_set1imputed.X\n",
    "test_set1truth.layers.update(test_set1imputed.layers)\n",
    "\n",
    "patients = np.unique(test_set1truth.obs['sample_id'].values)\n",
    "\n",
    "for patient in patients:\n",
    "    indices = [x == patient for x in test_set1truth.obs['sample_id']]\n",
    "    sub_adata = test_set1truth[indices]\n",
    "\n",
    "    sc.pp.scale(sub_adata)\n",
    "    test_set1truth[indices] = sub_adata.X"
   ]
  },
  {
   "cell_type": "code",
   "execution_count": 19,
   "metadata": {},
   "outputs": [],
   "source": [
    "\"\"\"Compute correlation across patients\"\"\"\n",
    "\n",
    "corrs = corr2_coeff(test_set1truth.layers[\"imputed\"].T, test_set1truth.X.T)\n",
    "corrs = pd.DataFrame(corrs)\n",
    "corrs.index = test_set1truth.var.index\n",
    "corrs = corrs.dropna()"
   ]
  },
  {
   "cell_type": "code",
   "execution_count": 20,
   "metadata": {},
   "outputs": [],
   "source": [
    "testset2_truth_.obs_names_make_unique()"
   ]
  },
  {
   "cell_type": "code",
   "execution_count": 21,
   "metadata": {},
   "outputs": [],
   "source": [
    "sq = lambda x, y: (x - y)**2"
   ]
  },
  {
   "cell_type": "code",
   "execution_count": 22,
   "metadata": {},
   "outputs": [
    {
     "name": "stderr",
     "output_type": "stream",
     "text": [
      "/home/jlakkis/miniconda3/envs/scipen/lib/python3.7/site-packages/ipykernel_launcher.py:12: RuntimeWarning: invalid value encountered in true_divide\n",
      "  if sys.path[0] == '':\n"
     ]
    }
   ],
   "source": [
    "\"\"\"Compute correlations within patient\"\"\"\n",
    "\n",
    "corrs_table = np.zeros((test_set1truth.shape[1], len(np.unique(test_set1truth.obs[\"sample_id\"]))))\n",
    "sq_table = corrs_table.copy()\n",
    "\n",
    "i = 0\n",
    "for patient in np.unique(test_set1truth.obs[\"sample_id\"]):\n",
    "    truth = test_set1truth[test_set1truth.obs[\"sample_id\"] == patient].X.copy()\n",
    "    imputed = test_set1truth.layers[\"imputed\"][test_set1truth.obs[\"sample_id\"] == patient].copy()\n",
    "\n",
    "    corrs_table[:, i] = corr2_coeff(truth.T, imputed.T)\n",
    "    sq_table[:, i] = sq(truth, imputed).mean(axis = 0)\n",
    "    i += 1\n",
    "\n",
    "if np.isnan(corrs_table).sum() > 0:\n",
    "    corrs_table[np.isnan(corrs_table)] = 0\n",
    "    \n",
    "corrs_table = pd.DataFrame(corrs_table)\n",
    "sq_table = pd.DataFrame(sq_table)\n",
    "corrs_table.index, corrs_table.columns = test_set1truth.var.index, np.unique(test_set1truth.obs[\"sample_id\"])\n",
    "sq_table.index, sq_table.columns = test_set1truth.var.index, np.unique(test_set1truth.obs[\"sample_id\"])"
   ]
  },
  {
   "cell_type": "code",
   "execution_count": 23,
   "metadata": {},
   "outputs": [
    {
     "data": {
      "text/plain": [
       "AP1              0.325986\n",
       "AP10             0.263195\n",
       "AP11             0.431721\n",
       "AP12             0.321762\n",
       "AP2              0.399153\n",
       "                   ...   \n",
       "newcastle21v2    0.205912\n",
       "newcastle49      0.172687\n",
       "newcastle59      0.200463\n",
       "newcastle65      0.214894\n",
       "newcastle74      0.207301\n",
       "Length: 143, dtype: float64"
      ]
     },
     "execution_count": 23,
     "metadata": {},
     "output_type": "execute_result"
    }
   ],
   "source": [
    "corrs_table.mean(axis = 0)"
   ]
  },
  {
   "cell_type": "code",
   "execution_count": 24,
   "metadata": {},
   "outputs": [
    {
     "data": {
      "text/plain": [
       "0.26130389046572183"
      ]
     },
     "execution_count": 24,
     "metadata": {},
     "output_type": "execute_result"
    }
   ],
   "source": [
    "corrs_table.mean().mean()"
   ]
  },
  {
   "cell_type": "code",
   "execution_count": 25,
   "metadata": {},
   "outputs": [],
   "source": [
    "corrs_table.to_csv('corrs_results/scipenn_covidintegratebig.csv')"
   ]
  },
  {
   "cell_type": "code",
   "execution_count": 26,
   "metadata": {},
   "outputs": [
    {
     "data": {
      "text/plain": [
       "AP1              0.849597\n",
       "AP10             0.903663\n",
       "AP11             0.758820\n",
       "AP12             0.834841\n",
       "AP2              0.824120\n",
       "                   ...   \n",
       "newcastle21v2    0.941082\n",
       "newcastle49      0.977556\n",
       "newcastle59      0.951111\n",
       "newcastle65      0.926905\n",
       "newcastle74      0.940298\n",
       "Length: 143, dtype: float64"
      ]
     },
     "execution_count": 26,
     "metadata": {},
     "output_type": "execute_result"
    }
   ],
   "source": [
    "sq_table.mean(axis = 0)"
   ]
  },
  {
   "cell_type": "code",
   "execution_count": 27,
   "metadata": {},
   "outputs": [
    {
     "data": {
      "text/plain": [
       "0.8716399209566646"
      ]
     },
     "execution_count": 27,
     "metadata": {},
     "output_type": "execute_result"
    }
   ],
   "source": [
    "sq_table.mean().mean()"
   ]
  },
  {
   "cell_type": "code",
   "execution_count": 28,
   "metadata": {},
   "outputs": [],
   "source": [
    "sq_table.to_csv('mse_results/scipenn_covidintegratebig.csv')"
   ]
  },
  {
   "cell_type": "code",
   "execution_count": 29,
   "metadata": {},
   "outputs": [
    {
     "name": "stdout",
     "output_type": "stream",
     "text": [
      "Effective Coverage Probability for Nominal 50% PI: 0.458\n"
     ]
    }
   ],
   "source": [
    "r95 = (test_set1truth.X < test_set1truth.layers['q75'])\n",
    "l95 = (test_set1truth.X > test_set1truth.layers['q25'])\n",
    "\n",
    "print(f\"Effective Coverage Probability for Nominal 50% PI: {(r95*l95).mean():.3f}\")"
   ]
  },
  {
   "cell_type": "code",
   "execution_count": 30,
   "metadata": {},
   "outputs": [
    {
     "name": "stdout",
     "output_type": "stream",
     "text": [
      "Effective Coverage Probability for Nominal 80% PI: 0.738\n"
     ]
    }
   ],
   "source": [
    "r95 = (test_set1truth.X < test_set1truth.layers['q90'])\n",
    "l95 = (test_set1truth.X > test_set1truth.layers['q10'])\n",
    "\n",
    "print(f\"Effective Coverage Probability for Nominal 80% PI: {(r95*l95).mean():.3f}\")"
   ]
  },
  {
   "cell_type": "code",
   "execution_count": 31,
   "metadata": {},
   "outputs": [],
   "source": [
    "test_set1truth.write(\"scipenn_covidintegratebig.h5ad\")"
   ]
  },
  {
   "cell_type": "code",
   "execution_count": 32,
   "metadata": {},
   "outputs": [
    {
     "name": "stderr",
     "output_type": "stream",
     "text": [
      "/home/jlakkis/miniconda3/envs/scipen/lib/python3.7/site-packages/scanpy/preprocessing/_simple.py:810: UserWarning: Revieved a view of an AnnData. Making a copy.\n",
      "  view_to_actual(adata)\n"
     ]
    }
   ],
   "source": [
    "\"\"\"Get test data\"\"\"\n",
    "\n",
    "tmp = test_set2truth.X.toarray()\n",
    "test_set2truth.X = tmp.copy()\n",
    "test_set2truth.layers[\"raw\"] = test_set2truth.X\n",
    "\n",
    "sc.pp.normalize_total(test_set2truth)\n",
    "sc.pp.log1p(test_set2truth)\n",
    "\n",
    "test_set2truth.layers['imputed'] = test_set2imputed.X\n",
    "test_set2truth.layers.update(test_set2imputed.layers)\n",
    "\n",
    "patients = np.unique(test_set2truth.obs['Donor Id'].values)\n",
    "\n",
    "for patient in patients:\n",
    "    indices = [x == patient for x in test_set2truth.obs['Donor Id']]\n",
    "    sub_adata = test_set2truth[indices]\n",
    "\n",
    "    sc.pp.scale(sub_adata)\n",
    "    test_set2truth[indices] = sub_adata.X"
   ]
  },
  {
   "cell_type": "code",
   "execution_count": 33,
   "metadata": {},
   "outputs": [],
   "source": [
    "\"\"\"Compute correlation across patients\"\"\"\n",
    "\n",
    "corrs = corr2_coeff(test_set2truth.layers[\"imputed\"].T, test_set2truth.X.T)\n",
    "corrs = pd.DataFrame(corrs)\n",
    "corrs.index = test_set2truth.var.index\n",
    "corrs = corrs.dropna()"
   ]
  },
  {
   "cell_type": "code",
   "execution_count": 34,
   "metadata": {},
   "outputs": [],
   "source": [
    "\"\"\"Compute correlations within patient\"\"\"\n",
    "\n",
    "corrs_table = np.zeros((test_set2truth.shape[1], len(np.unique(test_set2truth.obs[\"Donor Id\"]))))\n",
    "sq_table = corrs_table.copy()\n",
    "\n",
    "i = 0\n",
    "for patient in np.unique(test_set2truth.obs[\"Donor Id\"]):\n",
    "    truth = test_set2truth[test_set2truth.obs[\"Donor Id\"] == patient].X.copy()\n",
    "    imputed = test_set2truth.layers[\"imputed\"][test_set2truth.obs[\"Donor Id\"] == patient].copy()\n",
    "\n",
    "    corrs_table[:, i] = corr2_coeff(truth.T, imputed.T)\n",
    "    sq_table[:, i] = sq(truth, imputed).mean(axis = 0)\n",
    "    \n",
    "    i += 1\n",
    "\n",
    "if np.isnan(corrs_table).sum() > 0:\n",
    "    corrs_table[np.isnan(corrs_table)] = 0\n",
    "    \n",
    "corrs_table = pd.DataFrame(corrs_table)\n",
    "sq_table = pd.DataFrame(sq_table)\n",
    "corrs_table.index, corrs_table.columns = test_set2truth.var.index, np.unique(test_set2truth.obs[\"Donor Id\"])\n",
    "sq_table.index, sq_table.columns = test_set2truth.var.index, np.unique(test_set2truth.obs[\"Donor Id\"])"
   ]
  },
  {
   "cell_type": "code",
   "execution_count": 35,
   "metadata": {},
   "outputs": [
    {
     "data": {
      "text/plain": [
       "GWAS_1     0.411999\n",
       "GWAS_10    0.298133\n",
       "GWAS_11    0.427452\n",
       "GWAS_12    0.401904\n",
       "GWAS_13    0.409972\n",
       "GWAS_2     0.462028\n",
       "GWAS_3     0.513221\n",
       "GWAS_4     0.344739\n",
       "GWAS_5     0.384215\n",
       "GWAS_8     0.421537\n",
       "Unknown    0.447011\n",
       "dtype: float64"
      ]
     },
     "execution_count": 35,
     "metadata": {},
     "output_type": "execute_result"
    }
   ],
   "source": [
    "corrs_table.mean(axis = 0)"
   ]
  },
  {
   "cell_type": "code",
   "execution_count": 36,
   "metadata": {},
   "outputs": [
    {
     "data": {
      "text/plain": [
       "0.41111000069744286"
      ]
     },
     "execution_count": 36,
     "metadata": {},
     "output_type": "execute_result"
    }
   ],
   "source": [
    "corrs_table.mean().mean()"
   ]
  },
  {
   "cell_type": "code",
   "execution_count": 37,
   "metadata": {},
   "outputs": [],
   "source": [
    "corrs_table.to_csv('corrs_results/scipenn_covidintegratesmall.csv')"
   ]
  },
  {
   "cell_type": "code",
   "execution_count": 38,
   "metadata": {},
   "outputs": [
    {
     "data": {
      "text/plain": [
       "GWAS_1     0.781069\n",
       "GWAS_10    0.862081\n",
       "GWAS_11    0.783717\n",
       "GWAS_12    0.794259\n",
       "GWAS_13    0.775505\n",
       "GWAS_2     0.734097\n",
       "GWAS_3     0.693189\n",
       "GWAS_4     0.824599\n",
       "GWAS_5     0.826605\n",
       "GWAS_8     0.780201\n",
       "Unknown    0.776375\n",
       "dtype: float64"
      ]
     },
     "execution_count": 38,
     "metadata": {},
     "output_type": "execute_result"
    }
   ],
   "source": [
    "sq_table.mean(axis = 0)"
   ]
  },
  {
   "cell_type": "code",
   "execution_count": 39,
   "metadata": {},
   "outputs": [
    {
     "data": {
      "text/plain": [
       "0.784699843761669"
      ]
     },
     "execution_count": 39,
     "metadata": {},
     "output_type": "execute_result"
    }
   ],
   "source": [
    "sq_table.mean().mean()"
   ]
  },
  {
   "cell_type": "code",
   "execution_count": 40,
   "metadata": {},
   "outputs": [],
   "source": [
    "sq_table.to_csv('mse_results/scipenn_covidintegratesmall.csv')"
   ]
  },
  {
   "cell_type": "code",
   "execution_count": 41,
   "metadata": {},
   "outputs": [
    {
     "name": "stdout",
     "output_type": "stream",
     "text": [
      "Effective Coverage Probability for Nominal 50% PI: 0.498\n"
     ]
    }
   ],
   "source": [
    "r95 = (test_set2truth.X < test_set2truth.layers['q75'])\n",
    "l95 = (test_set2truth.X > test_set2truth.layers['q25'])\n",
    "\n",
    "print(f\"Effective Coverage Probability for Nominal 50% PI: {(r95*l95).mean():.3f}\")"
   ]
  },
  {
   "cell_type": "code",
   "execution_count": 42,
   "metadata": {},
   "outputs": [
    {
     "name": "stdout",
     "output_type": "stream",
     "text": [
      "Effective Coverage Probability for Nominal 80% PI: 0.801\n"
     ]
    }
   ],
   "source": [
    "r95 = (test_set2truth.X < test_set2truth.layers['q90'])\n",
    "l95 = (test_set2truth.X > test_set2truth.layers['q10'])\n",
    "\n",
    "print(f\"Effective Coverage Probability for Nominal 80% PI: {(r95*l95).mean():.3f}\")"
   ]
  },
  {
   "cell_type": "code",
   "execution_count": 43,
   "metadata": {},
   "outputs": [],
   "source": [
    "test_set2truth.write(\"scipenn_covidintegratesmall.h5ad\")"
   ]
  }
 ],
 "metadata": {
  "kernelspec": {
   "display_name": "“scipen”",
   "language": "python",
   "name": "scipen"
  },
  "language_info": {
   "codemirror_mode": {
    "name": "ipython",
    "version": 3
   },
   "file_extension": ".py",
   "mimetype": "text/x-python",
   "name": "python",
   "nbconvert_exporter": "python",
   "pygments_lexer": "ipython3",
   "version": "3.7.0"
  }
 },
 "nbformat": 4,
 "nbformat_minor": 4
}
