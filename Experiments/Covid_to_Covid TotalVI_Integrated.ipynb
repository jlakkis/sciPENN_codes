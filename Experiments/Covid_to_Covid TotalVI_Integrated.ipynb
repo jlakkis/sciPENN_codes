{
 "cells": [
  {
   "cell_type": "markdown",
   "id": "working-adobe",
   "metadata": {},
   "source": [
    "## Import packages"
   ]
  },
  {
   "cell_type": "code",
   "execution_count": 1,
   "id": "incorporate-headline",
   "metadata": {},
   "outputs": [
    {
     "data": {
      "text/plain": [
       "True"
      ]
     },
     "execution_count": 1,
     "metadata": {},
     "output_type": "execute_result"
    }
   ],
   "source": [
    "import torch\n",
    "from sciPENN.Preprocessing import preprocess\n",
    "torch.cuda.is_available()"
   ]
  },
  {
   "cell_type": "code",
   "execution_count": 2,
   "id": "divided-sleep",
   "metadata": {},
   "outputs": [],
   "source": [
    "%load_ext autoreload\n",
    "%autoreload 2\n",
    "\n",
    "import os\n",
    "\n",
    "import sys\n",
    "import numpy as np\n",
    "import seaborn as sns\n",
    "import pandas as pd\n",
    "import pickle\n",
    "import scanpy as sc\n",
    "sc.set_figure_params(dpi=100, dpi_save=300)\n",
    "import scvi\n",
    "import anndata as ad\n",
    "from matplotlib import pyplot, cm\n",
    "import os\n",
    "from math import ceil\n",
    "from scipy.stats import spearmanr\n",
    "import math\n",
    "\n",
    "import leidenalg\n",
    "\n",
    "from anndata import AnnData\n",
    "from scanpy import read\n",
    "import pandas as pd\n",
    "from scipy.sparse import csc_matrix\n",
    "\n",
    "\n",
    "import matplotlib.pyplot as plt"
   ]
  },
  {
   "cell_type": "markdown",
   "id": "through-institution",
   "metadata": {},
   "source": [
    "# Read data: "
   ]
  },
  {
   "cell_type": "code",
   "execution_count": 3,
   "id": "different-hello",
   "metadata": {},
   "outputs": [],
   "source": [
    "adata_covid19 = sc.read_h5ad(\"../Data/immunodeficiency_covid_PMBCs.h5ad\")"
   ]
  },
  {
   "cell_type": "code",
   "execution_count": 4,
   "id": "single-membership",
   "metadata": {},
   "outputs": [],
   "source": [
    "back_to_counts = np.round(2**adata_covid19.X.toarray().astype('float32') - 1)\n",
    "adata_covid19.X = csc_matrix(back_to_counts)\n",
    "back_to_counts = None"
   ]
  },
  {
   "cell_type": "code",
   "execution_count": 5,
   "id": "corresponding-carrier",
   "metadata": {},
   "outputs": [],
   "source": [
    "adata_gene_test = adata_covid19[:, adata_covid19.var[\"feature_types\"] == \"Gene Expression\"].copy()\n",
    "adata_protein_test = adata_covid19[:, adata_covid19.var[\"feature_types\"] == \"Antibody Capture\"].copy()\n",
    "adata_covid19 = None"
   ]
  },
  {
   "cell_type": "code",
   "execution_count": 6,
   "id": "finite-worker",
   "metadata": {},
   "outputs": [],
   "source": [
    "adata_covid19 = sc.read_h5ad('../Data/Covid_Combined_SCE_raw.h5ad')"
   ]
  },
  {
   "cell_type": "code",
   "execution_count": 7,
   "id": "korean-celebration",
   "metadata": {},
   "outputs": [],
   "source": [
    "adata_covid19.X = adata_covid19.X.astype('float32')\n",
    "adata_gene_train = adata_covid19[:, adata_covid19.var[\"feature_types\"] == \"Gene Expression\"].copy()\n",
    "adata_protein_train = adata_covid19[:, adata_covid19.var[\"feature_types\"] == \"Antibody Capture\"].copy()\n",
    "adata_covid19 = None"
   ]
  },
  {
   "cell_type": "code",
   "execution_count": 8,
   "id": "optimum-ticket",
   "metadata": {},
   "outputs": [],
   "source": [
    "adata_protein_train.var.index = [x[3:] for x in adata_protein_train.var.index]\n",
    "adata_protein_test.var.index = [x[3:] for x in adata_protein_test.var.index]"
   ]
  },
  {
   "cell_type": "code",
   "execution_count": 9,
   "id": "asian-circus",
   "metadata": {},
   "outputs": [],
   "source": [
    "imputed_match, train_names = pd.read_csv(\"../Data/matched_proteins.csv\", header = None).to_numpy().T\n",
    "\n",
    "mapping = {key: value for key, value in zip(train_names, imputed_match)}\n",
    "\n",
    "tmp = adata_protein_test.var.index.values\n",
    "\n",
    "for i in range(len(tmp)):\n",
    "    if tmp[i] in mapping:\n",
    "        tmp[i] = mapping[tmp[i]]\n",
    "        \n",
    "adata_protein_test.var.index = tmp"
   ]
  },
  {
   "cell_type": "code",
   "execution_count": 10,
   "id": "alike-survival",
   "metadata": {},
   "outputs": [
    {
     "data": {
      "text/plain": [
       "array(['B7-H4', 'BAFF', 'BAFFR', 'BTLA', 'CCR3', 'CCR4', 'CCR5', 'CCR6',\n",
       "       'CCR7', 'CD101', 'CD123', 'CD14', 'CD141', 'CD15', 'CD158',\n",
       "       'CD158b', 'CD16', 'CD161', 'CD163', 'CD19', 'CD1C', 'CD1a', 'CD1d',\n",
       "       'CD2', 'CD20', 'CD209', 'CD21', 'CD22', 'CD226', 'CD235ab', 'CD24',\n",
       "       'CD244', 'CD25', 'CD27', 'CD274', 'CD28', 'CD3', 'CD303', 'CD304',\n",
       "       'CD33', 'CD34', 'CD36', 'CD38', 'CD4', 'CD40', 'CD44', 'CD45',\n",
       "       'CD45RA', 'CD45RO', 'CD47', 'CD5', 'CD52', 'CD56', 'CD58', 'CD62L',\n",
       "       'CD64', 'CD69', 'CD7', 'CD70', 'CD71', 'CD79b', 'CD8', 'CD80',\n",
       "       'CD81', 'CD82', 'CD83', 'CD86', 'CD96', 'CD99', 'CLEC12A',\n",
       "       'CLEC9A', 'CTLA4', 'CX3CR1', 'CXCR3', 'CXCR4', 'CXCR5', 'DR3',\n",
       "       'FAS', 'FCRL4', 'FCRL5', 'FcERIa', 'HLA-ABC', 'HLA-A_2', 'HLA-DR',\n",
       "       'HLA-F', 'IL2RB', 'IL4R', 'IL7R', 'IgA', 'IgD', 'IgM', 'KIR2DL5A',\n",
       "       'KIR3DL1', 'LAG3', 'LAMP1', 'Mouse IgG1_K_Iso',\n",
       "       'Mouse_IgG2a_K_Iso', 'Mouse_IgG2b_K_Iso', 'NECTIN2', 'NLRP2',\n",
       "       'PD1', 'Podocalyxin', 'TACI', 'TCR', 'TCR_Va7.2', 'TSLPR', 'XCR1',\n",
       "       'c-Met', 'phosphoTau', 'podoplanin'], dtype=object)"
      ]
     },
     "execution_count": 10,
     "metadata": {},
     "output_type": "execute_result"
    }
   ],
   "source": [
    "train_proteins = adata_protein_train.var.index\n",
    "test_proteins = adata_protein_test.var.index\n",
    "\n",
    "all_proteins = np.intersect1d(train_proteins, test_proteins)\n",
    "all_proteins"
   ]
  },
  {
   "cell_type": "code",
   "execution_count": 11,
   "id": "boring-chemical",
   "metadata": {},
   "outputs": [],
   "source": [
    "np.random.seed(123)\n",
    "common = np.random.choice(all_proteins, len(all_proteins)//3, False)\n",
    "proteins2 = np.setdiff1d(all_proteins, common)\n",
    "proteins1 = np.random.choice(proteins2, len(proteins2)//2, False)\n",
    "proteins2 = np.setdiff1d(proteins2, proteins1)\n",
    "\n",
    "testset1_truth_ = adata_protein_train[:, proteins2].copy()\n",
    "testset2_truth_ = adata_protein_test[:, proteins1].copy()\n",
    "\n",
    "adata_protein_train = adata_protein_train[:, list(proteins1) + list(common)].copy()\n",
    "adata_protein_test = adata_protein_test[:, list(common) + list(proteins2)].copy()"
   ]
  },
  {
   "cell_type": "markdown",
   "id": "effective-charleston",
   "metadata": {},
   "source": [
    "# Processing Data"
   ]
  },
  {
   "cell_type": "code",
   "execution_count": 13,
   "id": "forced-provider",
   "metadata": {},
   "outputs": [
    {
     "name": "stdout",
     "output_type": "stream",
     "text": [
      "\n",
      "QC Filtering Training Cells\n",
      "QC Filtering Testing Cells\n",
      "\n",
      "QC Filtering Training Genes\n",
      "QC Filtering Testing Genes\n",
      "\n",
      "Normalizing Training Cells\n",
      "Normalizing Testing Cells\n",
      "\n",
      "Log-Normalizing Training Data\n",
      "Log-Normalizing Testing Data\n",
      "\n",
      "Finding HVGs\n"
     ]
    },
    {
     "name": "stderr",
     "output_type": "stream",
     "text": [
      "/home/jlakkis/miniconda3/envs/scipen/lib/python3.7/site-packages/anndata/_core/merge.py:894: UserWarning: Only some AnnData objects have `.raw` attribute, not concatenating `.raw` attributes.\n",
      "  UserWarning,\n",
      "... storing 'sample_id' as categorical\n",
      "... storing 'full_clustering' as categorical\n",
      "... storing 'initial_clustering' as categorical\n",
      "... storing 'Resample' as categorical\n",
      "... storing 'Collection_Day' as categorical\n",
      "... storing 'Sex' as categorical\n",
      "... storing 'Age_interval' as categorical\n",
      "... storing 'Swab_result' as categorical\n",
      "... storing 'Status' as categorical\n",
      "... storing 'Smoker' as categorical\n",
      "... storing 'Status_on_day_collection' as categorical\n",
      "... storing 'Status_on_day_collection_summary' as categorical\n",
      "... storing 'Site' as categorical\n",
      "... storing 'time_after_LPS' as categorical\n",
      "... storing 'Woest_Clinical_Status' as categorical\n",
      "... storing 'Outcome' as categorical\n",
      "... storing 'patient_id' as categorical\n",
      "... storing 'Days_from_onset' as categorical\n",
      "... storing 'batch' as categorical\n",
      "... storing 'Dataset' as categorical\n",
      "... storing 'PreCondition' as categorical\n",
      "... storing 'Hospitalized' as categorical\n",
      "... storing 'Disease_classification' as categorical\n",
      "... storing 'Deconvolved_samples' as categorical\n",
      "... storing 'CellType' as categorical\n",
      "... storing 'Lab number' as categorical\n",
      "... storing 'Donor Id' as categorical\n",
      "... storing 'Age' as categorical\n",
      "... storing 'Race' as categorical\n",
      "... storing 'Ethnicity' as categorical\n",
      "... storing 'BMI' as categorical\n",
      "... storing 'Pre-existing heart disease' as categorical\n",
      "... storing 'Pre-existing lung disease' as categorical\n",
      "... storing 'Pre-existing kidney disease' as categorical\n",
      "... storing 'Pre-existing diabetes' as categorical\n",
      "... storing 'Pre-existing Hypertension' as categorical\n",
      "... storing 'Pre-existing immunocompromised condition' as categorical\n",
      "... storing 'Smoking' as categorical\n",
      "... storing 'SARS-CoV-2 PCR' as categorical\n",
      "... storing 'SARS-CoV-2 Ab' as categorical\n",
      "... storing 'Symptomatic' as categorical\n",
      "... storing 'Admitted to hospital' as categorical\n",
      "... storing 'Highest level of respiratory support' as categorical\n",
      "... storing 'Vasoactive agents required during hospitalization' as categorical\n",
      "... storing '28-day death' as categorical\n",
      "... storing 'Cell sorting' as categorical\n",
      "/home/jlakkis/miniconda3/envs/scipen/lib/python3.7/site-packages/pandas/core/indexing.py:670: SettingWithCopyWarning: \n",
      "A value is trying to be set on a copy of a slice from a DataFrame\n",
      "\n",
      "See the caveats in the documentation: https://pandas.pydata.org/pandas-docs/stable/user_guide/indexing.html#returning-a-view-versus-a-copy\n",
      "  iloc._setitem_with_indexer(indexer, value)\n"
     ]
    },
    {
     "name": "stdout",
     "output_type": "stream",
     "text": [
      "\n",
      "Normalizing Gene Training Data by Batch\n"
     ]
    },
    {
     "name": "stderr",
     "output_type": "stream",
     "text": [
      "100%|██████████| 143/143 [00:57<00:00,  2.50it/s]\n"
     ]
    },
    {
     "name": "stdout",
     "output_type": "stream",
     "text": [
      "\n",
      "Normalizing Protein Training Data by Batch\n"
     ]
    },
    {
     "name": "stderr",
     "output_type": "stream",
     "text": [
      "100%|██████████| 143/143 [00:31<00:00,  4.51it/s]\n"
     ]
    },
    {
     "name": "stdout",
     "output_type": "stream",
     "text": [
      "\n",
      "Normalizing Gene Testing Data by Batch\n"
     ]
    },
    {
     "name": "stderr",
     "output_type": "stream",
     "text": [
      "100%|██████████| 11/11 [00:24<00:00,  2.22s/it]\n"
     ]
    }
   ],
   "source": [
    "gene_train, protein_train, gene_test, bools, train_keys, categories = preprocess([adata_gene_train], [adata_protein_train], adata_gene_test, train_batchkeys = [\"sample_id\"], test_batchkey = \"Donor Id\", gene_list = [], select_hvg = True, cell_normalize = True, log_normalize = True, gene_normalize = True, min_cells = 30, min_genes = 200)"
   ]
  },
  {
   "cell_type": "code",
   "execution_count": 15,
   "id": "aerial-seller",
   "metadata": {},
   "outputs": [],
   "source": [
    "hvg = gene_test.var_names\n",
    "cells_test = gene_test.obs_names\n",
    "cells_train = gene_train.obs_names"
   ]
  },
  {
   "cell_type": "code",
   "execution_count": 16,
   "id": "economic-capture",
   "metadata": {},
   "outputs": [
    {
     "data": {
      "text/plain": [
       "16125"
      ]
     },
     "execution_count": 16,
     "metadata": {},
     "output_type": "execute_result"
    }
   ],
   "source": [
    "del gene_train, protein_train, gene_test\n",
    "\n",
    "import gc\n",
    "gc.collect()"
   ]
  },
  {
   "cell_type": "code",
   "execution_count": 17,
   "id": "greenhouse-helicopter",
   "metadata": {},
   "outputs": [],
   "source": [
    "## Subsetting the data by the HVG and cells-\n",
    "adata_gene_train = adata_gene_train[cells_train, hvg].copy()"
   ]
  },
  {
   "cell_type": "code",
   "execution_count": 18,
   "id": "united-regression",
   "metadata": {},
   "outputs": [],
   "source": [
    "## Subsetting the data by the HVG and cells- \n",
    "adata_gene_test = adata_gene_test[cells_test, hvg].copy()"
   ]
  },
  {
   "cell_type": "code",
   "execution_count": 19,
   "id": "numerical-medication",
   "metadata": {},
   "outputs": [],
   "source": [
    "## Subsetting the data by cells-\n",
    "adata_protein_train = adata_protein_train[cells_train,:].copy()"
   ]
  },
  {
   "cell_type": "code",
   "execution_count": 20,
   "id": "considered-empire",
   "metadata": {},
   "outputs": [],
   "source": [
    "## Subsetting the data by cells-\n",
    "adata_protein_test = adata_protein_test[cells_test,:].copy()\n",
    "meta_data = adata_protein_test.obs.copy()"
   ]
  },
  {
   "cell_type": "code",
   "execution_count": 21,
   "id": "important-production",
   "metadata": {},
   "outputs": [],
   "source": [
    "adata_gene_train.obs['patient'] = pd.DataFrame(adata_gene_train.obs['sample_id']).copy()\n",
    "adata_gene_train.obs['patient'] = adata_gene_train.obs['patient'].astype(\"str\")"
   ]
  },
  {
   "cell_type": "code",
   "execution_count": 22,
   "id": "substantial-lindsay",
   "metadata": {},
   "outputs": [],
   "source": [
    "adata_gene_test.obs['patient'] = pd.DataFrame(adata_gene_test.obs['Donor Id']).copy()\n",
    "adata_gene_test.obs['patient'] = adata_gene_test.obs['Donor Id'].astype(\"str\")"
   ]
  },
  {
   "cell_type": "code",
   "execution_count": 23,
   "id": "becoming-roberts",
   "metadata": {},
   "outputs": [
    {
     "name": "stderr",
     "output_type": "stream",
     "text": [
      "/home/jlakkis/miniconda3/envs/scipen/lib/python3.7/site-packages/anndata/_core/merge.py:894: UserWarning: Only some AnnData objects have `.raw` attribute, not concatenating `.raw` attributes.\n",
      "  UserWarning,\n"
     ]
    }
   ],
   "source": [
    "## Combine data - gene\n",
    "\n",
    "adata = ad.concat([adata_gene_train.copy(), adata_gene_test.copy()], join='outer')"
   ]
  },
  {
   "cell_type": "code",
   "execution_count": 24,
   "id": "british-dragon",
   "metadata": {},
   "outputs": [
    {
     "name": "stderr",
     "output_type": "stream",
     "text": [
      "/home/jlakkis/miniconda3/envs/scipen/lib/python3.7/site-packages/ipykernel_launcher.py:11: SettingWithCopyWarning: \n",
      "A value is trying to be set on a copy of a slice from a DataFrame.\n",
      "Try using .loc[row_indexer,col_indexer] = value instead\n",
      "\n",
      "See the caveats in the documentation: https://pandas.pydata.org/pandas-docs/stable/user_guide/indexing.html#returning-a-view-versus-a-copy\n",
      "  # This is added back by InteractiveShellApp.init_path()\n",
      "/home/jlakkis/miniconda3/envs/scipen/lib/python3.7/site-packages/pandas/core/frame.py:3076: SettingWithCopyWarning: \n",
      "A value is trying to be set on a copy of a slice from a DataFrame\n",
      "\n",
      "See the caveats in the documentation: https://pandas.pydata.org/pandas-docs/stable/user_guide/indexing.html#returning-a-view-versus-a-copy\n",
      "  self.iloc._setitem_with_indexer((slice(None), indexer), value)\n",
      "/home/jlakkis/miniconda3/envs/scipen/lib/python3.7/site-packages/pandas/core/frame.py:3041: SettingWithCopyWarning: \n",
      "A value is trying to be set on a copy of a slice from a DataFrame\n",
      "\n",
      "See the caveats in the documentation: https://pandas.pydata.org/pandas-docs/stable/user_guide/indexing.html#returning-a-view-versus-a-copy\n",
      "  self._setitem_array(key, value)\n",
      "/home/jlakkis/miniconda3/envs/scipen/lib/python3.7/site-packages/ipykernel_launcher.py:12: SettingWithCopyWarning: \n",
      "A value is trying to be set on a copy of a slice from a DataFrame.\n",
      "Try using .loc[row_indexer,col_indexer] = value instead\n",
      "\n",
      "See the caveats in the documentation: https://pandas.pydata.org/pandas-docs/stable/user_guide/indexing.html#returning-a-view-versus-a-copy\n",
      "  if sys.path[0] == '':\n",
      "/home/jlakkis/miniconda3/envs/scipen/lib/python3.7/site-packages/ipykernel_launcher.py:13: SettingWithCopyWarning: \n",
      "A value is trying to be set on a copy of a slice from a DataFrame.\n",
      "Try using .loc[row_indexer,col_indexer] = value instead\n",
      "\n",
      "See the caveats in the documentation: https://pandas.pydata.org/pandas-docs/stable/user_guide/indexing.html#returning-a-view-versus-a-copy\n",
      "  del sys.path[0]\n",
      "/home/jlakkis/miniconda3/envs/scipen/lib/python3.7/site-packages/ipykernel_launcher.py:14: SettingWithCopyWarning: \n",
      "A value is trying to be set on a copy of a slice from a DataFrame.\n",
      "Try using .loc[row_indexer,col_indexer] = value instead\n",
      "\n",
      "See the caveats in the documentation: https://pandas.pydata.org/pandas-docs/stable/user_guide/indexing.html#returning-a-view-versus-a-copy\n",
      "  \n"
     ]
    }
   ],
   "source": [
    "adata_final = adata.copy()\n",
    "\n",
    "#fill matrix with zeros\n",
    "protein_dat = pd.DataFrame(np.zeros(shape = (len(adata_gene_train) + len(adata_gene_test), len(all_proteins)), dtype = 'float32'), \n",
    "                           index = list(adata_gene_train.obs_names) + list(adata_gene_test.obs_names),\n",
    "                           columns = all_proteins)\n",
    "\n",
    "n = len(adata_gene_train)\n",
    "\n",
    "protein_dat.iloc[:n][proteins1] = adata_protein_train[:, proteins1].X.toarray().copy()\n",
    "protein_dat.iloc[:n][common] = adata_protein_train[:, common].X.toarray().copy()\n",
    "protein_dat.iloc[n:][proteins2] = adata_protein_test[:, proteins2].X.toarray().copy()\n",
    "protein_dat.iloc[n:][common] = adata_protein_test[:, common].X.toarray().copy()"
   ]
  },
  {
   "cell_type": "code",
   "execution_count": 25,
   "id": "ready-account",
   "metadata": {},
   "outputs": [],
   "source": [
    "adata_final.obsm[\"protein_expression\"] = protein_dat"
   ]
  },
  {
   "cell_type": "code",
   "execution_count": 26,
   "id": "forward-absolute",
   "metadata": {},
   "outputs": [],
   "source": [
    "train_patients = np.unique(adata_gene_train.obs['sample_id'])\n",
    "test_patients = np.unique(adata_gene_test.obs['Donor Id'])"
   ]
  },
  {
   "cell_type": "code",
   "execution_count": 27,
   "id": "natural-sensitivity",
   "metadata": {},
   "outputs": [],
   "source": [
    "del adata_protein_test\n",
    "del adata_protein_train\n",
    "del adata_gene_train\n",
    "del adata_gene_test\n",
    "del adata"
   ]
  },
  {
   "cell_type": "markdown",
   "id": "medium-leave",
   "metadata": {},
   "source": [
    "# Run TotalVI"
   ]
  },
  {
   "cell_type": "code",
   "execution_count": 28,
   "id": "handed-dragon",
   "metadata": {},
   "outputs": [
    {
     "name": "stdout",
     "output_type": "stream",
     "text": [
      "\u001b[34mINFO    \u001b[0m Using batches from adata.obs\u001b[1m[\u001b[0m\u001b[32m\"patient\"\u001b[0m\u001b[1m]\u001b[0m                                             \n",
      "\u001b[34mINFO    \u001b[0m No label_key inputted, assuming all cells have same label                           \n",
      "\u001b[34mINFO    \u001b[0m Using data from adata.X                                                             \n",
      "\u001b[34mINFO    \u001b[0m Computing library size prior per batch                                              \n",
      "\u001b[34mINFO    \u001b[0m Using protein expression from adata.obsm\u001b[1m[\u001b[0m\u001b[32m'protein_expression'\u001b[0m\u001b[1m]\u001b[0m                      \n",
      "\u001b[34mINFO    \u001b[0m Using protein names from columns of adata.obsm\u001b[1m[\u001b[0m\u001b[32m'protein_expression'\u001b[0m\u001b[1m]\u001b[0m                \n",
      "\u001b[34mINFO    \u001b[0m Found batches with missing protein expression                                       \n",
      "\u001b[34mINFO    \u001b[0m Successfully registered anndata object containing \u001b[1;36m885867\u001b[0m cells, \u001b[1;36m1000\u001b[0m vars, \u001b[1;36m154\u001b[0m      \n",
      "         batches, \u001b[1;36m1\u001b[0m labels, and \u001b[1;36m110\u001b[0m proteins. Also registered \u001b[1;36m0\u001b[0m extra categorical covariates \n",
      "         and \u001b[1;36m0\u001b[0m extra continuous covariates.                                                  \n",
      "\u001b[34mINFO    \u001b[0m Please do not further modify adata until model is trained.                          \n"
     ]
    }
   ],
   "source": [
    "scvi.data.setup_anndata(adata_final, batch_key = \"patient\", \n",
    "                        protein_expression_obsm_key = \"protein_expression\")"
   ]
  },
  {
   "cell_type": "code",
   "execution_count": 29,
   "id": "artistic-lyric",
   "metadata": {},
   "outputs": [
    {
     "data": {
      "text/html": [
       "<pre style=\"white-space:pre;overflow-x:auto;line-height:normal;font-family:Menlo,'DejaVu Sans Mono',consolas,'Courier New',monospace\">Anndata setup with scvi-tools version <span style=\"color: #008080; text-decoration-color: #008080; font-weight: bold\">0.9</span>.<span style=\"color: #008080; text-decoration-color: #008080; font-weight: bold\">1</span>.\n",
       "</pre>\n"
      ],
      "text/plain": [
       "Anndata setup with scvi-tools version \u001b[1;36m0.9\u001b[0m.\u001b[1;36m1\u001b[0m.\n"
      ]
     },
     "metadata": {},
     "output_type": "display_data"
    },
    {
     "data": {
      "text/html": [
       "<pre style=\"white-space:pre;overflow-x:auto;line-height:normal;font-family:Menlo,'DejaVu Sans Mono',consolas,'Courier New',monospace\"><span style=\"font-style: italic\">              Data Summary               </span>\n",
       "┏━━━━━━━━━━━━━━━━━━━━━━━━━━━━━━┳━━━━━━━━┓\n",
       "┃<span style=\"font-weight: bold\">             Data             </span>┃<span style=\"font-weight: bold\"> Count  </span>┃\n",
       "┡━━━━━━━━━━━━━━━━━━━━━━━━━━━━━━╇━━━━━━━━┩\n",
       "│<span style=\"color: #0087ff; text-decoration-color: #0087ff\">            Cells             </span>│<span style=\"color: #af00d7; text-decoration-color: #af00d7\"> 885867 </span>│\n",
       "│<span style=\"color: #0087ff; text-decoration-color: #0087ff\">             Vars             </span>│<span style=\"color: #af00d7; text-decoration-color: #af00d7\">  1000  </span>│\n",
       "│<span style=\"color: #0087ff; text-decoration-color: #0087ff\">            Labels            </span>│<span style=\"color: #af00d7; text-decoration-color: #af00d7\">   1    </span>│\n",
       "│<span style=\"color: #0087ff; text-decoration-color: #0087ff\">           Batches            </span>│<span style=\"color: #af00d7; text-decoration-color: #af00d7\">  154   </span>│\n",
       "│<span style=\"color: #0087ff; text-decoration-color: #0087ff\">           Proteins           </span>│<span style=\"color: #af00d7; text-decoration-color: #af00d7\">  110   </span>│\n",
       "│<span style=\"color: #0087ff; text-decoration-color: #0087ff\"> Extra Categorical Covariates </span>│<span style=\"color: #af00d7; text-decoration-color: #af00d7\">   0    </span>│\n",
       "│<span style=\"color: #0087ff; text-decoration-color: #0087ff\"> Extra Continuous Covariates  </span>│<span style=\"color: #af00d7; text-decoration-color: #af00d7\">   0    </span>│\n",
       "└──────────────────────────────┴────────┘\n",
       "</pre>\n"
      ],
      "text/plain": [
       "\u001b[3m              Data Summary               \u001b[0m\n",
       "┏━━━━━━━━━━━━━━━━━━━━━━━━━━━━━━┳━━━━━━━━┓\n",
       "┃\u001b[1m \u001b[0m\u001b[1m            Data            \u001b[0m\u001b[1m \u001b[0m┃\u001b[1m \u001b[0m\u001b[1mCount \u001b[0m\u001b[1m \u001b[0m┃\n",
       "┡━━━━━━━━━━━━━━━━━━━━━━━━━━━━━━╇━━━━━━━━┩\n",
       "│\u001b[38;5;33m \u001b[0m\u001b[38;5;33m           Cells            \u001b[0m\u001b[38;5;33m \u001b[0m│\u001b[38;5;128m \u001b[0m\u001b[38;5;128m885867\u001b[0m\u001b[38;5;128m \u001b[0m│\n",
       "│\u001b[38;5;33m \u001b[0m\u001b[38;5;33m            Vars            \u001b[0m\u001b[38;5;33m \u001b[0m│\u001b[38;5;128m \u001b[0m\u001b[38;5;128m 1000 \u001b[0m\u001b[38;5;128m \u001b[0m│\n",
       "│\u001b[38;5;33m \u001b[0m\u001b[38;5;33m           Labels           \u001b[0m\u001b[38;5;33m \u001b[0m│\u001b[38;5;128m \u001b[0m\u001b[38;5;128m  1   \u001b[0m\u001b[38;5;128m \u001b[0m│\n",
       "│\u001b[38;5;33m \u001b[0m\u001b[38;5;33m          Batches           \u001b[0m\u001b[38;5;33m \u001b[0m│\u001b[38;5;128m \u001b[0m\u001b[38;5;128m 154  \u001b[0m\u001b[38;5;128m \u001b[0m│\n",
       "│\u001b[38;5;33m \u001b[0m\u001b[38;5;33m          Proteins          \u001b[0m\u001b[38;5;33m \u001b[0m│\u001b[38;5;128m \u001b[0m\u001b[38;5;128m 110  \u001b[0m\u001b[38;5;128m \u001b[0m│\n",
       "│\u001b[38;5;33m \u001b[0m\u001b[38;5;33mExtra Categorical Covariates\u001b[0m\u001b[38;5;33m \u001b[0m│\u001b[38;5;128m \u001b[0m\u001b[38;5;128m  0   \u001b[0m\u001b[38;5;128m \u001b[0m│\n",
       "│\u001b[38;5;33m \u001b[0m\u001b[38;5;33mExtra Continuous Covariates \u001b[0m\u001b[38;5;33m \u001b[0m│\u001b[38;5;128m \u001b[0m\u001b[38;5;128m  0   \u001b[0m\u001b[38;5;128m \u001b[0m│\n",
       "└──────────────────────────────┴────────┘\n"
      ]
     },
     "metadata": {},
     "output_type": "display_data"
    },
    {
     "data": {
      "text/html": [
       "<pre style=\"white-space:pre;overflow-x:auto;line-height:normal;font-family:Menlo,'DejaVu Sans Mono',consolas,'Courier New',monospace\"><span style=\"font-style: italic\">                   SCVI Data Registry                    </span>\n",
       "┏━━━━━━━━━━━━━━━━━━━━┳━━━━━━━━━━━━━━━━━━━━━━━━━━━━━━━━━━┓\n",
       "┃<span style=\"font-weight: bold\">        Data        </span>┃<span style=\"font-weight: bold\">       scvi-tools Location        </span>┃\n",
       "┡━━━━━━━━━━━━━━━━━━━━╇━━━━━━━━━━━━━━━━━━━━━━━━━━━━━━━━━━┩\n",
       "│<span style=\"color: #0087ff; text-decoration-color: #0087ff\">         X          </span>│<span style=\"color: #af00d7; text-decoration-color: #af00d7\">             adata.X              </span>│\n",
       "│<span style=\"color: #0087ff; text-decoration-color: #0087ff\">   batch_indices    </span>│<span style=\"color: #af00d7; text-decoration-color: #af00d7\">     adata.obs['_scvi_batch']     </span>│\n",
       "│<span style=\"color: #0087ff; text-decoration-color: #0087ff\">    local_l_mean    </span>│<span style=\"color: #af00d7; text-decoration-color: #af00d7\"> adata.obs['_scvi_local_l_mean']  </span>│\n",
       "│<span style=\"color: #0087ff; text-decoration-color: #0087ff\">    local_l_var     </span>│<span style=\"color: #af00d7; text-decoration-color: #af00d7\">  adata.obs['_scvi_local_l_var']  </span>│\n",
       "│<span style=\"color: #0087ff; text-decoration-color: #0087ff\">       labels       </span>│<span style=\"color: #af00d7; text-decoration-color: #af00d7\">    adata.obs['_scvi_labels']     </span>│\n",
       "│<span style=\"color: #0087ff; text-decoration-color: #0087ff\"> protein_expression </span>│<span style=\"color: #af00d7; text-decoration-color: #af00d7\"> adata.obsm['protein_expression'] </span>│\n",
       "└────────────────────┴──────────────────────────────────┘\n",
       "</pre>\n"
      ],
      "text/plain": [
       "\u001b[3m                   SCVI Data Registry                    \u001b[0m\n",
       "┏━━━━━━━━━━━━━━━━━━━━┳━━━━━━━━━━━━━━━━━━━━━━━━━━━━━━━━━━┓\n",
       "┃\u001b[1m \u001b[0m\u001b[1m       Data       \u001b[0m\u001b[1m \u001b[0m┃\u001b[1m \u001b[0m\u001b[1m      scvi-tools Location       \u001b[0m\u001b[1m \u001b[0m┃\n",
       "┡━━━━━━━━━━━━━━━━━━━━╇━━━━━━━━━━━━━━━━━━━━━━━━━━━━━━━━━━┩\n",
       "│\u001b[38;5;33m \u001b[0m\u001b[38;5;33m        X         \u001b[0m\u001b[38;5;33m \u001b[0m│\u001b[38;5;128m \u001b[0m\u001b[38;5;128m            adata.X             \u001b[0m\u001b[38;5;128m \u001b[0m│\n",
       "│\u001b[38;5;33m \u001b[0m\u001b[38;5;33m  batch_indices   \u001b[0m\u001b[38;5;33m \u001b[0m│\u001b[38;5;128m \u001b[0m\u001b[38;5;128m    adata.obs['_scvi_batch']    \u001b[0m\u001b[38;5;128m \u001b[0m│\n",
       "│\u001b[38;5;33m \u001b[0m\u001b[38;5;33m   local_l_mean   \u001b[0m\u001b[38;5;33m \u001b[0m│\u001b[38;5;128m \u001b[0m\u001b[38;5;128madata.obs['_scvi_local_l_mean'] \u001b[0m\u001b[38;5;128m \u001b[0m│\n",
       "│\u001b[38;5;33m \u001b[0m\u001b[38;5;33m   local_l_var    \u001b[0m\u001b[38;5;33m \u001b[0m│\u001b[38;5;128m \u001b[0m\u001b[38;5;128m adata.obs['_scvi_local_l_var'] \u001b[0m\u001b[38;5;128m \u001b[0m│\n",
       "│\u001b[38;5;33m \u001b[0m\u001b[38;5;33m      labels      \u001b[0m\u001b[38;5;33m \u001b[0m│\u001b[38;5;128m \u001b[0m\u001b[38;5;128m   adata.obs['_scvi_labels']    \u001b[0m\u001b[38;5;128m \u001b[0m│\n",
       "│\u001b[38;5;33m \u001b[0m\u001b[38;5;33mprotein_expression\u001b[0m\u001b[38;5;33m \u001b[0m│\u001b[38;5;128m \u001b[0m\u001b[38;5;128madata.obsm['protein_expression']\u001b[0m\u001b[38;5;128m \u001b[0m│\n",
       "└────────────────────┴──────────────────────────────────┘\n"
      ]
     },
     "metadata": {},
     "output_type": "display_data"
    },
    {
     "data": {
      "text/html": [
       "<pre style=\"white-space:pre;overflow-x:auto;line-height:normal;font-family:Menlo,'DejaVu Sans Mono',consolas,'Courier New',monospace\"><span style=\"font-style: italic\">                        Label Categories                        </span>\n",
       "┏━━━━━━━━━━━━━━━━━━━━━━━━━━━┳━━━━━━━━━━━━┳━━━━━━━━━━━━━━━━━━━━━┓\n",
       "┃<span style=\"font-weight: bold\">      Source Location      </span>┃<span style=\"font-weight: bold\"> Categories </span>┃<span style=\"font-weight: bold\"> scvi-tools Encoding </span>┃\n",
       "┡━━━━━━━━━━━━━━━━━━━━━━━━━━━╇━━━━━━━━━━━━╇━━━━━━━━━━━━━━━━━━━━━┩\n",
       "│<span style=\"color: #0087ff; text-decoration-color: #0087ff\"> adata.obs['_scvi_labels'] </span>│<span style=\"color: #008000; text-decoration-color: #008000\">     0      </span>│<span style=\"color: #af00d7; text-decoration-color: #af00d7\">          0          </span>│\n",
       "└───────────────────────────┴────────────┴─────────────────────┘\n",
       "</pre>\n"
      ],
      "text/plain": [
       "\u001b[3m                        Label Categories                        \u001b[0m\n",
       "┏━━━━━━━━━━━━━━━━━━━━━━━━━━━┳━━━━━━━━━━━━┳━━━━━━━━━━━━━━━━━━━━━┓\n",
       "┃\u001b[1m \u001b[0m\u001b[1m     Source Location     \u001b[0m\u001b[1m \u001b[0m┃\u001b[1m \u001b[0m\u001b[1mCategories\u001b[0m\u001b[1m \u001b[0m┃\u001b[1m \u001b[0m\u001b[1mscvi-tools Encoding\u001b[0m\u001b[1m \u001b[0m┃\n",
       "┡━━━━━━━━━━━━━━━━━━━━━━━━━━━╇━━━━━━━━━━━━╇━━━━━━━━━━━━━━━━━━━━━┩\n",
       "│\u001b[38;5;33m \u001b[0m\u001b[38;5;33madata.obs['_scvi_labels']\u001b[0m\u001b[38;5;33m \u001b[0m│\u001b[32m \u001b[0m\u001b[32m    0     \u001b[0m\u001b[32m \u001b[0m│\u001b[38;5;128m \u001b[0m\u001b[38;5;128m         0         \u001b[0m\u001b[38;5;128m \u001b[0m│\n",
       "└───────────────────────────┴────────────┴─────────────────────┘\n"
      ]
     },
     "metadata": {},
     "output_type": "display_data"
    },
    {
     "data": {
      "text/html": [
       "<pre style=\"white-space:pre;overflow-x:auto;line-height:normal;font-family:Menlo,'DejaVu Sans Mono',consolas,'Courier New',monospace\"><span style=\"font-style: italic\">                       Batch Categories                        </span>\n",
       "┏━━━━━━━━━━━━━━━━━━━━━━┳━━━━━━━━━━━━━━━━┳━━━━━━━━━━━━━━━━━━━━━┓\n",
       "┃<span style=\"font-weight: bold\">   Source Location    </span>┃<span style=\"font-weight: bold\">   Categories   </span>┃<span style=\"font-weight: bold\"> scvi-tools Encoding </span>┃\n",
       "┡━━━━━━━━━━━━━━━━━━━━━━╇━━━━━━━━━━━━━━━━╇━━━━━━━━━━━━━━━━━━━━━┩\n",
       "│<span style=\"color: #0087ff; text-decoration-color: #0087ff\"> adata.obs['patient'] </span>│<span style=\"color: #008000; text-decoration-color: #008000\">      AP1       </span>│<span style=\"color: #af00d7; text-decoration-color: #af00d7\">          0          </span>│\n",
       "│<span style=\"color: #0087ff; text-decoration-color: #0087ff\">                      </span>│<span style=\"color: #008000; text-decoration-color: #008000\">      AP10      </span>│<span style=\"color: #af00d7; text-decoration-color: #af00d7\">          1          </span>│\n",
       "│<span style=\"color: #0087ff; text-decoration-color: #0087ff\">                      </span>│<span style=\"color: #008000; text-decoration-color: #008000\">      AP11      </span>│<span style=\"color: #af00d7; text-decoration-color: #af00d7\">          2          </span>│\n",
       "│<span style=\"color: #0087ff; text-decoration-color: #0087ff\">                      </span>│<span style=\"color: #008000; text-decoration-color: #008000\">      AP12      </span>│<span style=\"color: #af00d7; text-decoration-color: #af00d7\">          3          </span>│\n",
       "│<span style=\"color: #0087ff; text-decoration-color: #0087ff\">                      </span>│<span style=\"color: #008000; text-decoration-color: #008000\">      AP2       </span>│<span style=\"color: #af00d7; text-decoration-color: #af00d7\">          4          </span>│\n",
       "│<span style=\"color: #0087ff; text-decoration-color: #0087ff\">                      </span>│<span style=\"color: #008000; text-decoration-color: #008000\">      AP3       </span>│<span style=\"color: #af00d7; text-decoration-color: #af00d7\">          5          </span>│\n",
       "│<span style=\"color: #0087ff; text-decoration-color: #0087ff\">                      </span>│<span style=\"color: #008000; text-decoration-color: #008000\">      AP4       </span>│<span style=\"color: #af00d7; text-decoration-color: #af00d7\">          6          </span>│\n",
       "│<span style=\"color: #0087ff; text-decoration-color: #0087ff\">                      </span>│<span style=\"color: #008000; text-decoration-color: #008000\">      AP5       </span>│<span style=\"color: #af00d7; text-decoration-color: #af00d7\">          7          </span>│\n",
       "│<span style=\"color: #0087ff; text-decoration-color: #0087ff\">                      </span>│<span style=\"color: #008000; text-decoration-color: #008000\">      AP6       </span>│<span style=\"color: #af00d7; text-decoration-color: #af00d7\">          8          </span>│\n",
       "│<span style=\"color: #0087ff; text-decoration-color: #0087ff\">                      </span>│<span style=\"color: #008000; text-decoration-color: #008000\">      AP8       </span>│<span style=\"color: #af00d7; text-decoration-color: #af00d7\">          9          </span>│\n",
       "│<span style=\"color: #0087ff; text-decoration-color: #0087ff\">                      </span>│<span style=\"color: #008000; text-decoration-color: #008000\">      AP9       </span>│<span style=\"color: #af00d7; text-decoration-color: #af00d7\">         10          </span>│\n",
       "│<span style=\"color: #0087ff; text-decoration-color: #0087ff\">                      </span>│<span style=\"color: #008000; text-decoration-color: #008000\"> BGCV01_CV0025  </span>│<span style=\"color: #af00d7; text-decoration-color: #af00d7\">         11          </span>│\n",
       "│<span style=\"color: #0087ff; text-decoration-color: #0087ff\">                      </span>│<span style=\"color: #008000; text-decoration-color: #008000\"> BGCV01_CV0144  </span>│<span style=\"color: #af00d7; text-decoration-color: #af00d7\">         12          </span>│\n",
       "│<span style=\"color: #0087ff; text-decoration-color: #0087ff\">                      </span>│<span style=\"color: #008000; text-decoration-color: #008000\"> BGCV01_CV0902  </span>│<span style=\"color: #af00d7; text-decoration-color: #af00d7\">         13          </span>│\n",
       "│<span style=\"color: #0087ff; text-decoration-color: #0087ff\">                      </span>│<span style=\"color: #008000; text-decoration-color: #008000\"> BGCV01_CV0904  </span>│<span style=\"color: #af00d7; text-decoration-color: #af00d7\">         14          </span>│\n",
       "│<span style=\"color: #0087ff; text-decoration-color: #0087ff\">                      </span>│<span style=\"color: #008000; text-decoration-color: #008000\"> BGCV02_CV0052  </span>│<span style=\"color: #af00d7; text-decoration-color: #af00d7\">         15          </span>│\n",
       "│<span style=\"color: #0087ff; text-decoration-color: #0087ff\">                      </span>│<span style=\"color: #008000; text-decoration-color: #008000\"> BGCV02_CV0059  </span>│<span style=\"color: #af00d7; text-decoration-color: #af00d7\">         16          </span>│\n",
       "│<span style=\"color: #0087ff; text-decoration-color: #0087ff\">                      </span>│<span style=\"color: #008000; text-decoration-color: #008000\"> BGCV02_CV0068  </span>│<span style=\"color: #af00d7; text-decoration-color: #af00d7\">         17          </span>│\n",
       "│<span style=\"color: #0087ff; text-decoration-color: #0087ff\">                      </span>│<span style=\"color: #008000; text-decoration-color: #008000\"> BGCV02_CV0902  </span>│<span style=\"color: #af00d7; text-decoration-color: #af00d7\">         18          </span>│\n",
       "│<span style=\"color: #0087ff; text-decoration-color: #0087ff\">                      </span>│<span style=\"color: #008000; text-decoration-color: #008000\"> BGCV03_CV0074  </span>│<span style=\"color: #af00d7; text-decoration-color: #af00d7\">         19          </span>│\n",
       "│<span style=\"color: #0087ff; text-decoration-color: #0087ff\">                      </span>│<span style=\"color: #008000; text-decoration-color: #008000\"> BGCV03_CV0084  </span>│<span style=\"color: #af00d7; text-decoration-color: #af00d7\">         20          </span>│\n",
       "│<span style=\"color: #0087ff; text-decoration-color: #0087ff\">                      </span>│<span style=\"color: #008000; text-decoration-color: #008000\"> BGCV03_CV0176  </span>│<span style=\"color: #af00d7; text-decoration-color: #af00d7\">         21          </span>│\n",
       "│<span style=\"color: #0087ff; text-decoration-color: #0087ff\">                      </span>│<span style=\"color: #008000; text-decoration-color: #008000\"> BGCV03_CV0200  </span>│<span style=\"color: #af00d7; text-decoration-color: #af00d7\">         22          </span>│\n",
       "│<span style=\"color: #0087ff; text-decoration-color: #0087ff\">                      </span>│<span style=\"color: #008000; text-decoration-color: #008000\"> BGCV04_CV0100  </span>│<span style=\"color: #af00d7; text-decoration-color: #af00d7\">         23          </span>│\n",
       "│<span style=\"color: #0087ff; text-decoration-color: #0087ff\">                      </span>│<span style=\"color: #008000; text-decoration-color: #008000\"> BGCV04_CV0164  </span>│<span style=\"color: #af00d7; text-decoration-color: #af00d7\">         24          </span>│\n",
       "│<span style=\"color: #0087ff; text-decoration-color: #0087ff\">                      </span>│<span style=\"color: #008000; text-decoration-color: #008000\"> BGCV04_CV0262  </span>│<span style=\"color: #af00d7; text-decoration-color: #af00d7\">         25          </span>│\n",
       "│<span style=\"color: #0087ff; text-decoration-color: #0087ff\">                      </span>│<span style=\"color: #008000; text-decoration-color: #008000\"> BGCV04_CV0911  </span>│<span style=\"color: #af00d7; text-decoration-color: #af00d7\">         26          </span>│\n",
       "│<span style=\"color: #0087ff; text-decoration-color: #0087ff\">                      </span>│<span style=\"color: #008000; text-decoration-color: #008000\"> BGCV05_CV0120  </span>│<span style=\"color: #af00d7; text-decoration-color: #af00d7\">         27          </span>│\n",
       "│<span style=\"color: #0087ff; text-decoration-color: #0087ff\">                      </span>│<span style=\"color: #008000; text-decoration-color: #008000\"> BGCV05_CV0128  </span>│<span style=\"color: #af00d7; text-decoration-color: #af00d7\">         28          </span>│\n",
       "│<span style=\"color: #0087ff; text-decoration-color: #0087ff\">                      </span>│<span style=\"color: #008000; text-decoration-color: #008000\"> BGCV05_CV0284  </span>│<span style=\"color: #af00d7; text-decoration-color: #af00d7\">         29          </span>│\n",
       "│<span style=\"color: #0087ff; text-decoration-color: #0087ff\">                      </span>│<span style=\"color: #008000; text-decoration-color: #008000\"> BGCV05_CV0929  </span>│<span style=\"color: #af00d7; text-decoration-color: #af00d7\">         30          </span>│\n",
       "│<span style=\"color: #0087ff; text-decoration-color: #0087ff\">                      </span>│<span style=\"color: #008000; text-decoration-color: #008000\"> BGCV06_CV0037  </span>│<span style=\"color: #af00d7; text-decoration-color: #af00d7\">         31          </span>│\n",
       "│<span style=\"color: #0087ff; text-decoration-color: #0087ff\">                      </span>│<span style=\"color: #008000; text-decoration-color: #008000\"> BGCV06_CV0178  </span>│<span style=\"color: #af00d7; text-decoration-color: #af00d7\">         32          </span>│\n",
       "│<span style=\"color: #0087ff; text-decoration-color: #0087ff\">                      </span>│<span style=\"color: #008000; text-decoration-color: #008000\"> BGCV06_CV0201  </span>│<span style=\"color: #af00d7; text-decoration-color: #af00d7\">         33          </span>│\n",
       "│<span style=\"color: #0087ff; text-decoration-color: #0087ff\">                      </span>│<span style=\"color: #008000; text-decoration-color: #008000\"> BGCV06_CV0234  </span>│<span style=\"color: #af00d7; text-decoration-color: #af00d7\">         34          </span>│\n",
       "│<span style=\"color: #0087ff; text-decoration-color: #0087ff\">                      </span>│<span style=\"color: #008000; text-decoration-color: #008000\"> BGCV07_CV0094  </span>│<span style=\"color: #af00d7; text-decoration-color: #af00d7\">         35          </span>│\n",
       "│<span style=\"color: #0087ff; text-decoration-color: #0087ff\">                      </span>│<span style=\"color: #008000; text-decoration-color: #008000\"> BGCV07_CV0104  </span>│<span style=\"color: #af00d7; text-decoration-color: #af00d7\">         36          </span>│\n",
       "│<span style=\"color: #0087ff; text-decoration-color: #0087ff\">                      </span>│<span style=\"color: #008000; text-decoration-color: #008000\"> BGCV07_CV0134  </span>│<span style=\"color: #af00d7; text-decoration-color: #af00d7\">         37          </span>│\n",
       "│<span style=\"color: #0087ff; text-decoration-color: #0087ff\">                      </span>│<span style=\"color: #008000; text-decoration-color: #008000\"> BGCV07_CV0137  </span>│<span style=\"color: #af00d7; text-decoration-color: #af00d7\">         38          </span>│\n",
       "│<span style=\"color: #0087ff; text-decoration-color: #0087ff\">                      </span>│<span style=\"color: #008000; text-decoration-color: #008000\"> BGCV08_CV0073  </span>│<span style=\"color: #af00d7; text-decoration-color: #af00d7\">         39          </span>│\n",
       "│<span style=\"color: #0087ff; text-decoration-color: #0087ff\">                      </span>│<span style=\"color: #008000; text-decoration-color: #008000\"> BGCV08_CV0155  </span>│<span style=\"color: #af00d7; text-decoration-color: #af00d7\">         40          </span>│\n",
       "│<span style=\"color: #0087ff; text-decoration-color: #0087ff\">                      </span>│<span style=\"color: #008000; text-decoration-color: #008000\"> BGCV08_CV0201  </span>│<span style=\"color: #af00d7; text-decoration-color: #af00d7\">         41          </span>│\n",
       "│<span style=\"color: #0087ff; text-decoration-color: #0087ff\">                      </span>│<span style=\"color: #008000; text-decoration-color: #008000\"> BGCV08_CV0915  </span>│<span style=\"color: #af00d7; text-decoration-color: #af00d7\">         42          </span>│\n",
       "│<span style=\"color: #0087ff; text-decoration-color: #0087ff\">                      </span>│<span style=\"color: #008000; text-decoration-color: #008000\"> BGCV09_CV0062  </span>│<span style=\"color: #af00d7; text-decoration-color: #af00d7\">         43          </span>│\n",
       "│<span style=\"color: #0087ff; text-decoration-color: #0087ff\">                      </span>│<span style=\"color: #008000; text-decoration-color: #008000\"> BGCV09_CV0171  </span>│<span style=\"color: #af00d7; text-decoration-color: #af00d7\">         44          </span>│\n",
       "│<span style=\"color: #0087ff; text-decoration-color: #0087ff\">                      </span>│<span style=\"color: #008000; text-decoration-color: #008000\"> BGCV09_CV0279  </span>│<span style=\"color: #af00d7; text-decoration-color: #af00d7\">         45          </span>│\n",
       "│<span style=\"color: #0087ff; text-decoration-color: #0087ff\">                      </span>│<span style=\"color: #008000; text-decoration-color: #008000\"> BGCV09_CV0917  </span>│<span style=\"color: #af00d7; text-decoration-color: #af00d7\">         46          </span>│\n",
       "│<span style=\"color: #0087ff; text-decoration-color: #0087ff\">                      </span>│<span style=\"color: #008000; text-decoration-color: #008000\"> BGCV10_CV0160  </span>│<span style=\"color: #af00d7; text-decoration-color: #af00d7\">         47          </span>│\n",
       "│<span style=\"color: #0087ff; text-decoration-color: #0087ff\">                      </span>│<span style=\"color: #008000; text-decoration-color: #008000\"> BGCV10_CV0198  </span>│<span style=\"color: #af00d7; text-decoration-color: #af00d7\">         48          </span>│\n",
       "│<span style=\"color: #0087ff; text-decoration-color: #0087ff\">                      </span>│<span style=\"color: #008000; text-decoration-color: #008000\"> BGCV10_CV0231  </span>│<span style=\"color: #af00d7; text-decoration-color: #af00d7\">         49          </span>│\n",
       "│<span style=\"color: #0087ff; text-decoration-color: #0087ff\">                      </span>│<span style=\"color: #008000; text-decoration-color: #008000\"> BGCV10_CV0939  </span>│<span style=\"color: #af00d7; text-decoration-color: #af00d7\">         50          </span>│\n",
       "│<span style=\"color: #0087ff; text-decoration-color: #0087ff\">                      </span>│<span style=\"color: #008000; text-decoration-color: #008000\"> BGCV11_CV0050  </span>│<span style=\"color: #af00d7; text-decoration-color: #af00d7\">         51          </span>│\n",
       "│<span style=\"color: #0087ff; text-decoration-color: #0087ff\">                      </span>│<span style=\"color: #008000; text-decoration-color: #008000\"> BGCV11_CV0058  </span>│<span style=\"color: #af00d7; text-decoration-color: #af00d7\">         52          </span>│\n",
       "│<span style=\"color: #0087ff; text-decoration-color: #0087ff\">                      </span>│<span style=\"color: #008000; text-decoration-color: #008000\"> BGCV11_CV0180  </span>│<span style=\"color: #af00d7; text-decoration-color: #af00d7\">         53          </span>│\n",
       "│<span style=\"color: #0087ff; text-decoration-color: #0087ff\">                      </span>│<span style=\"color: #008000; text-decoration-color: #008000\"> BGCV11_CV0257  </span>│<span style=\"color: #af00d7; text-decoration-color: #af00d7\">         54          </span>│\n",
       "│<span style=\"color: #0087ff; text-decoration-color: #0087ff\">                      </span>│<span style=\"color: #008000; text-decoration-color: #008000\"> BGCV12_CV0062  </span>│<span style=\"color: #af00d7; text-decoration-color: #af00d7\">         55          </span>│\n",
       "│<span style=\"color: #0087ff; text-decoration-color: #0087ff\">                      </span>│<span style=\"color: #008000; text-decoration-color: #008000\"> BGCV12_CV0068  </span>│<span style=\"color: #af00d7; text-decoration-color: #af00d7\">         56          </span>│\n",
       "│<span style=\"color: #0087ff; text-decoration-color: #0087ff\">                      </span>│<span style=\"color: #008000; text-decoration-color: #008000\"> BGCV12_CV0178  </span>│<span style=\"color: #af00d7; text-decoration-color: #af00d7\">         57          </span>│\n",
       "│<span style=\"color: #0087ff; text-decoration-color: #0087ff\">                      </span>│<span style=\"color: #008000; text-decoration-color: #008000\"> BGCV12_CV0926  </span>│<span style=\"color: #af00d7; text-decoration-color: #af00d7\">         58          </span>│\n",
       "│<span style=\"color: #0087ff; text-decoration-color: #0087ff\">                      </span>│<span style=\"color: #008000; text-decoration-color: #008000\"> BGCV13_CV0073  </span>│<span style=\"color: #af00d7; text-decoration-color: #af00d7\">         59          </span>│\n",
       "│<span style=\"color: #0087ff; text-decoration-color: #0087ff\">                      </span>│<span style=\"color: #008000; text-decoration-color: #008000\"> BGCV13_CV0171  </span>│<span style=\"color: #af00d7; text-decoration-color: #af00d7\">         60          </span>│\n",
       "│<span style=\"color: #0087ff; text-decoration-color: #0087ff\">                      </span>│<span style=\"color: #008000; text-decoration-color: #008000\"> BGCV13_CV0326  </span>│<span style=\"color: #af00d7; text-decoration-color: #af00d7\">         61          </span>│\n",
       "│<span style=\"color: #0087ff; text-decoration-color: #0087ff\">                      </span>│<span style=\"color: #008000; text-decoration-color: #008000\"> BGCV13_CV0934  </span>│<span style=\"color: #af00d7; text-decoration-color: #af00d7\">         62          </span>│\n",
       "│<span style=\"color: #0087ff; text-decoration-color: #0087ff\">                      </span>│<span style=\"color: #008000; text-decoration-color: #008000\"> BGCV14_CV0050  </span>│<span style=\"color: #af00d7; text-decoration-color: #af00d7\">         63          </span>│\n",
       "│<span style=\"color: #0087ff; text-decoration-color: #0087ff\">                      </span>│<span style=\"color: #008000; text-decoration-color: #008000\"> BGCV14_CV0137  </span>│<span style=\"color: #af00d7; text-decoration-color: #af00d7\">         64          </span>│\n",
       "│<span style=\"color: #0087ff; text-decoration-color: #0087ff\">                      </span>│<span style=\"color: #008000; text-decoration-color: #008000\"> BGCV14_CV0284  </span>│<span style=\"color: #af00d7; text-decoration-color: #af00d7\">         65          </span>│\n",
       "│<span style=\"color: #0087ff; text-decoration-color: #0087ff\">                      </span>│<span style=\"color: #008000; text-decoration-color: #008000\"> BGCV14_CV0940  </span>│<span style=\"color: #af00d7; text-decoration-color: #af00d7\">         66          </span>│\n",
       "│<span style=\"color: #0087ff; text-decoration-color: #0087ff\">                      </span>│<span style=\"color: #008000; text-decoration-color: #008000\"> BGCV15_CV0176  </span>│<span style=\"color: #af00d7; text-decoration-color: #af00d7\">         67          </span>│\n",
       "│<span style=\"color: #0087ff; text-decoration-color: #0087ff\">                      </span>│<span style=\"color: #008000; text-decoration-color: #008000\"> BGCV15_CV0231  </span>│<span style=\"color: #af00d7; text-decoration-color: #af00d7\">         68          </span>│\n",
       "│<span style=\"color: #0087ff; text-decoration-color: #0087ff\">                      </span>│<span style=\"color: #008000; text-decoration-color: #008000\"> BGCV15_CV0257  </span>│<span style=\"color: #af00d7; text-decoration-color: #af00d7\">         69          </span>│\n",
       "│<span style=\"color: #0087ff; text-decoration-color: #0087ff\">                      </span>│<span style=\"color: #008000; text-decoration-color: #008000\"> BGCV15_CV0944  </span>│<span style=\"color: #af00d7; text-decoration-color: #af00d7\">         70          </span>│\n",
       "│<span style=\"color: #0087ff; text-decoration-color: #0087ff\">                      </span>│<span style=\"color: #008000; text-decoration-color: #008000\">     GWAS_1     </span>│<span style=\"color: #af00d7; text-decoration-color: #af00d7\">         71          </span>│\n",
       "│<span style=\"color: #0087ff; text-decoration-color: #0087ff\">                      </span>│<span style=\"color: #008000; text-decoration-color: #008000\">    GWAS_10     </span>│<span style=\"color: #af00d7; text-decoration-color: #af00d7\">         72          </span>│\n",
       "│<span style=\"color: #0087ff; text-decoration-color: #0087ff\">                      </span>│<span style=\"color: #008000; text-decoration-color: #008000\">    GWAS_11     </span>│<span style=\"color: #af00d7; text-decoration-color: #af00d7\">         73          </span>│\n",
       "│<span style=\"color: #0087ff; text-decoration-color: #0087ff\">                      </span>│<span style=\"color: #008000; text-decoration-color: #008000\">    GWAS_12     </span>│<span style=\"color: #af00d7; text-decoration-color: #af00d7\">         74          </span>│\n",
       "│<span style=\"color: #0087ff; text-decoration-color: #0087ff\">                      </span>│<span style=\"color: #008000; text-decoration-color: #008000\">    GWAS_13     </span>│<span style=\"color: #af00d7; text-decoration-color: #af00d7\">         75          </span>│\n",
       "│<span style=\"color: #0087ff; text-decoration-color: #0087ff\">                      </span>│<span style=\"color: #008000; text-decoration-color: #008000\">     GWAS_2     </span>│<span style=\"color: #af00d7; text-decoration-color: #af00d7\">         76          </span>│\n",
       "│<span style=\"color: #0087ff; text-decoration-color: #0087ff\">                      </span>│<span style=\"color: #008000; text-decoration-color: #008000\">     GWAS_3     </span>│<span style=\"color: #af00d7; text-decoration-color: #af00d7\">         77          </span>│\n",
       "│<span style=\"color: #0087ff; text-decoration-color: #0087ff\">                      </span>│<span style=\"color: #008000; text-decoration-color: #008000\">     GWAS_4     </span>│<span style=\"color: #af00d7; text-decoration-color: #af00d7\">         78          </span>│\n",
       "│<span style=\"color: #0087ff; text-decoration-color: #0087ff\">                      </span>│<span style=\"color: #008000; text-decoration-color: #008000\">     GWAS_5     </span>│<span style=\"color: #af00d7; text-decoration-color: #af00d7\">         79          </span>│\n",
       "│<span style=\"color: #0087ff; text-decoration-color: #0087ff\">                      </span>│<span style=\"color: #008000; text-decoration-color: #008000\">     GWAS_8     </span>│<span style=\"color: #af00d7; text-decoration-color: #af00d7\">         80          </span>│\n",
       "│<span style=\"color: #0087ff; text-decoration-color: #0087ff\">                      </span>│<span style=\"color: #008000; text-decoration-color: #008000\">   MH8919176    </span>│<span style=\"color: #af00d7; text-decoration-color: #af00d7\">         81          </span>│\n",
       "│<span style=\"color: #0087ff; text-decoration-color: #0087ff\">                      </span>│<span style=\"color: #008000; text-decoration-color: #008000\">   MH8919177    </span>│<span style=\"color: #af00d7; text-decoration-color: #af00d7\">         82          </span>│\n",
       "│<span style=\"color: #0087ff; text-decoration-color: #0087ff\">                      </span>│<span style=\"color: #008000; text-decoration-color: #008000\">   MH8919178    </span>│<span style=\"color: #af00d7; text-decoration-color: #af00d7\">         83          </span>│\n",
       "│<span style=\"color: #0087ff; text-decoration-color: #0087ff\">                      </span>│<span style=\"color: #008000; text-decoration-color: #008000\">   MH8919179    </span>│<span style=\"color: #af00d7; text-decoration-color: #af00d7\">         84          </span>│\n",
       "│<span style=\"color: #0087ff; text-decoration-color: #0087ff\">                      </span>│<span style=\"color: #008000; text-decoration-color: #008000\">   MH8919226    </span>│<span style=\"color: #af00d7; text-decoration-color: #af00d7\">         85          </span>│\n",
       "│<span style=\"color: #0087ff; text-decoration-color: #0087ff\">                      </span>│<span style=\"color: #008000; text-decoration-color: #008000\">   MH8919227    </span>│<span style=\"color: #af00d7; text-decoration-color: #af00d7\">         86          </span>│\n",
       "│<span style=\"color: #0087ff; text-decoration-color: #0087ff\">                      </span>│<span style=\"color: #008000; text-decoration-color: #008000\">   MH8919228    </span>│<span style=\"color: #af00d7; text-decoration-color: #af00d7\">         87          </span>│\n",
       "│<span style=\"color: #0087ff; text-decoration-color: #0087ff\">                      </span>│<span style=\"color: #008000; text-decoration-color: #008000\">   MH8919229    </span>│<span style=\"color: #af00d7; text-decoration-color: #af00d7\">         88          </span>│\n",
       "│<span style=\"color: #0087ff; text-decoration-color: #0087ff\">                      </span>│<span style=\"color: #008000; text-decoration-color: #008000\">   MH8919230    </span>│<span style=\"color: #af00d7; text-decoration-color: #af00d7\">         89          </span>│\n",
       "│<span style=\"color: #0087ff; text-decoration-color: #0087ff\">                      </span>│<span style=\"color: #008000; text-decoration-color: #008000\">   MH8919231    </span>│<span style=\"color: #af00d7; text-decoration-color: #af00d7\">         90          </span>│\n",
       "│<span style=\"color: #0087ff; text-decoration-color: #0087ff\">                      </span>│<span style=\"color: #008000; text-decoration-color: #008000\">   MH8919232    </span>│<span style=\"color: #af00d7; text-decoration-color: #af00d7\">         91          </span>│\n",
       "│<span style=\"color: #0087ff; text-decoration-color: #0087ff\">                      </span>│<span style=\"color: #008000; text-decoration-color: #008000\">   MH8919233    </span>│<span style=\"color: #af00d7; text-decoration-color: #af00d7\">         92          </span>│\n",
       "│<span style=\"color: #0087ff; text-decoration-color: #0087ff\">                      </span>│<span style=\"color: #008000; text-decoration-color: #008000\">   MH8919276    </span>│<span style=\"color: #af00d7; text-decoration-color: #af00d7\">         93          </span>│\n",
       "│<span style=\"color: #0087ff; text-decoration-color: #0087ff\">                      </span>│<span style=\"color: #008000; text-decoration-color: #008000\">   MH8919277    </span>│<span style=\"color: #af00d7; text-decoration-color: #af00d7\">         94          </span>│\n",
       "│<span style=\"color: #0087ff; text-decoration-color: #0087ff\">                      </span>│<span style=\"color: #008000; text-decoration-color: #008000\">   MH8919278    </span>│<span style=\"color: #af00d7; text-decoration-color: #af00d7\">         95          </span>│\n",
       "│<span style=\"color: #0087ff; text-decoration-color: #0087ff\">                      </span>│<span style=\"color: #008000; text-decoration-color: #008000\">   MH8919279    </span>│<span style=\"color: #af00d7; text-decoration-color: #af00d7\">         96          </span>│\n",
       "│<span style=\"color: #0087ff; text-decoration-color: #0087ff\">                      </span>│<span style=\"color: #008000; text-decoration-color: #008000\">   MH8919280    </span>│<span style=\"color: #af00d7; text-decoration-color: #af00d7\">         97          </span>│\n",
       "│<span style=\"color: #0087ff; text-decoration-color: #0087ff\">                      </span>│<span style=\"color: #008000; text-decoration-color: #008000\">   MH8919281    </span>│<span style=\"color: #af00d7; text-decoration-color: #af00d7\">         98          </span>│\n",
       "│<span style=\"color: #0087ff; text-decoration-color: #0087ff\">                      </span>│<span style=\"color: #008000; text-decoration-color: #008000\">   MH8919282    </span>│<span style=\"color: #af00d7; text-decoration-color: #af00d7\">         99          </span>│\n",
       "│<span style=\"color: #0087ff; text-decoration-color: #0087ff\">                      </span>│<span style=\"color: #008000; text-decoration-color: #008000\">   MH8919283    </span>│<span style=\"color: #af00d7; text-decoration-color: #af00d7\">         100         </span>│\n",
       "│<span style=\"color: #0087ff; text-decoration-color: #0087ff\">                      </span>│<span style=\"color: #008000; text-decoration-color: #008000\">   MH8919326    </span>│<span style=\"color: #af00d7; text-decoration-color: #af00d7\">         101         </span>│\n",
       "│<span style=\"color: #0087ff; text-decoration-color: #0087ff\">                      </span>│<span style=\"color: #008000; text-decoration-color: #008000\">   MH8919327    </span>│<span style=\"color: #af00d7; text-decoration-color: #af00d7\">         102         </span>│\n",
       "│<span style=\"color: #0087ff; text-decoration-color: #0087ff\">                      </span>│<span style=\"color: #008000; text-decoration-color: #008000\">   MH8919328    </span>│<span style=\"color: #af00d7; text-decoration-color: #af00d7\">         103         </span>│\n",
       "│<span style=\"color: #0087ff; text-decoration-color: #0087ff\">                      </span>│<span style=\"color: #008000; text-decoration-color: #008000\">   MH8919329    </span>│<span style=\"color: #af00d7; text-decoration-color: #af00d7\">         104         </span>│\n",
       "│<span style=\"color: #0087ff; text-decoration-color: #0087ff\">                      </span>│<span style=\"color: #008000; text-decoration-color: #008000\">   MH8919330    </span>│<span style=\"color: #af00d7; text-decoration-color: #af00d7\">         105         </span>│\n",
       "│<span style=\"color: #0087ff; text-decoration-color: #0087ff\">                      </span>│<span style=\"color: #008000; text-decoration-color: #008000\">   MH8919331    </span>│<span style=\"color: #af00d7; text-decoration-color: #af00d7\">         106         </span>│\n",
       "│<span style=\"color: #0087ff; text-decoration-color: #0087ff\">                      </span>│<span style=\"color: #008000; text-decoration-color: #008000\">   MH8919332    </span>│<span style=\"color: #af00d7; text-decoration-color: #af00d7\">         107         </span>│\n",
       "│<span style=\"color: #0087ff; text-decoration-color: #0087ff\">                      </span>│<span style=\"color: #008000; text-decoration-color: #008000\">   MH8919333    </span>│<span style=\"color: #af00d7; text-decoration-color: #af00d7\">         108         </span>│\n",
       "│<span style=\"color: #0087ff; text-decoration-color: #0087ff\">                      </span>│<span style=\"color: #008000; text-decoration-color: #008000\">   MH9143270    </span>│<span style=\"color: #af00d7; text-decoration-color: #af00d7\">         109         </span>│\n",
       "│<span style=\"color: #0087ff; text-decoration-color: #0087ff\">                      </span>│<span style=\"color: #008000; text-decoration-color: #008000\">   MH9143271    </span>│<span style=\"color: #af00d7; text-decoration-color: #af00d7\">         110         </span>│\n",
       "│<span style=\"color: #0087ff; text-decoration-color: #0087ff\">                      </span>│<span style=\"color: #008000; text-decoration-color: #008000\">   MH9143272    </span>│<span style=\"color: #af00d7; text-decoration-color: #af00d7\">         111         </span>│\n",
       "│<span style=\"color: #0087ff; text-decoration-color: #0087ff\">                      </span>│<span style=\"color: #008000; text-decoration-color: #008000\">   MH9143273    </span>│<span style=\"color: #af00d7; text-decoration-color: #af00d7\">         112         </span>│\n",
       "│<span style=\"color: #0087ff; text-decoration-color: #0087ff\">                      </span>│<span style=\"color: #008000; text-decoration-color: #008000\">   MH9143274    </span>│<span style=\"color: #af00d7; text-decoration-color: #af00d7\">         113         </span>│\n",
       "│<span style=\"color: #0087ff; text-decoration-color: #0087ff\">                      </span>│<span style=\"color: #008000; text-decoration-color: #008000\">   MH9143275    </span>│<span style=\"color: #af00d7; text-decoration-color: #af00d7\">         114         </span>│\n",
       "│<span style=\"color: #0087ff; text-decoration-color: #0087ff\">                      </span>│<span style=\"color: #008000; text-decoration-color: #008000\">   MH9143276    </span>│<span style=\"color: #af00d7; text-decoration-color: #af00d7\">         115         </span>│\n",
       "│<span style=\"color: #0087ff; text-decoration-color: #0087ff\">                      </span>│<span style=\"color: #008000; text-decoration-color: #008000\">   MH9143277    </span>│<span style=\"color: #af00d7; text-decoration-color: #af00d7\">         116         </span>│\n",
       "│<span style=\"color: #0087ff; text-decoration-color: #0087ff\">                      </span>│<span style=\"color: #008000; text-decoration-color: #008000\">   MH9143320    </span>│<span style=\"color: #af00d7; text-decoration-color: #af00d7\">         117         </span>│\n",
       "│<span style=\"color: #0087ff; text-decoration-color: #0087ff\">                      </span>│<span style=\"color: #008000; text-decoration-color: #008000\">   MH9143321    </span>│<span style=\"color: #af00d7; text-decoration-color: #af00d7\">         118         </span>│\n",
       "│<span style=\"color: #0087ff; text-decoration-color: #0087ff\">                      </span>│<span style=\"color: #008000; text-decoration-color: #008000\">   MH9143322    </span>│<span style=\"color: #af00d7; text-decoration-color: #af00d7\">         119         </span>│\n",
       "│<span style=\"color: #0087ff; text-decoration-color: #0087ff\">                      </span>│<span style=\"color: #008000; text-decoration-color: #008000\">   MH9143323    </span>│<span style=\"color: #af00d7; text-decoration-color: #af00d7\">         120         </span>│\n",
       "│<span style=\"color: #0087ff; text-decoration-color: #0087ff\">                      </span>│<span style=\"color: #008000; text-decoration-color: #008000\">   MH9143324    </span>│<span style=\"color: #af00d7; text-decoration-color: #af00d7\">         121         </span>│\n",
       "│<span style=\"color: #0087ff; text-decoration-color: #0087ff\">                      </span>│<span style=\"color: #008000; text-decoration-color: #008000\">   MH9143325    </span>│<span style=\"color: #af00d7; text-decoration-color: #af00d7\">         122         </span>│\n",
       "│<span style=\"color: #0087ff; text-decoration-color: #0087ff\">                      </span>│<span style=\"color: #008000; text-decoration-color: #008000\">   MH9143326    </span>│<span style=\"color: #af00d7; text-decoration-color: #af00d7\">         123         </span>│\n",
       "│<span style=\"color: #0087ff; text-decoration-color: #0087ff\">                      </span>│<span style=\"color: #008000; text-decoration-color: #008000\">   MH9143327    </span>│<span style=\"color: #af00d7; text-decoration-color: #af00d7\">         124         </span>│\n",
       "│<span style=\"color: #0087ff; text-decoration-color: #0087ff\">                      </span>│<span style=\"color: #008000; text-decoration-color: #008000\">   MH9143370    </span>│<span style=\"color: #af00d7; text-decoration-color: #af00d7\">         125         </span>│\n",
       "│<span style=\"color: #0087ff; text-decoration-color: #0087ff\">                      </span>│<span style=\"color: #008000; text-decoration-color: #008000\">   MH9143371    </span>│<span style=\"color: #af00d7; text-decoration-color: #af00d7\">         126         </span>│\n",
       "│<span style=\"color: #0087ff; text-decoration-color: #0087ff\">                      </span>│<span style=\"color: #008000; text-decoration-color: #008000\">   MH9143372    </span>│<span style=\"color: #af00d7; text-decoration-color: #af00d7\">         127         </span>│\n",
       "│<span style=\"color: #0087ff; text-decoration-color: #0087ff\">                      </span>│<span style=\"color: #008000; text-decoration-color: #008000\">   MH9143373    </span>│<span style=\"color: #af00d7; text-decoration-color: #af00d7\">         128         </span>│\n",
       "│<span style=\"color: #0087ff; text-decoration-color: #0087ff\">                      </span>│<span style=\"color: #008000; text-decoration-color: #008000\">   MH9143420    </span>│<span style=\"color: #af00d7; text-decoration-color: #af00d7\">         129         </span>│\n",
       "│<span style=\"color: #0087ff; text-decoration-color: #0087ff\">                      </span>│<span style=\"color: #008000; text-decoration-color: #008000\">   MH9143421    </span>│<span style=\"color: #af00d7; text-decoration-color: #af00d7\">         130         </span>│\n",
       "│<span style=\"color: #0087ff; text-decoration-color: #0087ff\">                      </span>│<span style=\"color: #008000; text-decoration-color: #008000\">   MH9143422    </span>│<span style=\"color: #af00d7; text-decoration-color: #af00d7\">         131         </span>│\n",
       "│<span style=\"color: #0087ff; text-decoration-color: #0087ff\">                      </span>│<span style=\"color: #008000; text-decoration-color: #008000\">   MH9143423    </span>│<span style=\"color: #af00d7; text-decoration-color: #af00d7\">         132         </span>│\n",
       "│<span style=\"color: #0087ff; text-decoration-color: #0087ff\">                      </span>│<span style=\"color: #008000; text-decoration-color: #008000\">   MH9143424    </span>│<span style=\"color: #af00d7; text-decoration-color: #af00d7\">         133         </span>│\n",
       "│<span style=\"color: #0087ff; text-decoration-color: #0087ff\">                      </span>│<span style=\"color: #008000; text-decoration-color: #008000\">   MH9143425    </span>│<span style=\"color: #af00d7; text-decoration-color: #af00d7\">         134         </span>│\n",
       "│<span style=\"color: #0087ff; text-decoration-color: #0087ff\">                      </span>│<span style=\"color: #008000; text-decoration-color: #008000\">   MH9143426    </span>│<span style=\"color: #af00d7; text-decoration-color: #af00d7\">         135         </span>│\n",
       "│<span style=\"color: #0087ff; text-decoration-color: #0087ff\">                      </span>│<span style=\"color: #008000; text-decoration-color: #008000\">   MH9143427    </span>│<span style=\"color: #af00d7; text-decoration-color: #af00d7\">         136         </span>│\n",
       "│<span style=\"color: #0087ff; text-decoration-color: #0087ff\">                      </span>│<span style=\"color: #008000; text-decoration-color: #008000\">   MH9179821    </span>│<span style=\"color: #af00d7; text-decoration-color: #af00d7\">         137         </span>│\n",
       "│<span style=\"color: #0087ff; text-decoration-color: #0087ff\">                      </span>│<span style=\"color: #008000; text-decoration-color: #008000\">   MH9179822    </span>│<span style=\"color: #af00d7; text-decoration-color: #af00d7\">         138         </span>│\n",
       "│<span style=\"color: #0087ff; text-decoration-color: #0087ff\">                      </span>│<span style=\"color: #008000; text-decoration-color: #008000\">   MH9179823    </span>│<span style=\"color: #af00d7; text-decoration-color: #af00d7\">         139         </span>│\n",
       "│<span style=\"color: #0087ff; text-decoration-color: #0087ff\">                      </span>│<span style=\"color: #008000; text-decoration-color: #008000\">   MH9179824    </span>│<span style=\"color: #af00d7; text-decoration-color: #af00d7\">         140         </span>│\n",
       "│<span style=\"color: #0087ff; text-decoration-color: #0087ff\">                      </span>│<span style=\"color: #008000; text-decoration-color: #008000\">   MH9179825    </span>│<span style=\"color: #af00d7; text-decoration-color: #af00d7\">         141         </span>│\n",
       "│<span style=\"color: #0087ff; text-decoration-color: #0087ff\">                      </span>│<span style=\"color: #008000; text-decoration-color: #008000\">   MH9179826    </span>│<span style=\"color: #af00d7; text-decoration-color: #af00d7\">         142         </span>│\n",
       "│<span style=\"color: #0087ff; text-decoration-color: #0087ff\">                      </span>│<span style=\"color: #008000; text-decoration-color: #008000\">   MH9179827    </span>│<span style=\"color: #af00d7; text-decoration-color: #af00d7\">         143         </span>│\n",
       "│<span style=\"color: #0087ff; text-decoration-color: #0087ff\">                      </span>│<span style=\"color: #008000; text-decoration-color: #008000\">   MH9179828    </span>│<span style=\"color: #af00d7; text-decoration-color: #af00d7\">         144         </span>│\n",
       "│<span style=\"color: #0087ff; text-decoration-color: #0087ff\">                      </span>│<span style=\"color: #008000; text-decoration-color: #008000\">    Unknown     </span>│<span style=\"color: #af00d7; text-decoration-color: #af00d7\">         145         </span>│\n",
       "│<span style=\"color: #0087ff; text-decoration-color: #0087ff\">                      </span>│<span style=\"color: #008000; text-decoration-color: #008000\"> newcastle004v2 </span>│<span style=\"color: #af00d7; text-decoration-color: #af00d7\">         146         </span>│\n",
       "│<span style=\"color: #0087ff; text-decoration-color: #0087ff\">                      </span>│<span style=\"color: #008000; text-decoration-color: #008000\">  newcastle20   </span>│<span style=\"color: #af00d7; text-decoration-color: #af00d7\">         147         </span>│\n",
       "│<span style=\"color: #0087ff; text-decoration-color: #0087ff\">                      </span>│<span style=\"color: #008000; text-decoration-color: #008000\">  newcastle21   </span>│<span style=\"color: #af00d7; text-decoration-color: #af00d7\">         148         </span>│\n",
       "│<span style=\"color: #0087ff; text-decoration-color: #0087ff\">                      </span>│<span style=\"color: #008000; text-decoration-color: #008000\"> newcastle21v2  </span>│<span style=\"color: #af00d7; text-decoration-color: #af00d7\">         149         </span>│\n",
       "│<span style=\"color: #0087ff; text-decoration-color: #0087ff\">                      </span>│<span style=\"color: #008000; text-decoration-color: #008000\">  newcastle49   </span>│<span style=\"color: #af00d7; text-decoration-color: #af00d7\">         150         </span>│\n",
       "│<span style=\"color: #0087ff; text-decoration-color: #0087ff\">                      </span>│<span style=\"color: #008000; text-decoration-color: #008000\">  newcastle59   </span>│<span style=\"color: #af00d7; text-decoration-color: #af00d7\">         151         </span>│\n",
       "│<span style=\"color: #0087ff; text-decoration-color: #0087ff\">                      </span>│<span style=\"color: #008000; text-decoration-color: #008000\">  newcastle65   </span>│<span style=\"color: #af00d7; text-decoration-color: #af00d7\">         152         </span>│\n",
       "│<span style=\"color: #0087ff; text-decoration-color: #0087ff\">                      </span>│<span style=\"color: #008000; text-decoration-color: #008000\">  newcastle74   </span>│<span style=\"color: #af00d7; text-decoration-color: #af00d7\">         153         </span>│\n",
       "└──────────────────────┴────────────────┴─────────────────────┘\n",
       "</pre>\n"
      ],
      "text/plain": [
       "\u001b[3m                       Batch Categories                        \u001b[0m\n",
       "┏━━━━━━━━━━━━━━━━━━━━━━┳━━━━━━━━━━━━━━━━┳━━━━━━━━━━━━━━━━━━━━━┓\n",
       "┃\u001b[1m \u001b[0m\u001b[1m  Source Location   \u001b[0m\u001b[1m \u001b[0m┃\u001b[1m \u001b[0m\u001b[1m  Categories  \u001b[0m\u001b[1m \u001b[0m┃\u001b[1m \u001b[0m\u001b[1mscvi-tools Encoding\u001b[0m\u001b[1m \u001b[0m┃\n",
       "┡━━━━━━━━━━━━━━━━━━━━━━╇━━━━━━━━━━━━━━━━╇━━━━━━━━━━━━━━━━━━━━━┩\n",
       "│\u001b[38;5;33m \u001b[0m\u001b[38;5;33madata.obs['patient']\u001b[0m\u001b[38;5;33m \u001b[0m│\u001b[32m \u001b[0m\u001b[32m     AP1      \u001b[0m\u001b[32m \u001b[0m│\u001b[38;5;128m \u001b[0m\u001b[38;5;128m         0         \u001b[0m\u001b[38;5;128m \u001b[0m│\n",
       "│\u001b[38;5;33m \u001b[0m\u001b[38;5;33m                    \u001b[0m\u001b[38;5;33m \u001b[0m│\u001b[32m \u001b[0m\u001b[32m     AP10     \u001b[0m\u001b[32m \u001b[0m│\u001b[38;5;128m \u001b[0m\u001b[38;5;128m         1         \u001b[0m\u001b[38;5;128m \u001b[0m│\n",
       "│\u001b[38;5;33m \u001b[0m\u001b[38;5;33m                    \u001b[0m\u001b[38;5;33m \u001b[0m│\u001b[32m \u001b[0m\u001b[32m     AP11     \u001b[0m\u001b[32m \u001b[0m│\u001b[38;5;128m \u001b[0m\u001b[38;5;128m         2         \u001b[0m\u001b[38;5;128m \u001b[0m│\n",
       "│\u001b[38;5;33m \u001b[0m\u001b[38;5;33m                    \u001b[0m\u001b[38;5;33m \u001b[0m│\u001b[32m \u001b[0m\u001b[32m     AP12     \u001b[0m\u001b[32m \u001b[0m│\u001b[38;5;128m \u001b[0m\u001b[38;5;128m         3         \u001b[0m\u001b[38;5;128m \u001b[0m│\n",
       "│\u001b[38;5;33m \u001b[0m\u001b[38;5;33m                    \u001b[0m\u001b[38;5;33m \u001b[0m│\u001b[32m \u001b[0m\u001b[32m     AP2      \u001b[0m\u001b[32m \u001b[0m│\u001b[38;5;128m \u001b[0m\u001b[38;5;128m         4         \u001b[0m\u001b[38;5;128m \u001b[0m│\n",
       "│\u001b[38;5;33m \u001b[0m\u001b[38;5;33m                    \u001b[0m\u001b[38;5;33m \u001b[0m│\u001b[32m \u001b[0m\u001b[32m     AP3      \u001b[0m\u001b[32m \u001b[0m│\u001b[38;5;128m \u001b[0m\u001b[38;5;128m         5         \u001b[0m\u001b[38;5;128m \u001b[0m│\n",
       "│\u001b[38;5;33m \u001b[0m\u001b[38;5;33m                    \u001b[0m\u001b[38;5;33m \u001b[0m│\u001b[32m \u001b[0m\u001b[32m     AP4      \u001b[0m\u001b[32m \u001b[0m│\u001b[38;5;128m \u001b[0m\u001b[38;5;128m         6         \u001b[0m\u001b[38;5;128m \u001b[0m│\n",
       "│\u001b[38;5;33m \u001b[0m\u001b[38;5;33m                    \u001b[0m\u001b[38;5;33m \u001b[0m│\u001b[32m \u001b[0m\u001b[32m     AP5      \u001b[0m\u001b[32m \u001b[0m│\u001b[38;5;128m \u001b[0m\u001b[38;5;128m         7         \u001b[0m\u001b[38;5;128m \u001b[0m│\n",
       "│\u001b[38;5;33m \u001b[0m\u001b[38;5;33m                    \u001b[0m\u001b[38;5;33m \u001b[0m│\u001b[32m \u001b[0m\u001b[32m     AP6      \u001b[0m\u001b[32m \u001b[0m│\u001b[38;5;128m \u001b[0m\u001b[38;5;128m         8         \u001b[0m\u001b[38;5;128m \u001b[0m│\n",
       "│\u001b[38;5;33m \u001b[0m\u001b[38;5;33m                    \u001b[0m\u001b[38;5;33m \u001b[0m│\u001b[32m \u001b[0m\u001b[32m     AP8      \u001b[0m\u001b[32m \u001b[0m│\u001b[38;5;128m \u001b[0m\u001b[38;5;128m         9         \u001b[0m\u001b[38;5;128m \u001b[0m│\n",
       "│\u001b[38;5;33m \u001b[0m\u001b[38;5;33m                    \u001b[0m\u001b[38;5;33m \u001b[0m│\u001b[32m \u001b[0m\u001b[32m     AP9      \u001b[0m\u001b[32m \u001b[0m│\u001b[38;5;128m \u001b[0m\u001b[38;5;128m        10         \u001b[0m\u001b[38;5;128m \u001b[0m│\n",
       "│\u001b[38;5;33m \u001b[0m\u001b[38;5;33m                    \u001b[0m\u001b[38;5;33m \u001b[0m│\u001b[32m \u001b[0m\u001b[32mBGCV01_CV0025 \u001b[0m\u001b[32m \u001b[0m│\u001b[38;5;128m \u001b[0m\u001b[38;5;128m        11         \u001b[0m\u001b[38;5;128m \u001b[0m│\n",
       "│\u001b[38;5;33m \u001b[0m\u001b[38;5;33m                    \u001b[0m\u001b[38;5;33m \u001b[0m│\u001b[32m \u001b[0m\u001b[32mBGCV01_CV0144 \u001b[0m\u001b[32m \u001b[0m│\u001b[38;5;128m \u001b[0m\u001b[38;5;128m        12         \u001b[0m\u001b[38;5;128m \u001b[0m│\n",
       "│\u001b[38;5;33m \u001b[0m\u001b[38;5;33m                    \u001b[0m\u001b[38;5;33m \u001b[0m│\u001b[32m \u001b[0m\u001b[32mBGCV01_CV0902 \u001b[0m\u001b[32m \u001b[0m│\u001b[38;5;128m \u001b[0m\u001b[38;5;128m        13         \u001b[0m\u001b[38;5;128m \u001b[0m│\n",
       "│\u001b[38;5;33m \u001b[0m\u001b[38;5;33m                    \u001b[0m\u001b[38;5;33m \u001b[0m│\u001b[32m \u001b[0m\u001b[32mBGCV01_CV0904 \u001b[0m\u001b[32m \u001b[0m│\u001b[38;5;128m \u001b[0m\u001b[38;5;128m        14         \u001b[0m\u001b[38;5;128m \u001b[0m│\n",
       "│\u001b[38;5;33m \u001b[0m\u001b[38;5;33m                    \u001b[0m\u001b[38;5;33m \u001b[0m│\u001b[32m \u001b[0m\u001b[32mBGCV02_CV0052 \u001b[0m\u001b[32m \u001b[0m│\u001b[38;5;128m \u001b[0m\u001b[38;5;128m        15         \u001b[0m\u001b[38;5;128m \u001b[0m│\n",
       "│\u001b[38;5;33m \u001b[0m\u001b[38;5;33m                    \u001b[0m\u001b[38;5;33m \u001b[0m│\u001b[32m \u001b[0m\u001b[32mBGCV02_CV0059 \u001b[0m\u001b[32m \u001b[0m│\u001b[38;5;128m \u001b[0m\u001b[38;5;128m        16         \u001b[0m\u001b[38;5;128m \u001b[0m│\n",
       "│\u001b[38;5;33m \u001b[0m\u001b[38;5;33m                    \u001b[0m\u001b[38;5;33m \u001b[0m│\u001b[32m \u001b[0m\u001b[32mBGCV02_CV0068 \u001b[0m\u001b[32m \u001b[0m│\u001b[38;5;128m \u001b[0m\u001b[38;5;128m        17         \u001b[0m\u001b[38;5;128m \u001b[0m│\n",
       "│\u001b[38;5;33m \u001b[0m\u001b[38;5;33m                    \u001b[0m\u001b[38;5;33m \u001b[0m│\u001b[32m \u001b[0m\u001b[32mBGCV02_CV0902 \u001b[0m\u001b[32m \u001b[0m│\u001b[38;5;128m \u001b[0m\u001b[38;5;128m        18         \u001b[0m\u001b[38;5;128m \u001b[0m│\n",
       "│\u001b[38;5;33m \u001b[0m\u001b[38;5;33m                    \u001b[0m\u001b[38;5;33m \u001b[0m│\u001b[32m \u001b[0m\u001b[32mBGCV03_CV0074 \u001b[0m\u001b[32m \u001b[0m│\u001b[38;5;128m \u001b[0m\u001b[38;5;128m        19         \u001b[0m\u001b[38;5;128m \u001b[0m│\n",
       "│\u001b[38;5;33m \u001b[0m\u001b[38;5;33m                    \u001b[0m\u001b[38;5;33m \u001b[0m│\u001b[32m \u001b[0m\u001b[32mBGCV03_CV0084 \u001b[0m\u001b[32m \u001b[0m│\u001b[38;5;128m \u001b[0m\u001b[38;5;128m        20         \u001b[0m\u001b[38;5;128m \u001b[0m│\n",
       "│\u001b[38;5;33m \u001b[0m\u001b[38;5;33m                    \u001b[0m\u001b[38;5;33m \u001b[0m│\u001b[32m \u001b[0m\u001b[32mBGCV03_CV0176 \u001b[0m\u001b[32m \u001b[0m│\u001b[38;5;128m \u001b[0m\u001b[38;5;128m        21         \u001b[0m\u001b[38;5;128m \u001b[0m│\n",
       "│\u001b[38;5;33m \u001b[0m\u001b[38;5;33m                    \u001b[0m\u001b[38;5;33m \u001b[0m│\u001b[32m \u001b[0m\u001b[32mBGCV03_CV0200 \u001b[0m\u001b[32m \u001b[0m│\u001b[38;5;128m \u001b[0m\u001b[38;5;128m        22         \u001b[0m\u001b[38;5;128m \u001b[0m│\n",
       "│\u001b[38;5;33m \u001b[0m\u001b[38;5;33m                    \u001b[0m\u001b[38;5;33m \u001b[0m│\u001b[32m \u001b[0m\u001b[32mBGCV04_CV0100 \u001b[0m\u001b[32m \u001b[0m│\u001b[38;5;128m \u001b[0m\u001b[38;5;128m        23         \u001b[0m\u001b[38;5;128m \u001b[0m│\n",
       "│\u001b[38;5;33m \u001b[0m\u001b[38;5;33m                    \u001b[0m\u001b[38;5;33m \u001b[0m│\u001b[32m \u001b[0m\u001b[32mBGCV04_CV0164 \u001b[0m\u001b[32m \u001b[0m│\u001b[38;5;128m \u001b[0m\u001b[38;5;128m        24         \u001b[0m\u001b[38;5;128m \u001b[0m│\n",
       "│\u001b[38;5;33m \u001b[0m\u001b[38;5;33m                    \u001b[0m\u001b[38;5;33m \u001b[0m│\u001b[32m \u001b[0m\u001b[32mBGCV04_CV0262 \u001b[0m\u001b[32m \u001b[0m│\u001b[38;5;128m \u001b[0m\u001b[38;5;128m        25         \u001b[0m\u001b[38;5;128m \u001b[0m│\n",
       "│\u001b[38;5;33m \u001b[0m\u001b[38;5;33m                    \u001b[0m\u001b[38;5;33m \u001b[0m│\u001b[32m \u001b[0m\u001b[32mBGCV04_CV0911 \u001b[0m\u001b[32m \u001b[0m│\u001b[38;5;128m \u001b[0m\u001b[38;5;128m        26         \u001b[0m\u001b[38;5;128m \u001b[0m│\n",
       "│\u001b[38;5;33m \u001b[0m\u001b[38;5;33m                    \u001b[0m\u001b[38;5;33m \u001b[0m│\u001b[32m \u001b[0m\u001b[32mBGCV05_CV0120 \u001b[0m\u001b[32m \u001b[0m│\u001b[38;5;128m \u001b[0m\u001b[38;5;128m        27         \u001b[0m\u001b[38;5;128m \u001b[0m│\n",
       "│\u001b[38;5;33m \u001b[0m\u001b[38;5;33m                    \u001b[0m\u001b[38;5;33m \u001b[0m│\u001b[32m \u001b[0m\u001b[32mBGCV05_CV0128 \u001b[0m\u001b[32m \u001b[0m│\u001b[38;5;128m \u001b[0m\u001b[38;5;128m        28         \u001b[0m\u001b[38;5;128m \u001b[0m│\n",
       "│\u001b[38;5;33m \u001b[0m\u001b[38;5;33m                    \u001b[0m\u001b[38;5;33m \u001b[0m│\u001b[32m \u001b[0m\u001b[32mBGCV05_CV0284 \u001b[0m\u001b[32m \u001b[0m│\u001b[38;5;128m \u001b[0m\u001b[38;5;128m        29         \u001b[0m\u001b[38;5;128m \u001b[0m│\n",
       "│\u001b[38;5;33m \u001b[0m\u001b[38;5;33m                    \u001b[0m\u001b[38;5;33m \u001b[0m│\u001b[32m \u001b[0m\u001b[32mBGCV05_CV0929 \u001b[0m\u001b[32m \u001b[0m│\u001b[38;5;128m \u001b[0m\u001b[38;5;128m        30         \u001b[0m\u001b[38;5;128m \u001b[0m│\n",
       "│\u001b[38;5;33m \u001b[0m\u001b[38;5;33m                    \u001b[0m\u001b[38;5;33m \u001b[0m│\u001b[32m \u001b[0m\u001b[32mBGCV06_CV0037 \u001b[0m\u001b[32m \u001b[0m│\u001b[38;5;128m \u001b[0m\u001b[38;5;128m        31         \u001b[0m\u001b[38;5;128m \u001b[0m│\n",
       "│\u001b[38;5;33m \u001b[0m\u001b[38;5;33m                    \u001b[0m\u001b[38;5;33m \u001b[0m│\u001b[32m \u001b[0m\u001b[32mBGCV06_CV0178 \u001b[0m\u001b[32m \u001b[0m│\u001b[38;5;128m \u001b[0m\u001b[38;5;128m        32         \u001b[0m\u001b[38;5;128m \u001b[0m│\n",
       "│\u001b[38;5;33m \u001b[0m\u001b[38;5;33m                    \u001b[0m\u001b[38;5;33m \u001b[0m│\u001b[32m \u001b[0m\u001b[32mBGCV06_CV0201 \u001b[0m\u001b[32m \u001b[0m│\u001b[38;5;128m \u001b[0m\u001b[38;5;128m        33         \u001b[0m\u001b[38;5;128m \u001b[0m│\n",
       "│\u001b[38;5;33m \u001b[0m\u001b[38;5;33m                    \u001b[0m\u001b[38;5;33m \u001b[0m│\u001b[32m \u001b[0m\u001b[32mBGCV06_CV0234 \u001b[0m\u001b[32m \u001b[0m│\u001b[38;5;128m \u001b[0m\u001b[38;5;128m        34         \u001b[0m\u001b[38;5;128m \u001b[0m│\n",
       "│\u001b[38;5;33m \u001b[0m\u001b[38;5;33m                    \u001b[0m\u001b[38;5;33m \u001b[0m│\u001b[32m \u001b[0m\u001b[32mBGCV07_CV0094 \u001b[0m\u001b[32m \u001b[0m│\u001b[38;5;128m \u001b[0m\u001b[38;5;128m        35         \u001b[0m\u001b[38;5;128m \u001b[0m│\n",
       "│\u001b[38;5;33m \u001b[0m\u001b[38;5;33m                    \u001b[0m\u001b[38;5;33m \u001b[0m│\u001b[32m \u001b[0m\u001b[32mBGCV07_CV0104 \u001b[0m\u001b[32m \u001b[0m│\u001b[38;5;128m \u001b[0m\u001b[38;5;128m        36         \u001b[0m\u001b[38;5;128m \u001b[0m│\n",
       "│\u001b[38;5;33m \u001b[0m\u001b[38;5;33m                    \u001b[0m\u001b[38;5;33m \u001b[0m│\u001b[32m \u001b[0m\u001b[32mBGCV07_CV0134 \u001b[0m\u001b[32m \u001b[0m│\u001b[38;5;128m \u001b[0m\u001b[38;5;128m        37         \u001b[0m\u001b[38;5;128m \u001b[0m│\n",
       "│\u001b[38;5;33m \u001b[0m\u001b[38;5;33m                    \u001b[0m\u001b[38;5;33m \u001b[0m│\u001b[32m \u001b[0m\u001b[32mBGCV07_CV0137 \u001b[0m\u001b[32m \u001b[0m│\u001b[38;5;128m \u001b[0m\u001b[38;5;128m        38         \u001b[0m\u001b[38;5;128m \u001b[0m│\n",
       "│\u001b[38;5;33m \u001b[0m\u001b[38;5;33m                    \u001b[0m\u001b[38;5;33m \u001b[0m│\u001b[32m \u001b[0m\u001b[32mBGCV08_CV0073 \u001b[0m\u001b[32m \u001b[0m│\u001b[38;5;128m \u001b[0m\u001b[38;5;128m        39         \u001b[0m\u001b[38;5;128m \u001b[0m│\n",
       "│\u001b[38;5;33m \u001b[0m\u001b[38;5;33m                    \u001b[0m\u001b[38;5;33m \u001b[0m│\u001b[32m \u001b[0m\u001b[32mBGCV08_CV0155 \u001b[0m\u001b[32m \u001b[0m│\u001b[38;5;128m \u001b[0m\u001b[38;5;128m        40         \u001b[0m\u001b[38;5;128m \u001b[0m│\n",
       "│\u001b[38;5;33m \u001b[0m\u001b[38;5;33m                    \u001b[0m\u001b[38;5;33m \u001b[0m│\u001b[32m \u001b[0m\u001b[32mBGCV08_CV0201 \u001b[0m\u001b[32m \u001b[0m│\u001b[38;5;128m \u001b[0m\u001b[38;5;128m        41         \u001b[0m\u001b[38;5;128m \u001b[0m│\n",
       "│\u001b[38;5;33m \u001b[0m\u001b[38;5;33m                    \u001b[0m\u001b[38;5;33m \u001b[0m│\u001b[32m \u001b[0m\u001b[32mBGCV08_CV0915 \u001b[0m\u001b[32m \u001b[0m│\u001b[38;5;128m \u001b[0m\u001b[38;5;128m        42         \u001b[0m\u001b[38;5;128m \u001b[0m│\n",
       "│\u001b[38;5;33m \u001b[0m\u001b[38;5;33m                    \u001b[0m\u001b[38;5;33m \u001b[0m│\u001b[32m \u001b[0m\u001b[32mBGCV09_CV0062 \u001b[0m\u001b[32m \u001b[0m│\u001b[38;5;128m \u001b[0m\u001b[38;5;128m        43         \u001b[0m\u001b[38;5;128m \u001b[0m│\n",
       "│\u001b[38;5;33m \u001b[0m\u001b[38;5;33m                    \u001b[0m\u001b[38;5;33m \u001b[0m│\u001b[32m \u001b[0m\u001b[32mBGCV09_CV0171 \u001b[0m\u001b[32m \u001b[0m│\u001b[38;5;128m \u001b[0m\u001b[38;5;128m        44         \u001b[0m\u001b[38;5;128m \u001b[0m│\n",
       "│\u001b[38;5;33m \u001b[0m\u001b[38;5;33m                    \u001b[0m\u001b[38;5;33m \u001b[0m│\u001b[32m \u001b[0m\u001b[32mBGCV09_CV0279 \u001b[0m\u001b[32m \u001b[0m│\u001b[38;5;128m \u001b[0m\u001b[38;5;128m        45         \u001b[0m\u001b[38;5;128m \u001b[0m│\n",
       "│\u001b[38;5;33m \u001b[0m\u001b[38;5;33m                    \u001b[0m\u001b[38;5;33m \u001b[0m│\u001b[32m \u001b[0m\u001b[32mBGCV09_CV0917 \u001b[0m\u001b[32m \u001b[0m│\u001b[38;5;128m \u001b[0m\u001b[38;5;128m        46         \u001b[0m\u001b[38;5;128m \u001b[0m│\n",
       "│\u001b[38;5;33m \u001b[0m\u001b[38;5;33m                    \u001b[0m\u001b[38;5;33m \u001b[0m│\u001b[32m \u001b[0m\u001b[32mBGCV10_CV0160 \u001b[0m\u001b[32m \u001b[0m│\u001b[38;5;128m \u001b[0m\u001b[38;5;128m        47         \u001b[0m\u001b[38;5;128m \u001b[0m│\n",
       "│\u001b[38;5;33m \u001b[0m\u001b[38;5;33m                    \u001b[0m\u001b[38;5;33m \u001b[0m│\u001b[32m \u001b[0m\u001b[32mBGCV10_CV0198 \u001b[0m\u001b[32m \u001b[0m│\u001b[38;5;128m \u001b[0m\u001b[38;5;128m        48         \u001b[0m\u001b[38;5;128m \u001b[0m│\n",
       "│\u001b[38;5;33m \u001b[0m\u001b[38;5;33m                    \u001b[0m\u001b[38;5;33m \u001b[0m│\u001b[32m \u001b[0m\u001b[32mBGCV10_CV0231 \u001b[0m\u001b[32m \u001b[0m│\u001b[38;5;128m \u001b[0m\u001b[38;5;128m        49         \u001b[0m\u001b[38;5;128m \u001b[0m│\n",
       "│\u001b[38;5;33m \u001b[0m\u001b[38;5;33m                    \u001b[0m\u001b[38;5;33m \u001b[0m│\u001b[32m \u001b[0m\u001b[32mBGCV10_CV0939 \u001b[0m\u001b[32m \u001b[0m│\u001b[38;5;128m \u001b[0m\u001b[38;5;128m        50         \u001b[0m\u001b[38;5;128m \u001b[0m│\n",
       "│\u001b[38;5;33m \u001b[0m\u001b[38;5;33m                    \u001b[0m\u001b[38;5;33m \u001b[0m│\u001b[32m \u001b[0m\u001b[32mBGCV11_CV0050 \u001b[0m\u001b[32m \u001b[0m│\u001b[38;5;128m \u001b[0m\u001b[38;5;128m        51         \u001b[0m\u001b[38;5;128m \u001b[0m│\n",
       "│\u001b[38;5;33m \u001b[0m\u001b[38;5;33m                    \u001b[0m\u001b[38;5;33m \u001b[0m│\u001b[32m \u001b[0m\u001b[32mBGCV11_CV0058 \u001b[0m\u001b[32m \u001b[0m│\u001b[38;5;128m \u001b[0m\u001b[38;5;128m        52         \u001b[0m\u001b[38;5;128m \u001b[0m│\n",
       "│\u001b[38;5;33m \u001b[0m\u001b[38;5;33m                    \u001b[0m\u001b[38;5;33m \u001b[0m│\u001b[32m \u001b[0m\u001b[32mBGCV11_CV0180 \u001b[0m\u001b[32m \u001b[0m│\u001b[38;5;128m \u001b[0m\u001b[38;5;128m        53         \u001b[0m\u001b[38;5;128m \u001b[0m│\n",
       "│\u001b[38;5;33m \u001b[0m\u001b[38;5;33m                    \u001b[0m\u001b[38;5;33m \u001b[0m│\u001b[32m \u001b[0m\u001b[32mBGCV11_CV0257 \u001b[0m\u001b[32m \u001b[0m│\u001b[38;5;128m \u001b[0m\u001b[38;5;128m        54         \u001b[0m\u001b[38;5;128m \u001b[0m│\n",
       "│\u001b[38;5;33m \u001b[0m\u001b[38;5;33m                    \u001b[0m\u001b[38;5;33m \u001b[0m│\u001b[32m \u001b[0m\u001b[32mBGCV12_CV0062 \u001b[0m\u001b[32m \u001b[0m│\u001b[38;5;128m \u001b[0m\u001b[38;5;128m        55         \u001b[0m\u001b[38;5;128m \u001b[0m│\n",
       "│\u001b[38;5;33m \u001b[0m\u001b[38;5;33m                    \u001b[0m\u001b[38;5;33m \u001b[0m│\u001b[32m \u001b[0m\u001b[32mBGCV12_CV0068 \u001b[0m\u001b[32m \u001b[0m│\u001b[38;5;128m \u001b[0m\u001b[38;5;128m        56         \u001b[0m\u001b[38;5;128m \u001b[0m│\n",
       "│\u001b[38;5;33m \u001b[0m\u001b[38;5;33m                    \u001b[0m\u001b[38;5;33m \u001b[0m│\u001b[32m \u001b[0m\u001b[32mBGCV12_CV0178 \u001b[0m\u001b[32m \u001b[0m│\u001b[38;5;128m \u001b[0m\u001b[38;5;128m        57         \u001b[0m\u001b[38;5;128m \u001b[0m│\n",
       "│\u001b[38;5;33m \u001b[0m\u001b[38;5;33m                    \u001b[0m\u001b[38;5;33m \u001b[0m│\u001b[32m \u001b[0m\u001b[32mBGCV12_CV0926 \u001b[0m\u001b[32m \u001b[0m│\u001b[38;5;128m \u001b[0m\u001b[38;5;128m        58         \u001b[0m\u001b[38;5;128m \u001b[0m│\n",
       "│\u001b[38;5;33m \u001b[0m\u001b[38;5;33m                    \u001b[0m\u001b[38;5;33m \u001b[0m│\u001b[32m \u001b[0m\u001b[32mBGCV13_CV0073 \u001b[0m\u001b[32m \u001b[0m│\u001b[38;5;128m \u001b[0m\u001b[38;5;128m        59         \u001b[0m\u001b[38;5;128m \u001b[0m│\n",
       "│\u001b[38;5;33m \u001b[0m\u001b[38;5;33m                    \u001b[0m\u001b[38;5;33m \u001b[0m│\u001b[32m \u001b[0m\u001b[32mBGCV13_CV0171 \u001b[0m\u001b[32m \u001b[0m│\u001b[38;5;128m \u001b[0m\u001b[38;5;128m        60         \u001b[0m\u001b[38;5;128m \u001b[0m│\n",
       "│\u001b[38;5;33m \u001b[0m\u001b[38;5;33m                    \u001b[0m\u001b[38;5;33m \u001b[0m│\u001b[32m \u001b[0m\u001b[32mBGCV13_CV0326 \u001b[0m\u001b[32m \u001b[0m│\u001b[38;5;128m \u001b[0m\u001b[38;5;128m        61         \u001b[0m\u001b[38;5;128m \u001b[0m│\n",
       "│\u001b[38;5;33m \u001b[0m\u001b[38;5;33m                    \u001b[0m\u001b[38;5;33m \u001b[0m│\u001b[32m \u001b[0m\u001b[32mBGCV13_CV0934 \u001b[0m\u001b[32m \u001b[0m│\u001b[38;5;128m \u001b[0m\u001b[38;5;128m        62         \u001b[0m\u001b[38;5;128m \u001b[0m│\n",
       "│\u001b[38;5;33m \u001b[0m\u001b[38;5;33m                    \u001b[0m\u001b[38;5;33m \u001b[0m│\u001b[32m \u001b[0m\u001b[32mBGCV14_CV0050 \u001b[0m\u001b[32m \u001b[0m│\u001b[38;5;128m \u001b[0m\u001b[38;5;128m        63         \u001b[0m\u001b[38;5;128m \u001b[0m│\n",
       "│\u001b[38;5;33m \u001b[0m\u001b[38;5;33m                    \u001b[0m\u001b[38;5;33m \u001b[0m│\u001b[32m \u001b[0m\u001b[32mBGCV14_CV0137 \u001b[0m\u001b[32m \u001b[0m│\u001b[38;5;128m \u001b[0m\u001b[38;5;128m        64         \u001b[0m\u001b[38;5;128m \u001b[0m│\n",
       "│\u001b[38;5;33m \u001b[0m\u001b[38;5;33m                    \u001b[0m\u001b[38;5;33m \u001b[0m│\u001b[32m \u001b[0m\u001b[32mBGCV14_CV0284 \u001b[0m\u001b[32m \u001b[0m│\u001b[38;5;128m \u001b[0m\u001b[38;5;128m        65         \u001b[0m\u001b[38;5;128m \u001b[0m│\n",
       "│\u001b[38;5;33m \u001b[0m\u001b[38;5;33m                    \u001b[0m\u001b[38;5;33m \u001b[0m│\u001b[32m \u001b[0m\u001b[32mBGCV14_CV0940 \u001b[0m\u001b[32m \u001b[0m│\u001b[38;5;128m \u001b[0m\u001b[38;5;128m        66         \u001b[0m\u001b[38;5;128m \u001b[0m│\n",
       "│\u001b[38;5;33m \u001b[0m\u001b[38;5;33m                    \u001b[0m\u001b[38;5;33m \u001b[0m│\u001b[32m \u001b[0m\u001b[32mBGCV15_CV0176 \u001b[0m\u001b[32m \u001b[0m│\u001b[38;5;128m \u001b[0m\u001b[38;5;128m        67         \u001b[0m\u001b[38;5;128m \u001b[0m│\n",
       "│\u001b[38;5;33m \u001b[0m\u001b[38;5;33m                    \u001b[0m\u001b[38;5;33m \u001b[0m│\u001b[32m \u001b[0m\u001b[32mBGCV15_CV0231 \u001b[0m\u001b[32m \u001b[0m│\u001b[38;5;128m \u001b[0m\u001b[38;5;128m        68         \u001b[0m\u001b[38;5;128m \u001b[0m│\n",
       "│\u001b[38;5;33m \u001b[0m\u001b[38;5;33m                    \u001b[0m\u001b[38;5;33m \u001b[0m│\u001b[32m \u001b[0m\u001b[32mBGCV15_CV0257 \u001b[0m\u001b[32m \u001b[0m│\u001b[38;5;128m \u001b[0m\u001b[38;5;128m        69         \u001b[0m\u001b[38;5;128m \u001b[0m│\n",
       "│\u001b[38;5;33m \u001b[0m\u001b[38;5;33m                    \u001b[0m\u001b[38;5;33m \u001b[0m│\u001b[32m \u001b[0m\u001b[32mBGCV15_CV0944 \u001b[0m\u001b[32m \u001b[0m│\u001b[38;5;128m \u001b[0m\u001b[38;5;128m        70         \u001b[0m\u001b[38;5;128m \u001b[0m│\n",
       "│\u001b[38;5;33m \u001b[0m\u001b[38;5;33m                    \u001b[0m\u001b[38;5;33m \u001b[0m│\u001b[32m \u001b[0m\u001b[32m    GWAS_1    \u001b[0m\u001b[32m \u001b[0m│\u001b[38;5;128m \u001b[0m\u001b[38;5;128m        71         \u001b[0m\u001b[38;5;128m \u001b[0m│\n",
       "│\u001b[38;5;33m \u001b[0m\u001b[38;5;33m                    \u001b[0m\u001b[38;5;33m \u001b[0m│\u001b[32m \u001b[0m\u001b[32m   GWAS_10    \u001b[0m\u001b[32m \u001b[0m│\u001b[38;5;128m \u001b[0m\u001b[38;5;128m        72         \u001b[0m\u001b[38;5;128m \u001b[0m│\n",
       "│\u001b[38;5;33m \u001b[0m\u001b[38;5;33m                    \u001b[0m\u001b[38;5;33m \u001b[0m│\u001b[32m \u001b[0m\u001b[32m   GWAS_11    \u001b[0m\u001b[32m \u001b[0m│\u001b[38;5;128m \u001b[0m\u001b[38;5;128m        73         \u001b[0m\u001b[38;5;128m \u001b[0m│\n",
       "│\u001b[38;5;33m \u001b[0m\u001b[38;5;33m                    \u001b[0m\u001b[38;5;33m \u001b[0m│\u001b[32m \u001b[0m\u001b[32m   GWAS_12    \u001b[0m\u001b[32m \u001b[0m│\u001b[38;5;128m \u001b[0m\u001b[38;5;128m        74         \u001b[0m\u001b[38;5;128m \u001b[0m│\n",
       "│\u001b[38;5;33m \u001b[0m\u001b[38;5;33m                    \u001b[0m\u001b[38;5;33m \u001b[0m│\u001b[32m \u001b[0m\u001b[32m   GWAS_13    \u001b[0m\u001b[32m \u001b[0m│\u001b[38;5;128m \u001b[0m\u001b[38;5;128m        75         \u001b[0m\u001b[38;5;128m \u001b[0m│\n",
       "│\u001b[38;5;33m \u001b[0m\u001b[38;5;33m                    \u001b[0m\u001b[38;5;33m \u001b[0m│\u001b[32m \u001b[0m\u001b[32m    GWAS_2    \u001b[0m\u001b[32m \u001b[0m│\u001b[38;5;128m \u001b[0m\u001b[38;5;128m        76         \u001b[0m\u001b[38;5;128m \u001b[0m│\n",
       "│\u001b[38;5;33m \u001b[0m\u001b[38;5;33m                    \u001b[0m\u001b[38;5;33m \u001b[0m│\u001b[32m \u001b[0m\u001b[32m    GWAS_3    \u001b[0m\u001b[32m \u001b[0m│\u001b[38;5;128m \u001b[0m\u001b[38;5;128m        77         \u001b[0m\u001b[38;5;128m \u001b[0m│\n",
       "│\u001b[38;5;33m \u001b[0m\u001b[38;5;33m                    \u001b[0m\u001b[38;5;33m \u001b[0m│\u001b[32m \u001b[0m\u001b[32m    GWAS_4    \u001b[0m\u001b[32m \u001b[0m│\u001b[38;5;128m \u001b[0m\u001b[38;5;128m        78         \u001b[0m\u001b[38;5;128m \u001b[0m│\n",
       "│\u001b[38;5;33m \u001b[0m\u001b[38;5;33m                    \u001b[0m\u001b[38;5;33m \u001b[0m│\u001b[32m \u001b[0m\u001b[32m    GWAS_5    \u001b[0m\u001b[32m \u001b[0m│\u001b[38;5;128m \u001b[0m\u001b[38;5;128m        79         \u001b[0m\u001b[38;5;128m \u001b[0m│\n",
       "│\u001b[38;5;33m \u001b[0m\u001b[38;5;33m                    \u001b[0m\u001b[38;5;33m \u001b[0m│\u001b[32m \u001b[0m\u001b[32m    GWAS_8    \u001b[0m\u001b[32m \u001b[0m│\u001b[38;5;128m \u001b[0m\u001b[38;5;128m        80         \u001b[0m\u001b[38;5;128m \u001b[0m│\n",
       "│\u001b[38;5;33m \u001b[0m\u001b[38;5;33m                    \u001b[0m\u001b[38;5;33m \u001b[0m│\u001b[32m \u001b[0m\u001b[32m  MH8919176   \u001b[0m\u001b[32m \u001b[0m│\u001b[38;5;128m \u001b[0m\u001b[38;5;128m        81         \u001b[0m\u001b[38;5;128m \u001b[0m│\n",
       "│\u001b[38;5;33m \u001b[0m\u001b[38;5;33m                    \u001b[0m\u001b[38;5;33m \u001b[0m│\u001b[32m \u001b[0m\u001b[32m  MH8919177   \u001b[0m\u001b[32m \u001b[0m│\u001b[38;5;128m \u001b[0m\u001b[38;5;128m        82         \u001b[0m\u001b[38;5;128m \u001b[0m│\n",
       "│\u001b[38;5;33m \u001b[0m\u001b[38;5;33m                    \u001b[0m\u001b[38;5;33m \u001b[0m│\u001b[32m \u001b[0m\u001b[32m  MH8919178   \u001b[0m\u001b[32m \u001b[0m│\u001b[38;5;128m \u001b[0m\u001b[38;5;128m        83         \u001b[0m\u001b[38;5;128m \u001b[0m│\n",
       "│\u001b[38;5;33m \u001b[0m\u001b[38;5;33m                    \u001b[0m\u001b[38;5;33m \u001b[0m│\u001b[32m \u001b[0m\u001b[32m  MH8919179   \u001b[0m\u001b[32m \u001b[0m│\u001b[38;5;128m \u001b[0m\u001b[38;5;128m        84         \u001b[0m\u001b[38;5;128m \u001b[0m│\n",
       "│\u001b[38;5;33m \u001b[0m\u001b[38;5;33m                    \u001b[0m\u001b[38;5;33m \u001b[0m│\u001b[32m \u001b[0m\u001b[32m  MH8919226   \u001b[0m\u001b[32m \u001b[0m│\u001b[38;5;128m \u001b[0m\u001b[38;5;128m        85         \u001b[0m\u001b[38;5;128m \u001b[0m│\n",
       "│\u001b[38;5;33m \u001b[0m\u001b[38;5;33m                    \u001b[0m\u001b[38;5;33m \u001b[0m│\u001b[32m \u001b[0m\u001b[32m  MH8919227   \u001b[0m\u001b[32m \u001b[0m│\u001b[38;5;128m \u001b[0m\u001b[38;5;128m        86         \u001b[0m\u001b[38;5;128m \u001b[0m│\n",
       "│\u001b[38;5;33m \u001b[0m\u001b[38;5;33m                    \u001b[0m\u001b[38;5;33m \u001b[0m│\u001b[32m \u001b[0m\u001b[32m  MH8919228   \u001b[0m\u001b[32m \u001b[0m│\u001b[38;5;128m \u001b[0m\u001b[38;5;128m        87         \u001b[0m\u001b[38;5;128m \u001b[0m│\n",
       "│\u001b[38;5;33m \u001b[0m\u001b[38;5;33m                    \u001b[0m\u001b[38;5;33m \u001b[0m│\u001b[32m \u001b[0m\u001b[32m  MH8919229   \u001b[0m\u001b[32m \u001b[0m│\u001b[38;5;128m \u001b[0m\u001b[38;5;128m        88         \u001b[0m\u001b[38;5;128m \u001b[0m│\n",
       "│\u001b[38;5;33m \u001b[0m\u001b[38;5;33m                    \u001b[0m\u001b[38;5;33m \u001b[0m│\u001b[32m \u001b[0m\u001b[32m  MH8919230   \u001b[0m\u001b[32m \u001b[0m│\u001b[38;5;128m \u001b[0m\u001b[38;5;128m        89         \u001b[0m\u001b[38;5;128m \u001b[0m│\n",
       "│\u001b[38;5;33m \u001b[0m\u001b[38;5;33m                    \u001b[0m\u001b[38;5;33m \u001b[0m│\u001b[32m \u001b[0m\u001b[32m  MH8919231   \u001b[0m\u001b[32m \u001b[0m│\u001b[38;5;128m \u001b[0m\u001b[38;5;128m        90         \u001b[0m\u001b[38;5;128m \u001b[0m│\n",
       "│\u001b[38;5;33m \u001b[0m\u001b[38;5;33m                    \u001b[0m\u001b[38;5;33m \u001b[0m│\u001b[32m \u001b[0m\u001b[32m  MH8919232   \u001b[0m\u001b[32m \u001b[0m│\u001b[38;5;128m \u001b[0m\u001b[38;5;128m        91         \u001b[0m\u001b[38;5;128m \u001b[0m│\n",
       "│\u001b[38;5;33m \u001b[0m\u001b[38;5;33m                    \u001b[0m\u001b[38;5;33m \u001b[0m│\u001b[32m \u001b[0m\u001b[32m  MH8919233   \u001b[0m\u001b[32m \u001b[0m│\u001b[38;5;128m \u001b[0m\u001b[38;5;128m        92         \u001b[0m\u001b[38;5;128m \u001b[0m│\n",
       "│\u001b[38;5;33m \u001b[0m\u001b[38;5;33m                    \u001b[0m\u001b[38;5;33m \u001b[0m│\u001b[32m \u001b[0m\u001b[32m  MH8919276   \u001b[0m\u001b[32m \u001b[0m│\u001b[38;5;128m \u001b[0m\u001b[38;5;128m        93         \u001b[0m\u001b[38;5;128m \u001b[0m│\n",
       "│\u001b[38;5;33m \u001b[0m\u001b[38;5;33m                    \u001b[0m\u001b[38;5;33m \u001b[0m│\u001b[32m \u001b[0m\u001b[32m  MH8919277   \u001b[0m\u001b[32m \u001b[0m│\u001b[38;5;128m \u001b[0m\u001b[38;5;128m        94         \u001b[0m\u001b[38;5;128m \u001b[0m│\n",
       "│\u001b[38;5;33m \u001b[0m\u001b[38;5;33m                    \u001b[0m\u001b[38;5;33m \u001b[0m│\u001b[32m \u001b[0m\u001b[32m  MH8919278   \u001b[0m\u001b[32m \u001b[0m│\u001b[38;5;128m \u001b[0m\u001b[38;5;128m        95         \u001b[0m\u001b[38;5;128m \u001b[0m│\n",
       "│\u001b[38;5;33m \u001b[0m\u001b[38;5;33m                    \u001b[0m\u001b[38;5;33m \u001b[0m│\u001b[32m \u001b[0m\u001b[32m  MH8919279   \u001b[0m\u001b[32m \u001b[0m│\u001b[38;5;128m \u001b[0m\u001b[38;5;128m        96         \u001b[0m\u001b[38;5;128m \u001b[0m│\n",
       "│\u001b[38;5;33m \u001b[0m\u001b[38;5;33m                    \u001b[0m\u001b[38;5;33m \u001b[0m│\u001b[32m \u001b[0m\u001b[32m  MH8919280   \u001b[0m\u001b[32m \u001b[0m│\u001b[38;5;128m \u001b[0m\u001b[38;5;128m        97         \u001b[0m\u001b[38;5;128m \u001b[0m│\n",
       "│\u001b[38;5;33m \u001b[0m\u001b[38;5;33m                    \u001b[0m\u001b[38;5;33m \u001b[0m│\u001b[32m \u001b[0m\u001b[32m  MH8919281   \u001b[0m\u001b[32m \u001b[0m│\u001b[38;5;128m \u001b[0m\u001b[38;5;128m        98         \u001b[0m\u001b[38;5;128m \u001b[0m│\n",
       "│\u001b[38;5;33m \u001b[0m\u001b[38;5;33m                    \u001b[0m\u001b[38;5;33m \u001b[0m│\u001b[32m \u001b[0m\u001b[32m  MH8919282   \u001b[0m\u001b[32m \u001b[0m│\u001b[38;5;128m \u001b[0m\u001b[38;5;128m        99         \u001b[0m\u001b[38;5;128m \u001b[0m│\n",
       "│\u001b[38;5;33m \u001b[0m\u001b[38;5;33m                    \u001b[0m\u001b[38;5;33m \u001b[0m│\u001b[32m \u001b[0m\u001b[32m  MH8919283   \u001b[0m\u001b[32m \u001b[0m│\u001b[38;5;128m \u001b[0m\u001b[38;5;128m        100        \u001b[0m\u001b[38;5;128m \u001b[0m│\n",
       "│\u001b[38;5;33m \u001b[0m\u001b[38;5;33m                    \u001b[0m\u001b[38;5;33m \u001b[0m│\u001b[32m \u001b[0m\u001b[32m  MH8919326   \u001b[0m\u001b[32m \u001b[0m│\u001b[38;5;128m \u001b[0m\u001b[38;5;128m        101        \u001b[0m\u001b[38;5;128m \u001b[0m│\n",
       "│\u001b[38;5;33m \u001b[0m\u001b[38;5;33m                    \u001b[0m\u001b[38;5;33m \u001b[0m│\u001b[32m \u001b[0m\u001b[32m  MH8919327   \u001b[0m\u001b[32m \u001b[0m│\u001b[38;5;128m \u001b[0m\u001b[38;5;128m        102        \u001b[0m\u001b[38;5;128m \u001b[0m│\n",
       "│\u001b[38;5;33m \u001b[0m\u001b[38;5;33m                    \u001b[0m\u001b[38;5;33m \u001b[0m│\u001b[32m \u001b[0m\u001b[32m  MH8919328   \u001b[0m\u001b[32m \u001b[0m│\u001b[38;5;128m \u001b[0m\u001b[38;5;128m        103        \u001b[0m\u001b[38;5;128m \u001b[0m│\n",
       "│\u001b[38;5;33m \u001b[0m\u001b[38;5;33m                    \u001b[0m\u001b[38;5;33m \u001b[0m│\u001b[32m \u001b[0m\u001b[32m  MH8919329   \u001b[0m\u001b[32m \u001b[0m│\u001b[38;5;128m \u001b[0m\u001b[38;5;128m        104        \u001b[0m\u001b[38;5;128m \u001b[0m│\n",
       "│\u001b[38;5;33m \u001b[0m\u001b[38;5;33m                    \u001b[0m\u001b[38;5;33m \u001b[0m│\u001b[32m \u001b[0m\u001b[32m  MH8919330   \u001b[0m\u001b[32m \u001b[0m│\u001b[38;5;128m \u001b[0m\u001b[38;5;128m        105        \u001b[0m\u001b[38;5;128m \u001b[0m│\n",
       "│\u001b[38;5;33m \u001b[0m\u001b[38;5;33m                    \u001b[0m\u001b[38;5;33m \u001b[0m│\u001b[32m \u001b[0m\u001b[32m  MH8919331   \u001b[0m\u001b[32m \u001b[0m│\u001b[38;5;128m \u001b[0m\u001b[38;5;128m        106        \u001b[0m\u001b[38;5;128m \u001b[0m│\n",
       "│\u001b[38;5;33m \u001b[0m\u001b[38;5;33m                    \u001b[0m\u001b[38;5;33m \u001b[0m│\u001b[32m \u001b[0m\u001b[32m  MH8919332   \u001b[0m\u001b[32m \u001b[0m│\u001b[38;5;128m \u001b[0m\u001b[38;5;128m        107        \u001b[0m\u001b[38;5;128m \u001b[0m│\n",
       "│\u001b[38;5;33m \u001b[0m\u001b[38;5;33m                    \u001b[0m\u001b[38;5;33m \u001b[0m│\u001b[32m \u001b[0m\u001b[32m  MH8919333   \u001b[0m\u001b[32m \u001b[0m│\u001b[38;5;128m \u001b[0m\u001b[38;5;128m        108        \u001b[0m\u001b[38;5;128m \u001b[0m│\n",
       "│\u001b[38;5;33m \u001b[0m\u001b[38;5;33m                    \u001b[0m\u001b[38;5;33m \u001b[0m│\u001b[32m \u001b[0m\u001b[32m  MH9143270   \u001b[0m\u001b[32m \u001b[0m│\u001b[38;5;128m \u001b[0m\u001b[38;5;128m        109        \u001b[0m\u001b[38;5;128m \u001b[0m│\n",
       "│\u001b[38;5;33m \u001b[0m\u001b[38;5;33m                    \u001b[0m\u001b[38;5;33m \u001b[0m│\u001b[32m \u001b[0m\u001b[32m  MH9143271   \u001b[0m\u001b[32m \u001b[0m│\u001b[38;5;128m \u001b[0m\u001b[38;5;128m        110        \u001b[0m\u001b[38;5;128m \u001b[0m│\n",
       "│\u001b[38;5;33m \u001b[0m\u001b[38;5;33m                    \u001b[0m\u001b[38;5;33m \u001b[0m│\u001b[32m \u001b[0m\u001b[32m  MH9143272   \u001b[0m\u001b[32m \u001b[0m│\u001b[38;5;128m \u001b[0m\u001b[38;5;128m        111        \u001b[0m\u001b[38;5;128m \u001b[0m│\n",
       "│\u001b[38;5;33m \u001b[0m\u001b[38;5;33m                    \u001b[0m\u001b[38;5;33m \u001b[0m│\u001b[32m \u001b[0m\u001b[32m  MH9143273   \u001b[0m\u001b[32m \u001b[0m│\u001b[38;5;128m \u001b[0m\u001b[38;5;128m        112        \u001b[0m\u001b[38;5;128m \u001b[0m│\n",
       "│\u001b[38;5;33m \u001b[0m\u001b[38;5;33m                    \u001b[0m\u001b[38;5;33m \u001b[0m│\u001b[32m \u001b[0m\u001b[32m  MH9143274   \u001b[0m\u001b[32m \u001b[0m│\u001b[38;5;128m \u001b[0m\u001b[38;5;128m        113        \u001b[0m\u001b[38;5;128m \u001b[0m│\n",
       "│\u001b[38;5;33m \u001b[0m\u001b[38;5;33m                    \u001b[0m\u001b[38;5;33m \u001b[0m│\u001b[32m \u001b[0m\u001b[32m  MH9143275   \u001b[0m\u001b[32m \u001b[0m│\u001b[38;5;128m \u001b[0m\u001b[38;5;128m        114        \u001b[0m\u001b[38;5;128m \u001b[0m│\n",
       "│\u001b[38;5;33m \u001b[0m\u001b[38;5;33m                    \u001b[0m\u001b[38;5;33m \u001b[0m│\u001b[32m \u001b[0m\u001b[32m  MH9143276   \u001b[0m\u001b[32m \u001b[0m│\u001b[38;5;128m \u001b[0m\u001b[38;5;128m        115        \u001b[0m\u001b[38;5;128m \u001b[0m│\n",
       "│\u001b[38;5;33m \u001b[0m\u001b[38;5;33m                    \u001b[0m\u001b[38;5;33m \u001b[0m│\u001b[32m \u001b[0m\u001b[32m  MH9143277   \u001b[0m\u001b[32m \u001b[0m│\u001b[38;5;128m \u001b[0m\u001b[38;5;128m        116        \u001b[0m\u001b[38;5;128m \u001b[0m│\n",
       "│\u001b[38;5;33m \u001b[0m\u001b[38;5;33m                    \u001b[0m\u001b[38;5;33m \u001b[0m│\u001b[32m \u001b[0m\u001b[32m  MH9143320   \u001b[0m\u001b[32m \u001b[0m│\u001b[38;5;128m \u001b[0m\u001b[38;5;128m        117        \u001b[0m\u001b[38;5;128m \u001b[0m│\n",
       "│\u001b[38;5;33m \u001b[0m\u001b[38;5;33m                    \u001b[0m\u001b[38;5;33m \u001b[0m│\u001b[32m \u001b[0m\u001b[32m  MH9143321   \u001b[0m\u001b[32m \u001b[0m│\u001b[38;5;128m \u001b[0m\u001b[38;5;128m        118        \u001b[0m\u001b[38;5;128m \u001b[0m│\n",
       "│\u001b[38;5;33m \u001b[0m\u001b[38;5;33m                    \u001b[0m\u001b[38;5;33m \u001b[0m│\u001b[32m \u001b[0m\u001b[32m  MH9143322   \u001b[0m\u001b[32m \u001b[0m│\u001b[38;5;128m \u001b[0m\u001b[38;5;128m        119        \u001b[0m\u001b[38;5;128m \u001b[0m│\n",
       "│\u001b[38;5;33m \u001b[0m\u001b[38;5;33m                    \u001b[0m\u001b[38;5;33m \u001b[0m│\u001b[32m \u001b[0m\u001b[32m  MH9143323   \u001b[0m\u001b[32m \u001b[0m│\u001b[38;5;128m \u001b[0m\u001b[38;5;128m        120        \u001b[0m\u001b[38;5;128m \u001b[0m│\n",
       "│\u001b[38;5;33m \u001b[0m\u001b[38;5;33m                    \u001b[0m\u001b[38;5;33m \u001b[0m│\u001b[32m \u001b[0m\u001b[32m  MH9143324   \u001b[0m\u001b[32m \u001b[0m│\u001b[38;5;128m \u001b[0m\u001b[38;5;128m        121        \u001b[0m\u001b[38;5;128m \u001b[0m│\n",
       "│\u001b[38;5;33m \u001b[0m\u001b[38;5;33m                    \u001b[0m\u001b[38;5;33m \u001b[0m│\u001b[32m \u001b[0m\u001b[32m  MH9143325   \u001b[0m\u001b[32m \u001b[0m│\u001b[38;5;128m \u001b[0m\u001b[38;5;128m        122        \u001b[0m\u001b[38;5;128m \u001b[0m│\n",
       "│\u001b[38;5;33m \u001b[0m\u001b[38;5;33m                    \u001b[0m\u001b[38;5;33m \u001b[0m│\u001b[32m \u001b[0m\u001b[32m  MH9143326   \u001b[0m\u001b[32m \u001b[0m│\u001b[38;5;128m \u001b[0m\u001b[38;5;128m        123        \u001b[0m\u001b[38;5;128m \u001b[0m│\n",
       "│\u001b[38;5;33m \u001b[0m\u001b[38;5;33m                    \u001b[0m\u001b[38;5;33m \u001b[0m│\u001b[32m \u001b[0m\u001b[32m  MH9143327   \u001b[0m\u001b[32m \u001b[0m│\u001b[38;5;128m \u001b[0m\u001b[38;5;128m        124        \u001b[0m\u001b[38;5;128m \u001b[0m│\n",
       "│\u001b[38;5;33m \u001b[0m\u001b[38;5;33m                    \u001b[0m\u001b[38;5;33m \u001b[0m│\u001b[32m \u001b[0m\u001b[32m  MH9143370   \u001b[0m\u001b[32m \u001b[0m│\u001b[38;5;128m \u001b[0m\u001b[38;5;128m        125        \u001b[0m\u001b[38;5;128m \u001b[0m│\n",
       "│\u001b[38;5;33m \u001b[0m\u001b[38;5;33m                    \u001b[0m\u001b[38;5;33m \u001b[0m│\u001b[32m \u001b[0m\u001b[32m  MH9143371   \u001b[0m\u001b[32m \u001b[0m│\u001b[38;5;128m \u001b[0m\u001b[38;5;128m        126        \u001b[0m\u001b[38;5;128m \u001b[0m│\n",
       "│\u001b[38;5;33m \u001b[0m\u001b[38;5;33m                    \u001b[0m\u001b[38;5;33m \u001b[0m│\u001b[32m \u001b[0m\u001b[32m  MH9143372   \u001b[0m\u001b[32m \u001b[0m│\u001b[38;5;128m \u001b[0m\u001b[38;5;128m        127        \u001b[0m\u001b[38;5;128m \u001b[0m│\n",
       "│\u001b[38;5;33m \u001b[0m\u001b[38;5;33m                    \u001b[0m\u001b[38;5;33m \u001b[0m│\u001b[32m \u001b[0m\u001b[32m  MH9143373   \u001b[0m\u001b[32m \u001b[0m│\u001b[38;5;128m \u001b[0m\u001b[38;5;128m        128        \u001b[0m\u001b[38;5;128m \u001b[0m│\n",
       "│\u001b[38;5;33m \u001b[0m\u001b[38;5;33m                    \u001b[0m\u001b[38;5;33m \u001b[0m│\u001b[32m \u001b[0m\u001b[32m  MH9143420   \u001b[0m\u001b[32m \u001b[0m│\u001b[38;5;128m \u001b[0m\u001b[38;5;128m        129        \u001b[0m\u001b[38;5;128m \u001b[0m│\n",
       "│\u001b[38;5;33m \u001b[0m\u001b[38;5;33m                    \u001b[0m\u001b[38;5;33m \u001b[0m│\u001b[32m \u001b[0m\u001b[32m  MH9143421   \u001b[0m\u001b[32m \u001b[0m│\u001b[38;5;128m \u001b[0m\u001b[38;5;128m        130        \u001b[0m\u001b[38;5;128m \u001b[0m│\n",
       "│\u001b[38;5;33m \u001b[0m\u001b[38;5;33m                    \u001b[0m\u001b[38;5;33m \u001b[0m│\u001b[32m \u001b[0m\u001b[32m  MH9143422   \u001b[0m\u001b[32m \u001b[0m│\u001b[38;5;128m \u001b[0m\u001b[38;5;128m        131        \u001b[0m\u001b[38;5;128m \u001b[0m│\n",
       "│\u001b[38;5;33m \u001b[0m\u001b[38;5;33m                    \u001b[0m\u001b[38;5;33m \u001b[0m│\u001b[32m \u001b[0m\u001b[32m  MH9143423   \u001b[0m\u001b[32m \u001b[0m│\u001b[38;5;128m \u001b[0m\u001b[38;5;128m        132        \u001b[0m\u001b[38;5;128m \u001b[0m│\n",
       "│\u001b[38;5;33m \u001b[0m\u001b[38;5;33m                    \u001b[0m\u001b[38;5;33m \u001b[0m│\u001b[32m \u001b[0m\u001b[32m  MH9143424   \u001b[0m\u001b[32m \u001b[0m│\u001b[38;5;128m \u001b[0m\u001b[38;5;128m        133        \u001b[0m\u001b[38;5;128m \u001b[0m│\n",
       "│\u001b[38;5;33m \u001b[0m\u001b[38;5;33m                    \u001b[0m\u001b[38;5;33m \u001b[0m│\u001b[32m \u001b[0m\u001b[32m  MH9143425   \u001b[0m\u001b[32m \u001b[0m│\u001b[38;5;128m \u001b[0m\u001b[38;5;128m        134        \u001b[0m\u001b[38;5;128m \u001b[0m│\n",
       "│\u001b[38;5;33m \u001b[0m\u001b[38;5;33m                    \u001b[0m\u001b[38;5;33m \u001b[0m│\u001b[32m \u001b[0m\u001b[32m  MH9143426   \u001b[0m\u001b[32m \u001b[0m│\u001b[38;5;128m \u001b[0m\u001b[38;5;128m        135        \u001b[0m\u001b[38;5;128m \u001b[0m│\n",
       "│\u001b[38;5;33m \u001b[0m\u001b[38;5;33m                    \u001b[0m\u001b[38;5;33m \u001b[0m│\u001b[32m \u001b[0m\u001b[32m  MH9143427   \u001b[0m\u001b[32m \u001b[0m│\u001b[38;5;128m \u001b[0m\u001b[38;5;128m        136        \u001b[0m\u001b[38;5;128m \u001b[0m│\n",
       "│\u001b[38;5;33m \u001b[0m\u001b[38;5;33m                    \u001b[0m\u001b[38;5;33m \u001b[0m│\u001b[32m \u001b[0m\u001b[32m  MH9179821   \u001b[0m\u001b[32m \u001b[0m│\u001b[38;5;128m \u001b[0m\u001b[38;5;128m        137        \u001b[0m\u001b[38;5;128m \u001b[0m│\n",
       "│\u001b[38;5;33m \u001b[0m\u001b[38;5;33m                    \u001b[0m\u001b[38;5;33m \u001b[0m│\u001b[32m \u001b[0m\u001b[32m  MH9179822   \u001b[0m\u001b[32m \u001b[0m│\u001b[38;5;128m \u001b[0m\u001b[38;5;128m        138        \u001b[0m\u001b[38;5;128m \u001b[0m│\n",
       "│\u001b[38;5;33m \u001b[0m\u001b[38;5;33m                    \u001b[0m\u001b[38;5;33m \u001b[0m│\u001b[32m \u001b[0m\u001b[32m  MH9179823   \u001b[0m\u001b[32m \u001b[0m│\u001b[38;5;128m \u001b[0m\u001b[38;5;128m        139        \u001b[0m\u001b[38;5;128m \u001b[0m│\n",
       "│\u001b[38;5;33m \u001b[0m\u001b[38;5;33m                    \u001b[0m\u001b[38;5;33m \u001b[0m│\u001b[32m \u001b[0m\u001b[32m  MH9179824   \u001b[0m\u001b[32m \u001b[0m│\u001b[38;5;128m \u001b[0m\u001b[38;5;128m        140        \u001b[0m\u001b[38;5;128m \u001b[0m│\n",
       "│\u001b[38;5;33m \u001b[0m\u001b[38;5;33m                    \u001b[0m\u001b[38;5;33m \u001b[0m│\u001b[32m \u001b[0m\u001b[32m  MH9179825   \u001b[0m\u001b[32m \u001b[0m│\u001b[38;5;128m \u001b[0m\u001b[38;5;128m        141        \u001b[0m\u001b[38;5;128m \u001b[0m│\n",
       "│\u001b[38;5;33m \u001b[0m\u001b[38;5;33m                    \u001b[0m\u001b[38;5;33m \u001b[0m│\u001b[32m \u001b[0m\u001b[32m  MH9179826   \u001b[0m\u001b[32m \u001b[0m│\u001b[38;5;128m \u001b[0m\u001b[38;5;128m        142        \u001b[0m\u001b[38;5;128m \u001b[0m│\n",
       "│\u001b[38;5;33m \u001b[0m\u001b[38;5;33m                    \u001b[0m\u001b[38;5;33m \u001b[0m│\u001b[32m \u001b[0m\u001b[32m  MH9179827   \u001b[0m\u001b[32m \u001b[0m│\u001b[38;5;128m \u001b[0m\u001b[38;5;128m        143        \u001b[0m\u001b[38;5;128m \u001b[0m│\n",
       "│\u001b[38;5;33m \u001b[0m\u001b[38;5;33m                    \u001b[0m\u001b[38;5;33m \u001b[0m│\u001b[32m \u001b[0m\u001b[32m  MH9179828   \u001b[0m\u001b[32m \u001b[0m│\u001b[38;5;128m \u001b[0m\u001b[38;5;128m        144        \u001b[0m\u001b[38;5;128m \u001b[0m│\n",
       "│\u001b[38;5;33m \u001b[0m\u001b[38;5;33m                    \u001b[0m\u001b[38;5;33m \u001b[0m│\u001b[32m \u001b[0m\u001b[32m   Unknown    \u001b[0m\u001b[32m \u001b[0m│\u001b[38;5;128m \u001b[0m\u001b[38;5;128m        145        \u001b[0m\u001b[38;5;128m \u001b[0m│\n",
       "│\u001b[38;5;33m \u001b[0m\u001b[38;5;33m                    \u001b[0m\u001b[38;5;33m \u001b[0m│\u001b[32m \u001b[0m\u001b[32mnewcastle004v2\u001b[0m\u001b[32m \u001b[0m│\u001b[38;5;128m \u001b[0m\u001b[38;5;128m        146        \u001b[0m\u001b[38;5;128m \u001b[0m│\n",
       "│\u001b[38;5;33m \u001b[0m\u001b[38;5;33m                    \u001b[0m\u001b[38;5;33m \u001b[0m│\u001b[32m \u001b[0m\u001b[32m newcastle20  \u001b[0m\u001b[32m \u001b[0m│\u001b[38;5;128m \u001b[0m\u001b[38;5;128m        147        \u001b[0m\u001b[38;5;128m \u001b[0m│\n",
       "│\u001b[38;5;33m \u001b[0m\u001b[38;5;33m                    \u001b[0m\u001b[38;5;33m \u001b[0m│\u001b[32m \u001b[0m\u001b[32m newcastle21  \u001b[0m\u001b[32m \u001b[0m│\u001b[38;5;128m \u001b[0m\u001b[38;5;128m        148        \u001b[0m\u001b[38;5;128m \u001b[0m│\n",
       "│\u001b[38;5;33m \u001b[0m\u001b[38;5;33m                    \u001b[0m\u001b[38;5;33m \u001b[0m│\u001b[32m \u001b[0m\u001b[32mnewcastle21v2 \u001b[0m\u001b[32m \u001b[0m│\u001b[38;5;128m \u001b[0m\u001b[38;5;128m        149        \u001b[0m\u001b[38;5;128m \u001b[0m│\n",
       "│\u001b[38;5;33m \u001b[0m\u001b[38;5;33m                    \u001b[0m\u001b[38;5;33m \u001b[0m│\u001b[32m \u001b[0m\u001b[32m newcastle49  \u001b[0m\u001b[32m \u001b[0m│\u001b[38;5;128m \u001b[0m\u001b[38;5;128m        150        \u001b[0m\u001b[38;5;128m \u001b[0m│\n",
       "│\u001b[38;5;33m \u001b[0m\u001b[38;5;33m                    \u001b[0m\u001b[38;5;33m \u001b[0m│\u001b[32m \u001b[0m\u001b[32m newcastle59  \u001b[0m\u001b[32m \u001b[0m│\u001b[38;5;128m \u001b[0m\u001b[38;5;128m        151        \u001b[0m\u001b[38;5;128m \u001b[0m│\n",
       "│\u001b[38;5;33m \u001b[0m\u001b[38;5;33m                    \u001b[0m\u001b[38;5;33m \u001b[0m│\u001b[32m \u001b[0m\u001b[32m newcastle65  \u001b[0m\u001b[32m \u001b[0m│\u001b[38;5;128m \u001b[0m\u001b[38;5;128m        152        \u001b[0m\u001b[38;5;128m \u001b[0m│\n",
       "│\u001b[38;5;33m \u001b[0m\u001b[38;5;33m                    \u001b[0m\u001b[38;5;33m \u001b[0m│\u001b[32m \u001b[0m\u001b[32m newcastle74  \u001b[0m\u001b[32m \u001b[0m│\u001b[38;5;128m \u001b[0m\u001b[38;5;128m        153        \u001b[0m\u001b[38;5;128m \u001b[0m│\n",
       "└──────────────────────┴────────────────┴─────────────────────┘\n"
      ]
     },
     "metadata": {},
     "output_type": "display_data"
    }
   ],
   "source": [
    "scvi.data.view_anndata_setup(adata_final)"
   ]
  },
  {
   "cell_type": "code",
   "execution_count": 30,
   "id": "athletic-softball",
   "metadata": {},
   "outputs": [
    {
     "data": {
      "text/html": [
       "<pre style=\"white-space:pre;overflow-x:auto;line-height:normal;font-family:Menlo,'DejaVu Sans Mono',consolas,'Courier New',monospace\">TotalVI Model with the following params: \n",
       "n_latent: <span style=\"color: #008080; text-decoration-color: #008080; font-weight: bold\">20</span>, gene_dispersion: gene, protein_dispersion: protein, gene_likelihood: nb, \n",
       "latent_distribution: normal\n",
       "Training status: Not Trained\n",
       "</pre>\n"
      ],
      "text/plain": [
       "TotalVI Model with the following params: \n",
       "n_latent: \u001b[1;36m20\u001b[0m, gene_dispersion: gene, protein_dispersion: protein, gene_likelihood: nb, \n",
       "latent_distribution: normal\n",
       "Training status: Not Trained\n"
      ]
     },
     "metadata": {},
     "output_type": "display_data"
    },
    {
     "data": {
      "text/html": [
       "<pre style=\"white-space:pre;overflow-x:auto;line-height:normal;font-family:Menlo,'DejaVu Sans Mono',consolas,'Courier New',monospace\">\n",
       "\n",
       "To print summary of associated AnnData, use: <span style=\"color: #af00d7; text-decoration-color: #af00d7\">scvi.data.view_anndata_setup(model.adata)</span>\n",
       "</pre>\n"
      ],
      "text/plain": [
       "\n",
       "\n",
       "To print summary of associated AnnData, use: \u001b[38;5;128mscvi.data.view_anndata_setup(model.adata)\u001b[0m\n"
      ]
     },
     "metadata": {},
     "output_type": "display_data"
    },
    {
     "data": {
      "text/plain": []
     },
     "execution_count": 30,
     "metadata": {},
     "output_type": "execute_result"
    }
   ],
   "source": [
    "totalvae = scvi.model.TOTALVI(\n",
    "    adata_final,\n",
    "    latent_distribution = \"normal\",\n",
    "    n_layers_decoder = 2)\n",
    "\n",
    "totalvae"
   ]
  },
  {
   "cell_type": "code",
   "execution_count": 31,
   "id": "numeric-medicine",
   "metadata": {},
   "outputs": [
    {
     "name": "stderr",
     "output_type": "stream",
     "text": [
      "/home/jlakkis/miniconda3/envs/scipen/lib/python3.7/site-packages/ipykernel/ipkernel.py:287: DeprecationWarning: `should_run_async` will not call `transform_cell` automatically in the future. Please pass the result to `transformed_cell` argument and any exception that happen during thetransform in `preprocessing_exc_tuple` in IPython 7.17 and above.\n",
      "  and should_run_async(code)\n"
     ]
    },
    {
     "name": "stdout",
     "output_type": "stream",
     "text": [
      "\u001b[34mINFO    \u001b[0m Found batches with missing protein expression                                       \n",
      "\u001b[34mINFO    \u001b[0m Using data from adata.X                                                             \n",
      "\u001b[34mINFO    \u001b[0m Computing library size prior per batch                                              \n",
      "\u001b[34mINFO    \u001b[0m Registered keys:\u001b[1m[\u001b[0m\u001b[32m'X'\u001b[0m, \u001b[32m'batch_indices'\u001b[0m, \u001b[32m'local_l_mean'\u001b[0m, \u001b[32m'local_l_var'\u001b[0m, \u001b[32m'labels'\u001b[0m,     \n",
      "         \u001b[32m'protein_expression'\u001b[0m\u001b[1m]\u001b[0m                                                               \n",
      "\u001b[34mINFO    \u001b[0m Successfully registered anndata object containing \u001b[1;36m885867\u001b[0m cells, \u001b[1;36m1000\u001b[0m vars, \u001b[1;36m154\u001b[0m      \n",
      "         batches, \u001b[1;36m1\u001b[0m labels, and \u001b[1;36m110\u001b[0m proteins. Also registered \u001b[1;36m0\u001b[0m extra categorical covariates \n",
      "         and \u001b[1;36m0\u001b[0m extra continuous covariates.                                                  \n"
     ]
    }
   ],
   "source": [
    "# Training with the default number of epochs \n",
    "n_epochs = 400\n",
    "lr = 4e-5\n",
    "\n",
    "# Training with the default number of epochs (has an early stoping mechanism)\n",
    "\n",
    "if os.path.isdir(\"weights_dir/totalVI_Covid2_to_Covid1_Dual\"):\n",
    "    totalvae = totalvae.load(\"weights_dir/totalVI_Covid2_to_Covid1_Dual\", adata = adata_final)\n",
    "else:\n",
    "    totalvae.train(n_epochs, lr)\n",
    "    totalvae.save(\"weights_dir/totalVI_Covid2_to_Covid1_Dual\")"
   ]
  },
  {
   "cell_type": "code",
   "execution_count": 32,
   "id": "intelligent-weapon",
   "metadata": {},
   "outputs": [
    {
     "name": "stderr",
     "output_type": "stream",
     "text": [
      "/home/jlakkis/miniconda3/envs/scipen/lib/python3.7/site-packages/ipykernel/ipkernel.py:287: DeprecationWarning: `should_run_async` will not call `transform_cell` automatically in the future. Please pass the result to `transformed_cell` argument and any exception that happen during thetransform in `preprocessing_exc_tuple` in IPython 7.17 and above.\n",
      "  and should_run_async(code)\n"
     ]
    },
    {
     "data": {
      "text/plain": [
       "[<matplotlib.lines.Line2D at 0x2b4d91276630>]"
      ]
     },
     "execution_count": 32,
     "metadata": {},
     "output_type": "execute_result"
    },
    {
     "data": {
      "image/png": "[encoded data removed]",
      "text/plain": [
       "<Figure size 400x400 with 1 Axes>"
      ]
     },
     "metadata": {
      "needs_background": "light"
     },
     "output_type": "display_data"
    }
   ],
   "source": [
    "plt.plot(totalvae.history[\"elbo_validation\"], label=\"test\")"
   ]
  },
  {
   "cell_type": "code",
   "execution_count": 33,
   "id": "thousand-semester",
   "metadata": {},
   "outputs": [
    {
     "name": "stdout",
     "output_type": "stream",
     "text": [
      "load\n"
     ]
    }
   ],
   "source": [
    "# To compare to the held-out data we also include the background component of expression\n",
    "# This would be the mean of the negative binomial mixture\n",
    "\n",
    "\n",
    "if not os.path.isfile('covid_imputedDual.csv'):\n",
    "    _, protein_means = totalvae.get_normalized_expression(\n",
    "        transform_batch=train_patients,\n",
    "        include_protein_background=True,\n",
    "        sample_protein_mixing=False,\n",
    "        return_mean=True)\n",
    "    \n",
    "    protein_means.to_csv('covid_imputedDual.csv')\n",
    "    \n",
    "else:\n",
    "    print(\"load\")\n",
    "    \n",
    "    protein_means = pd.read_csv('covid_imputedDual.csv', index_col = 0)"
   ]
  },
  {
   "cell_type": "code",
   "execution_count": 34,
   "id": "twelve-elephant",
   "metadata": {},
   "outputs": [],
   "source": [
    "X_totalVI = pd.DataFrame(totalvae.get_latent_representation(), index = adata_final.obs.index)\n",
    "X_totalVI.to_csv(\"totalvi_covidintegrateembedding.csv\")"
   ]
  },
  {
   "cell_type": "markdown",
   "id": "recovered-thanksgiving",
   "metadata": {},
   "source": [
    "# Imputed protein expression:"
   ]
  },
  {
   "cell_type": "code",
   "execution_count": 37,
   "id": "mounted-princeton",
   "metadata": {},
   "outputs": [],
   "source": [
    "imputed_test1 = protein_means.loc[cells_train][proteins2]\n",
    "\n",
    "pat_names = adata_final.obs['patient'].isin(train_patients)\n",
    "patients = adata_final.obs.patient[pat_names].values\n",
    "truth_test1 = pd.DataFrame(testset1_truth_[cells_train, proteins2].X.toarray(), index = testset1_truth_[cells_train].obs.index,\n",
    "                           columns = testset1_truth_.var.index)# Subset totalvi output to only include overlapping proteins"
   ]
  },
  {
   "cell_type": "code",
   "execution_count": 38,
   "id": "floating-syntax",
   "metadata": {},
   "outputs": [],
   "source": [
    "def corr2_coeff(A, B, pearson = True):\n",
    "    if pearson:\n",
    "        # Rowwise mean of input arrays & subtract from input arrays themeselves\n",
    "        A_mA = A - A.mean(1)[:, None]\n",
    "        B_mB = B - B.mean(1)[:, None]\n",
    "\n",
    "        # Sum of squares across rows\n",
    "        ssA = (A_mA**2).sum(1)\n",
    "        ssB = (B_mB**2).sum(1)\n",
    "\n",
    "        # Finally get corr coeff\n",
    "        corr_mat = np.dot(A_mA, B_mB.T) / np.sqrt(np.dot(ssA[:, None],ssB[None]))\n",
    "        return corr_mat[range(corr_mat.shape[0]), range(corr_mat.shape[0])]\n",
    "    \n",
    "    else:\n",
    "        corrs = [0.] * A.shape[0]\n",
    "        \n",
    "        for i in range(A.shape[0]):\n",
    "            corrs[i] = spearmanr(A[i], B[i])[0]\n",
    "            \n",
    "        return corrs"
   ]
  },
  {
   "cell_type": "code",
   "execution_count": 39,
   "id": "meaningful-bedroom",
   "metadata": {},
   "outputs": [
    {
     "name": "stderr",
     "output_type": "stream",
     "text": [
      "/home/jlakkis/miniconda3/envs/scipen/lib/python3.7/site-packages/scanpy/preprocessing/_simple.py:810: UserWarning: Revieved a view of an AnnData. Making a copy.\n",
      "  view_to_actual(adata)\n",
      "/home/jlakkis/miniconda3/envs/scipen/lib/python3.7/site-packages/numpy/core/fromnumeric.py:3373: RuntimeWarning: Mean of empty slice.\n",
      "  out=out, **kwargs)\n",
      "/home/jlakkis/miniconda3/envs/scipen/lib/python3.7/site-packages/numpy/core/_methods.py:163: RuntimeWarning: invalid value encountered in true_divide\n",
      "  ret, rcount, out=ret, casting='unsafe', subok=False)\n",
      "/home/jlakkis/miniconda3/envs/scipen/lib/python3.7/site-packages/scanpy/preprocessing/_utils.py:11: RuntimeWarning: Mean of empty slice.\n",
      "  mean_sq = np.multiply(X, X).mean(axis=axis, dtype=np.float64)\n"
     ]
    }
   ],
   "source": [
    "# Normalize totalvi output, and gold standard counts\n",
    "\n",
    "true_protein_test = truth_test1.copy()\n",
    "true_protein_test = AnnData(true_protein_test.copy())\n",
    "imputed_proteins_test = AnnData(imputed_test1.copy())\n",
    "\n",
    "sc.pp.normalize_total(true_protein_test)\n",
    "sc.pp.log1p(true_protein_test)\n",
    "\n",
    "sc.pp.normalize_total(imputed_proteins_test)\n",
    "sc.pp.log1p(imputed_proteins_test)\n",
    "\n",
    "for patient in test_patients:\n",
    "    indices = [x == patient for x in patients]\n",
    "    sub_adata = imputed_proteins_test[indices]\n",
    "    sc.pp.scale(sub_adata)\n",
    "    imputed_proteins_test[indices] = sub_adata.X\n",
    "    \n",
    "    sub_adata = true_protein_test[indices]\n",
    "    sc.pp.scale(sub_adata)\n",
    "    true_protein_test[indices] = sub_adata.X"
   ]
  },
  {
   "cell_type": "code",
   "execution_count": 40,
   "id": "solid-girlfriend",
   "metadata": {},
   "outputs": [],
   "source": [
    "sq = lambda x, y: (x - y)**2"
   ]
  },
  {
   "cell_type": "code",
   "execution_count": 41,
   "id": "threaded-environment",
   "metadata": {},
   "outputs": [
    {
     "name": "stderr",
     "output_type": "stream",
     "text": [
      "/home/jlakkis/miniconda3/envs/scipen/lib/python3.7/site-packages/ipykernel_launcher.py:12: RuntimeWarning: invalid value encountered in true_divide\n",
      "  if sys.path[0] == '':\n"
     ]
    }
   ],
   "source": [
    "corrs_table = np.zeros((imputed_proteins_test.shape[1], len(np.unique(patients))))\n",
    "sq_table = corrs_table.copy()\n",
    "\n",
    "for i, patient in enumerate(np.unique(patients)):\n",
    "    truth = true_protein_test[patients == patient].X\n",
    "    imputed = imputed_proteins_test[patients == patient].X\n",
    "\n",
    "    corrs_table[:, i] = corr2_coeff(truth.T, imputed.T)\n",
    "    sq_table[:, i] = sq(truth, imputed).mean(axis = 0)\n",
    "\n",
    "if np.isnan(corrs_table).sum() > 0:\n",
    "    corrs_table[np.isnan(corrs_table)] = 0\n",
    "    \n",
    "corrs_table = pd.DataFrame(corrs_table)\n",
    "sq_table = pd.DataFrame(sq_table)\n",
    "corrs_table.index, corrs_table.columns = imputed_proteins_test.var.index, np.unique(patients)\n",
    "sq_table.index, sq_table.columns = imputed_proteins_test.var.index, np.unique(patients)"
   ]
  },
  {
   "cell_type": "code",
   "execution_count": 43,
   "id": "fewer-liverpool",
   "metadata": {},
   "outputs": [
    {
     "data": {
      "text/plain": [
       "AP1              0.056374\n",
       "AP10             0.055177\n",
       "AP11             0.039170\n",
       "AP12             0.092520\n",
       "AP2              0.049647\n",
       "                   ...   \n",
       "newcastle21v2    0.081470\n",
       "newcastle49      0.060218\n",
       "newcastle59      0.072382\n",
       "newcastle65      0.106288\n",
       "newcastle74      0.107140\n",
       "Length: 143, dtype: float64"
      ]
     },
     "execution_count": 43,
     "metadata": {},
     "output_type": "execute_result"
    }
   ],
   "source": [
    "#here are correlations\n",
    "\n",
    "corrs_table.mean()"
   ]
  },
  {
   "cell_type": "code",
   "execution_count": 44,
   "id": "economic-productivity",
   "metadata": {
    "scrolled": true
   },
   "outputs": [
    {
     "data": {
      "text/plain": [
       "0.08809002472018182"
      ]
     },
     "execution_count": 44,
     "metadata": {},
     "output_type": "execute_result"
    }
   ],
   "source": [
    "corrs_table.mean().mean()"
   ]
  },
  {
   "cell_type": "code",
   "execution_count": 45,
   "id": "geological-polls",
   "metadata": {},
   "outputs": [],
   "source": [
    "corrs_table.to_csv('corrs_results/totalvi_covidintegratebig.csv')"
   ]
  },
  {
   "cell_type": "code",
   "execution_count": 46,
   "id": "simple-nashville",
   "metadata": {},
   "outputs": [
    {
     "data": {
      "text/plain": [
       "AP1              3.605315\n",
       "AP10             3.676826\n",
       "AP11             3.727594\n",
       "AP12             3.613965\n",
       "AP2              3.208691\n",
       "                   ...   \n",
       "newcastle21v2    4.115707\n",
       "newcastle49      4.087601\n",
       "newcastle59      3.940603\n",
       "newcastle65      4.023078\n",
       "newcastle74      3.964806\n",
       "Length: 143, dtype: float64"
      ]
     },
     "execution_count": 46,
     "metadata": {},
     "output_type": "execute_result"
    }
   ],
   "source": [
    "sq_table.mean(axis = 0)"
   ]
  },
  {
   "cell_type": "code",
   "execution_count": 47,
   "id": "sorted-assurance",
   "metadata": {},
   "outputs": [
    {
     "data": {
      "text/plain": [
       "3.6279559554291385"
      ]
     },
     "execution_count": 47,
     "metadata": {},
     "output_type": "execute_result"
    }
   ],
   "source": [
    "sq_table.mean().mean()"
   ]
  },
  {
   "cell_type": "code",
   "execution_count": 48,
   "id": "level-orleans",
   "metadata": {},
   "outputs": [],
   "source": [
    "sq_table.to_csv('mse_results/totalvi_covidintegratebig.csv')"
   ]
  },
  {
   "cell_type": "code",
   "execution_count": 50,
   "id": "hollow-pacific",
   "metadata": {},
   "outputs": [],
   "source": [
    "imputed_proteins_test = pd.DataFrame(imputed_proteins_test.X, index = imputed_proteins_test.obs.index, columns = imputed_proteins_test.var.index)\n",
    "imputed_proteins_test.to_csv('totalvi_covidintegratebigfeatures.csv')"
   ]
  },
  {
   "cell_type": "code",
   "execution_count": 51,
   "id": "certain-saturday",
   "metadata": {},
   "outputs": [],
   "source": [
    "imputed_test2 = protein_means.loc[cells_test][proteins1]\n",
    "\n",
    "pat_names = adata_final.obs['patient'].isin(test_patients)\n",
    "patients = adata_final.obs.patient[pat_names].values\n",
    "truth_test2 = pd.DataFrame(testset2_truth_[cells_test, proteins1].X.toarray(), index = testset2_truth_[cells_test].obs.index,\n",
    "                           columns = testset2_truth_.var.index)# Subset totalvi output to only include overlapping proteins"
   ]
  },
  {
   "cell_type": "code",
   "execution_count": 52,
   "id": "searching-librarian",
   "metadata": {},
   "outputs": [],
   "source": [
    "# Normalize totalvi output, and gold standard counts\n",
    "\n",
    "true_protein_test = truth_test2.copy()\n",
    "true_protein_test = AnnData(true_protein_test.copy())\n",
    "imputed_proteins_test = AnnData(imputed_test2.copy())\n",
    "\n",
    "sc.pp.normalize_total(true_protein_test)\n",
    "sc.pp.log1p(true_protein_test)\n",
    "\n",
    "sc.pp.normalize_total(imputed_proteins_test)\n",
    "sc.pp.log1p(imputed_proteins_test)\n",
    "\n",
    "for patient in test_patients:\n",
    "    indices = [x == patient for x in patients]\n",
    "    sub_adata = imputed_proteins_test[indices]\n",
    "    sc.pp.scale(sub_adata)\n",
    "    imputed_proteins_test[indices] = sub_adata.X\n",
    "    \n",
    "    sub_adata = true_protein_test[indices]\n",
    "    sc.pp.scale(sub_adata)\n",
    "    true_protein_test[indices] = sub_adata.X"
   ]
  },
  {
   "cell_type": "code",
   "execution_count": 53,
   "id": "spiritual-longitude",
   "metadata": {},
   "outputs": [],
   "source": [
    "corrs_table = np.zeros((imputed_proteins_test.shape[1], len(np.unique(patients))))\n",
    "sq_table = corrs_table.copy()\n",
    "\n",
    "for i, patient in enumerate(np.unique(patients)):\n",
    "    truth = true_protein_test[patients == patient].X\n",
    "    imputed = imputed_proteins_test[patients == patient].X\n",
    "\n",
    "    corrs_table[:, i] = corr2_coeff(truth.T, imputed.T)\n",
    "    sq_table[:, i] = sq(truth, imputed).mean(axis = 0)\n",
    "    \n",
    "if np.isnan(corrs_table).sum() > 0:\n",
    "    corrs_table[np.isnan(corrs_table)] = 0\n",
    "    \n",
    "corrs_table = pd.DataFrame(corrs_table)\n",
    "sq_table = pd.DataFrame(sq_table)\n",
    "corrs_table.index, corrs_table.columns = imputed_proteins_test.var.index, np.unique(patients)\n",
    "sq_table.index, sq_table.columns = imputed_proteins_test.var.index, np.unique(patients)"
   ]
  },
  {
   "cell_type": "code",
   "execution_count": 55,
   "id": "practical-roots",
   "metadata": {},
   "outputs": [
    {
     "data": {
      "text/plain": [
       "GWAS_1     0.321327\n",
       "GWAS_10    0.250454\n",
       "GWAS_11    0.320759\n",
       "GWAS_12    0.318926\n",
       "GWAS_13    0.319578\n",
       "GWAS_2     0.386581\n",
       "GWAS_3     0.438282\n",
       "GWAS_4     0.262598\n",
       "GWAS_5     0.303890\n",
       "GWAS_8     0.335444\n",
       "Unknown    0.259342\n",
       "dtype: float64"
      ]
     },
     "execution_count": 55,
     "metadata": {},
     "output_type": "execute_result"
    }
   ],
   "source": [
    "#here are correlations\n",
    "\n",
    "corrs_table.mean()"
   ]
  },
  {
   "cell_type": "code",
   "execution_count": 56,
   "id": "mathematical-terry",
   "metadata": {
    "scrolled": true
   },
   "outputs": [
    {
     "data": {
      "text/plain": [
       "0.319743864346168"
      ]
     },
     "execution_count": 56,
     "metadata": {},
     "output_type": "execute_result"
    }
   ],
   "source": [
    "corrs_table.mean().mean()"
   ]
  },
  {
   "cell_type": "code",
   "execution_count": 57,
   "id": "related-bride",
   "metadata": {},
   "outputs": [],
   "source": [
    "corrs_table.to_csv('corrs_results/totalvi_covidintegratesmall.csv')"
   ]
  },
  {
   "cell_type": "code",
   "execution_count": 58,
   "id": "other-mount",
   "metadata": {},
   "outputs": [
    {
     "data": {
      "text/plain": [
       "GWAS_1     1.357240\n",
       "GWAS_10    1.499050\n",
       "GWAS_11    1.358355\n",
       "GWAS_12    1.362034\n",
       "GWAS_13    1.360740\n",
       "GWAS_2     1.226742\n",
       "GWAS_3     1.123350\n",
       "GWAS_4     1.474736\n",
       "GWAS_5     1.392202\n",
       "GWAS_8     1.329058\n",
       "Unknown    1.481230\n",
       "dtype: float64"
      ]
     },
     "execution_count": 58,
     "metadata": {},
     "output_type": "execute_result"
    }
   ],
   "source": [
    "sq_table.mean(axis = 0)"
   ]
  },
  {
   "cell_type": "code",
   "execution_count": 59,
   "id": "imperial-newspaper",
   "metadata": {},
   "outputs": [
    {
     "data": {
      "text/plain": [
       "1.360430715417979"
      ]
     },
     "execution_count": 59,
     "metadata": {},
     "output_type": "execute_result"
    }
   ],
   "source": [
    "sq_table.mean().mean()"
   ]
  },
  {
   "cell_type": "code",
   "execution_count": 60,
   "id": "bacterial-shame",
   "metadata": {},
   "outputs": [],
   "source": [
    "sq_table.to_csv('mse_results/totalvi_covidintegratesmall.csv')"
   ]
  },
  {
   "cell_type": "code",
   "execution_count": 61,
   "id": "surrounded-words",
   "metadata": {},
   "outputs": [],
   "source": [
    "imputed_proteins_test = pd.DataFrame(imputed_proteins_test.X, index = imputed_proteins_test.obs.index, columns = imputed_proteins_test.var.index)\n",
    "imputed_proteins_test.to_csv('totalvi_covidintegratesmallfeatures.csv')"
   ]
  },
  {
   "cell_type": "code",
   "execution_count": 62,
   "id": "starting-former",
   "metadata": {},
   "outputs": [],
   "source": [
    "corrs_table.to_csv('totalvi_covid.csv')"
   ]
  }
 ],
 "metadata": {
  "kernelspec": {
   "display_name": "“scipen”",
   "language": "python",
   "name": "scipen"
  },
  "language_info": {
   "codemirror_mode": {
    "name": "ipython",
    "version": 3
   },
   "file_extension": ".py",
   "mimetype": "text/x-python",
   "name": "python",
   "nbconvert_exporter": "python",
   "pygments_lexer": "ipython3",
   "version": "3.7.0"
  }
 },
 "nbformat": 4,
 "nbformat_minor": 5
}
