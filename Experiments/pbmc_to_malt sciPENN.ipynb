{
 "cells": [
  {
   "cell_type": "code",
   "execution_count": 1,
   "metadata": {},
   "outputs": [],
   "source": [
    "%load_ext autoreload\n",
    "%autoreload 2\n",
    "\n",
    "import numpy as np\n",
    "from matplotlib import pyplot\n",
    "\n",
    "from copy import deepcopy\n",
    "\n",
    "from time import time\n",
    "\n",
    "from math import ceil\n",
    "from scipy.stats import spearmanr, gamma, poisson\n",
    "\n",
    "from anndata import AnnData, read_h5ad\n",
    "import scanpy as sc\n",
    "from scanpy import read\n",
    "import pandas as pd\n",
    "from scipy.io import mmread\n",
    "from sciPENN.sciPENN_API import sciPENN_API"
   ]
  },
  {
   "cell_type": "code",
   "execution_count": 2,
   "metadata": {},
   "outputs": [],
   "source": [
    "adata_protein = sc.read_h5ad('../Data/pbmc/pbmc_protein.h5ad')\n",
    "adata_gene = sc.read_h5ad('../Data/pbmc/pbmc_gene.h5ad')"
   ]
  },
  {
   "cell_type": "code",
   "execution_count": 3,
   "metadata": {},
   "outputs": [
    {
     "name": "stderr",
     "output_type": "stream",
     "text": [
      "Variable names are not unique. To make them unique, call `.var_names_make_unique`.\n",
      "Variable names are not unique. To make them unique, call `.var_names_make_unique`.\n"
     ]
    }
   ],
   "source": [
    "adata_malt_gene = sc.read_10x_h5(\"../Data/malt_10k_protein_v3_filtered_feature_bc_matrix.h5\")"
   ]
  },
  {
   "cell_type": "code",
   "execution_count": 4,
   "metadata": {},
   "outputs": [],
   "source": [
    "adata_malt = sc.read(\"../Data/filtered_feature_bc_matrix/matrix.mtx\").T\n",
    "malt_features =  pd.read_csv(\"../Data/filtered_feature_bc_matrix/features.tsv\", sep=\"\\t\", header=None)"
   ]
  },
  {
   "cell_type": "code",
   "execution_count": 5,
   "metadata": {},
   "outputs": [],
   "source": [
    "adata_malt.var[\"feature_type\"] = list(malt_features[2])\n",
    "adata_malt.obs_names = adata_malt_gene.obs_names\n",
    "adata_malt.var['protein_names'] = list(malt_features[0])\n",
    "adata_malt.var_names = list(malt_features[0])"
   ]
  },
  {
   "cell_type": "code",
   "execution_count": 6,
   "metadata": {},
   "outputs": [],
   "source": [
    "adata_malt_protein = adata_malt[:,adata_malt.var['feature_type'] == 'Antibody Capture']"
   ]
  },
  {
   "cell_type": "code",
   "execution_count": 7,
   "metadata": {},
   "outputs": [],
   "source": [
    "adata_malt_gene.var_names_make_unique()"
   ]
  },
  {
   "cell_type": "code",
   "execution_count": 8,
   "metadata": {},
   "outputs": [],
   "source": [
    "adata_gene_test = adata_malt_gene.copy()"
   ]
  },
  {
   "cell_type": "code",
   "execution_count": 9,
   "metadata": {},
   "outputs": [
    {
     "data": {
      "text/plain": [
       "AnnData object with n_obs × n_vars = 8412 × 17\n",
       "    obs: 'sample'\n",
       "    var: 'feature_type', 'protein_names'"
      ]
     },
     "execution_count": 9,
     "metadata": {},
     "output_type": "execute_result"
    }
   ],
   "source": [
    "adata_protein_test = adata_malt_protein.copy()\n",
    "adata_protein_test.obs['sample'] = [1]*8412\n",
    "adata_protein_test"
   ]
  },
  {
   "cell_type": "code",
   "execution_count": 10,
   "metadata": {},
   "outputs": [
    {
     "data": {
      "text/plain": [
       "['CD19',\n",
       " 'CD45RA',\n",
       " 'CD8a',\n",
       " 'CD14',\n",
       " 'CD25',\n",
       " 'CD45RO',\n",
       " 'TIGIT',\n",
       " 'CD127',\n",
       " 'CD15',\n",
       " 'CD16']"
      ]
     },
     "execution_count": 10,
     "metadata": {},
     "output_type": "execute_result"
    }
   ],
   "source": [
    "ref = set(adata_protein_test.var.index)\n",
    "\n",
    "prots = []\n",
    "for x in adata_protein.var.index:\n",
    "    if x in ref:\n",
    "        prots.append(x)\n",
    "        \n",
    "prots"
   ]
  },
  {
   "cell_type": "code",
   "execution_count": 11,
   "metadata": {},
   "outputs": [
    {
     "data": {
      "text/plain": [
       "4.0437083"
      ]
     },
     "execution_count": 11,
     "metadata": {},
     "output_type": "execute_result"
    }
   ],
   "source": [
    "adata_protein_test[:, prots].X.mean()/adata_protein[:, prots].X.mean()"
   ]
  },
  {
   "cell_type": "code",
   "execution_count": 12,
   "metadata": {},
   "outputs": [],
   "source": [
    "common_genes = np.intersect1d(adata_gene.var.index, adata_gene_test.var.index)\n",
    "common_proteins = np.intersect1d(adata_protein.var.index, adata_protein_test.var.index)"
   ]
  },
  {
   "cell_type": "code",
   "execution_count": 13,
   "metadata": {
    "scrolled": true
   },
   "outputs": [
    {
     "name": "stdout",
     "output_type": "stream",
     "text": [
      "Searching for GPU\n",
      "GPU detected, using GPU\n",
      "\n",
      "QC Filtering Training Cells\n",
      "QC Filtering Testing Cells\n",
      "\n",
      "QC Filtering Training Genes\n",
      "QC Filtering Testing Genes\n",
      "\n",
      "Normalizing Training Cells\n",
      "Normalizing Testing Cells\n",
      "\n",
      "Log-Normalizing Training Data\n",
      "Log-Normalizing Testing Data\n",
      "\n",
      "Finding HVGs\n"
     ]
    },
    {
     "name": "stderr",
     "output_type": "stream",
     "text": [
      "... storing 'orig.ident' as categorical\n",
      "... storing 'lane' as categorical\n",
      "... storing 'donor' as categorical\n",
      "... storing 'time' as categorical\n",
      "... storing 'celltype.l1' as categorical\n",
      "... storing 'celltype.l2' as categorical\n",
      "... storing 'celltype.l3' as categorical\n",
      "... storing 'Phase' as categorical\n",
      "... storing 'batch' as categorical\n",
      "... storing 'Dataset' as categorical\n",
      "... storing 'feature_types-1' as categorical\n",
      "... storing 'genome-1' as categorical\n",
      "/home/jlakkis/miniconda3/envs/scipen/lib/python3.7/site-packages/pandas/core/indexing.py:670: SettingWithCopyWarning: \n",
      "A value is trying to be set on a copy of a slice from a DataFrame\n",
      "\n",
      "See the caveats in the documentation: https://pandas.pydata.org/pandas-docs/stable/user_guide/indexing.html#returning-a-view-versus-a-copy\n",
      "  iloc._setitem_with_indexer(indexer, value)\n"
     ]
    },
    {
     "name": "stdout",
     "output_type": "stream",
     "text": [
      "\n",
      "Normalizing Gene Training Data by Batch\n"
     ]
    },
    {
     "name": "stderr",
     "output_type": "stream",
     "text": [
      "100%|██████████| 8/8 [00:05<00:00,  1.51it/s]\n"
     ]
    },
    {
     "name": "stdout",
     "output_type": "stream",
     "text": [
      "\n",
      "Normalizing Protein Training Data by Batch\n"
     ]
    },
    {
     "name": "stderr",
     "output_type": "stream",
     "text": [
      "100%|██████████| 8/8 [00:02<00:00,  3.16it/s]\n"
     ]
    },
    {
     "name": "stdout",
     "output_type": "stream",
     "text": [
      "\n",
      "Normalizing Gene Testing Data by Batch\n"
     ]
    },
    {
     "name": "stderr",
     "output_type": "stream",
     "text": [
      "100%|██████████| 1/1 [00:00<00:00,  5.27it/s]\n"
     ]
    }
   ],
   "source": [
    "sciPENN = sciPENN_API([adata_gene], [adata_protein], adata_gene_test, train_batchkeys = ['donor'])"
   ]
  },
  {
   "cell_type": "code",
   "execution_count": 14,
   "metadata": {},
   "outputs": [
    {
     "name": "stdout",
     "output_type": "stream",
     "text": [
      "Epoch 0 prediction loss = 1.393\n",
      "Epoch 1 prediction loss = 0.883\n",
      "Epoch 2 prediction loss = 0.874\n",
      "Epoch 3 prediction loss = 0.873\n",
      "Epoch 4 prediction loss = 0.870\n",
      "Epoch 5 prediction loss = 0.868\n",
      "Epoch 6 prediction loss = 0.867\n",
      "Epoch 7 prediction loss = 0.867\n",
      "Epoch 8 prediction loss = 0.864\n",
      "Epoch 9 prediction loss = 0.864\n",
      "Epoch 10 prediction loss = 0.865\n",
      "Decaying loss to 0.0001\n",
      "Epoch 11 prediction loss = 0.854\n",
      "Epoch 12 prediction loss = 0.854\n",
      "Epoch 13 prediction loss = 0.853\n",
      "Epoch 14 prediction loss = 0.853\n",
      "Epoch 15 prediction loss = 0.854\n",
      "Epoch 16 prediction loss = 0.853\n",
      "Decaying loss to 1e-05\n",
      "Epoch 17 prediction loss = 0.852\n",
      "Epoch 18 prediction loss = 0.852\n",
      "Epoch 19 prediction loss = 0.852\n",
      "Epoch 20 prediction loss = 0.852\n",
      "Epoch 21 prediction loss = 0.851\n",
      "Epoch 22 prediction loss = 0.854\n",
      "Decaying loss to 1.0000000000000002e-06\n",
      "Epoch 23 prediction loss = 0.852\n"
     ]
    },
    {
     "data": {
      "text/plain": [
       "517.3066282272339"
      ]
     },
     "execution_count": 14,
     "metadata": {},
     "output_type": "execute_result"
    }
   ],
   "source": [
    "start = time()\n",
    "sciPENN.train(n_epochs = 10000, ES_max = 12, decay_max = 6, \n",
    "             decay_step = 0.1, lr = 10**(-3), weights_dir = \"weights_dir/pbmc_to_malt\")\n",
    "imputed_test = sciPENN.predict()\n",
    "time() - start"
   ]
  },
  {
   "cell_type": "code",
   "execution_count": 15,
   "metadata": {},
   "outputs": [
    {
     "name": "stderr",
     "output_type": "stream",
     "text": [
      "... storing 'batch' as categorical\n"
     ]
    }
   ],
   "source": [
    "embedding = sciPENN.embed()\n",
    "embedding.write(\"scipenn_maltembedding.h5ad\")"
   ]
  },
  {
   "cell_type": "code",
   "execution_count": 16,
   "metadata": {},
   "outputs": [],
   "source": [
    "def corr2_coeff(A, B, pearson = True):\n",
    "    if pearson:\n",
    "        # Rowwise mean of input arrays & subtract from input arrays themeselves\n",
    "        A_mA = A - A.mean(1)[:, None]\n",
    "        B_mB = B - B.mean(1)[:, None]\n",
    "\n",
    "        # Sum of squares across rows\n",
    "        ssA = (A_mA**2).sum(1)\n",
    "        ssB = (B_mB**2).sum(1)\n",
    "\n",
    "        # Finally get corr coeff\n",
    "        corr_mat = np.dot(A_mA, B_mB.T) / np.sqrt(np.dot(ssA[:, None],ssB[None]))\n",
    "        \n",
    "        return corr_mat[range(corr_mat.shape[0]), range(corr_mat.shape[0])]\n",
    "    \n",
    "    else:\n",
    "        corrs = [0.] * A.shape[0]\n",
    "        \n",
    "        for i in range(A.shape[0]):\n",
    "            corrs[i] = spearmanr(A[i], B[i])[0]\n",
    "            \n",
    "        return corrs"
   ]
  },
  {
   "cell_type": "code",
   "execution_count": 17,
   "metadata": {},
   "outputs": [
    {
     "name": "stderr",
     "output_type": "stream",
     "text": [
      "/home/jlakkis/miniconda3/envs/scipen/lib/python3.7/site-packages/scanpy/preprocessing/_normalization.py:138: UserWarning: Revieved a view of an AnnData. Making a copy.\n",
      "  view_to_actual(adata)\n",
      "/home/jlakkis/miniconda3/envs/scipen/lib/python3.7/site-packages/scanpy/preprocessing/_simple.py:810: UserWarning: Revieved a view of an AnnData. Making a copy.\n",
      "  view_to_actual(adata)\n"
     ]
    }
   ],
   "source": [
    "adata_protein_test.X = adata_protein_test.X.toarray()\n",
    "adata_protein_test.layers[\"raw\"] = adata_protein_test.X\n",
    "\n",
    "adata_protein_test = adata_protein_test[imputed_test.obs.index]\n",
    "\n",
    "sc.pp.normalize_total(adata_protein_test)\n",
    "sc.pp.log1p(adata_protein_test)\n",
    "sc.pp.filter_genes(adata_protein_test, min_counts = 1)\n",
    "\n",
    "common_proteins = np.intersect1d(imputed_test.var.index, adata_protein_test.var.index)\n",
    "\n",
    "adata_protein_test = adata_protein_test[:, common_proteins]\n",
    "adata_protein_test.layers['imputed'] = imputed_test[:, common_proteins].X\n",
    "adata_protein_test.layers.update(imputed_test[:, common_proteins].layers)\n",
    "\n",
    "patients = np.unique(adata_protein_test.obs['sample'].values)\n",
    "\n",
    "for patient in patients:\n",
    "    indices = [x == patient for x in adata_protein_test.obs['sample']]\n",
    "    sub_adata = adata_protein_test[indices]\n",
    "\n",
    "    sc.pp.scale(sub_adata)\n",
    "    adata_protein_test[indices] = sub_adata.X"
   ]
  },
  {
   "cell_type": "code",
   "execution_count": 18,
   "metadata": {},
   "outputs": [
    {
     "data": {
      "text/html": [
       "<div>\n",
       "<style scoped>\n",
       "    .dataframe tbody tr th:only-of-type {\n",
       "        vertical-align: middle;\n",
       "    }\n",
       "\n",
       "    .dataframe tbody tr th {\n",
       "        vertical-align: top;\n",
       "    }\n",
       "\n",
       "    .dataframe thead th {\n",
       "        text-align: right;\n",
       "    }\n",
       "</style>\n",
       "<table border=\"1\" class=\"dataframe\">\n",
       "  <thead>\n",
       "    <tr style=\"text-align: right;\">\n",
       "      <th></th>\n",
       "      <th>0</th>\n",
       "    </tr>\n",
       "  </thead>\n",
       "  <tbody>\n",
       "    <tr>\n",
       "      <th>CD127</th>\n",
       "      <td>0.524693</td>\n",
       "    </tr>\n",
       "    <tr>\n",
       "      <th>CD14</th>\n",
       "      <td>0.265639</td>\n",
       "    </tr>\n",
       "    <tr>\n",
       "      <th>CD15</th>\n",
       "      <td>0.447974</td>\n",
       "    </tr>\n",
       "    <tr>\n",
       "      <th>CD16</th>\n",
       "      <td>0.372127</td>\n",
       "    </tr>\n",
       "    <tr>\n",
       "      <th>CD19</th>\n",
       "      <td>0.623805</td>\n",
       "    </tr>\n",
       "    <tr>\n",
       "      <th>CD25</th>\n",
       "      <td>0.187476</td>\n",
       "    </tr>\n",
       "    <tr>\n",
       "      <th>CD45RA</th>\n",
       "      <td>0.698331</td>\n",
       "    </tr>\n",
       "    <tr>\n",
       "      <th>CD45RO</th>\n",
       "      <td>0.721276</td>\n",
       "    </tr>\n",
       "    <tr>\n",
       "      <th>CD8a</th>\n",
       "      <td>0.731953</td>\n",
       "    </tr>\n",
       "    <tr>\n",
       "      <th>TIGIT</th>\n",
       "      <td>0.474912</td>\n",
       "    </tr>\n",
       "  </tbody>\n",
       "</table>\n",
       "</div>"
      ],
      "text/plain": [
       "               0\n",
       "CD127   0.524693\n",
       "CD14    0.265639\n",
       "CD15    0.447974\n",
       "CD16    0.372127\n",
       "CD19    0.623805\n",
       "CD25    0.187476\n",
       "CD45RA  0.698331\n",
       "CD45RO  0.721276\n",
       "CD8a    0.731953\n",
       "TIGIT   0.474912"
      ]
     },
     "execution_count": 18,
     "metadata": {},
     "output_type": "execute_result"
    }
   ],
   "source": [
    "corrs = corr2_coeff(adata_protein_test.layers[\"imputed\"].T, adata_protein_test.X.T)\n",
    "corrs = pd.DataFrame(corrs)\n",
    "corrs.index = adata_protein_test.var.index\n",
    "corrs = corrs.dropna()\n",
    "corrs"
   ]
  },
  {
   "cell_type": "code",
   "execution_count": 19,
   "metadata": {
    "scrolled": true
   },
   "outputs": [
    {
     "data": {
      "text/plain": [
       "0    0.504819\n",
       "dtype: float32"
      ]
     },
     "execution_count": 19,
     "metadata": {},
     "output_type": "execute_result"
    }
   ],
   "source": [
    "corrs.mean()"
   ]
  },
  {
   "cell_type": "code",
   "execution_count": 20,
   "metadata": {},
   "outputs": [],
   "source": [
    "corrs.to_csv('corrs_results/scipenn_malt.csv')"
   ]
  },
  {
   "cell_type": "code",
   "execution_count": 21,
   "metadata": {},
   "outputs": [
    {
     "data": {
      "text/html": [
       "<div>\n",
       "<style scoped>\n",
       "    .dataframe tbody tr th:only-of-type {\n",
       "        vertical-align: middle;\n",
       "    }\n",
       "\n",
       "    .dataframe tbody tr th {\n",
       "        vertical-align: top;\n",
       "    }\n",
       "\n",
       "    .dataframe thead th {\n",
       "        text-align: right;\n",
       "    }\n",
       "</style>\n",
       "<table border=\"1\" class=\"dataframe\">\n",
       "  <thead>\n",
       "    <tr style=\"text-align: right;\">\n",
       "      <th></th>\n",
       "      <th>0</th>\n",
       "    </tr>\n",
       "  </thead>\n",
       "  <tbody>\n",
       "    <tr>\n",
       "      <th>CD127</th>\n",
       "      <td>0.773271</td>\n",
       "    </tr>\n",
       "    <tr>\n",
       "      <th>CD14</th>\n",
       "      <td>1.043640</td>\n",
       "    </tr>\n",
       "    <tr>\n",
       "      <th>CD15</th>\n",
       "      <td>0.815751</td>\n",
       "    </tr>\n",
       "    <tr>\n",
       "      <th>CD16</th>\n",
       "      <td>0.885526</td>\n",
       "    </tr>\n",
       "    <tr>\n",
       "      <th>CD19</th>\n",
       "      <td>0.649970</td>\n",
       "    </tr>\n",
       "    <tr>\n",
       "      <th>CD25</th>\n",
       "      <td>1.299394</td>\n",
       "    </tr>\n",
       "    <tr>\n",
       "      <th>CD45RA</th>\n",
       "      <td>0.513036</td>\n",
       "    </tr>\n",
       "    <tr>\n",
       "      <th>CD45RO</th>\n",
       "      <td>0.529429</td>\n",
       "    </tr>\n",
       "    <tr>\n",
       "      <th>CD8a</th>\n",
       "      <td>0.466745</td>\n",
       "    </tr>\n",
       "    <tr>\n",
       "      <th>TIGIT</th>\n",
       "      <td>0.799552</td>\n",
       "    </tr>\n",
       "  </tbody>\n",
       "</table>\n",
       "</div>"
      ],
      "text/plain": [
       "               0\n",
       "CD127   0.773271\n",
       "CD14    1.043640\n",
       "CD15    0.815751\n",
       "CD16    0.885526\n",
       "CD19    0.649970\n",
       "CD25    1.299394\n",
       "CD45RA  0.513036\n",
       "CD45RO  0.529429\n",
       "CD8a    0.466745\n",
       "TIGIT   0.799552"
      ]
     },
     "execution_count": 21,
     "metadata": {},
     "output_type": "execute_result"
    }
   ],
   "source": [
    "sq = lambda x, y: (x - y)**2\n",
    "\n",
    "sqs = sq(adata_protein_test.layers[\"imputed\"], adata_protein_test.X).mean(axis = 0)\n",
    "sqs = pd.DataFrame(sqs)\n",
    "sqs.index = adata_protein_test.var.index\n",
    "sqs"
   ]
  },
  {
   "cell_type": "code",
   "execution_count": 22,
   "metadata": {},
   "outputs": [
    {
     "data": {
      "text/plain": [
       "0    0.777631\n",
       "dtype: float32"
      ]
     },
     "execution_count": 22,
     "metadata": {},
     "output_type": "execute_result"
    }
   ],
   "source": [
    "sqs.mean()"
   ]
  },
  {
   "cell_type": "code",
   "execution_count": 23,
   "metadata": {},
   "outputs": [],
   "source": [
    "sqs.to_csv('mse_results/scipenn_malt.csv')"
   ]
  },
  {
   "cell_type": "code",
   "execution_count": 24,
   "metadata": {},
   "outputs": [
    {
     "name": "stdout",
     "output_type": "stream",
     "text": [
      "Effective Coverage Probability for Nominal 50% PI: 0.395\n"
     ]
    }
   ],
   "source": [
    "r95 = (adata_protein_test.X < adata_protein_test.layers['q75'])\n",
    "l95 = (adata_protein_test.X > adata_protein_test.layers['q25'])\n",
    "\n",
    "print(f\"Effective Coverage Probability for Nominal 50% PI: {(r95*l95).mean():.3f}\")"
   ]
  },
  {
   "cell_type": "code",
   "execution_count": 25,
   "metadata": {},
   "outputs": [
    {
     "name": "stdout",
     "output_type": "stream",
     "text": [
      "Effective Coverage Probability for Nominal 80% PI: 0.672\n"
     ]
    }
   ],
   "source": [
    "r95 = (adata_protein_test.X < adata_protein_test.layers['q90'])\n",
    "l95 = (adata_protein_test.X > adata_protein_test.layers['q10'])\n",
    "\n",
    "print(f\"Effective Coverage Probability for Nominal 80% PI: {(r95*l95).mean():.3f}\")"
   ]
  },
  {
   "cell_type": "code",
   "execution_count": 26,
   "metadata": {},
   "outputs": [
    {
     "name": "stderr",
     "output_type": "stream",
     "text": [
      "... storing 'feature_type' as categorical\n"
     ]
    }
   ],
   "source": [
    "adata_protein_test.write(\"scipenn_maltfeatures.h5ad\")"
   ]
  }
 ],
 "metadata": {
  "kernelspec": {
   "display_name": "“scipen”",
   "language": "python",
   "name": "scipen"
  },
  "language_info": {
   "codemirror_mode": {
    "name": "ipython",
    "version": 3
   },
   "file_extension": ".py",
   "mimetype": "text/x-python",
   "name": "python",
   "nbconvert_exporter": "python",
   "pygments_lexer": "ipython3",
   "version": "3.7.0"
  }
 },
 "nbformat": 4,
 "nbformat_minor": 4
}
